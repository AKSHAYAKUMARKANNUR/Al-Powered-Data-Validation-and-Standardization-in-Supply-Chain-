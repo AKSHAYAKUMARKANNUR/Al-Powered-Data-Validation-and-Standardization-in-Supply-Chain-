{
  "cells": [
    {
      "cell_type": "code",
      "execution_count": 1,
      "metadata": {
        "id": "t4SHE5Z8k9bp"
      },
      "outputs": [],
      "source": [
        "# Import necessary libraries\n",
        "import pandas as pd\n",
        "import numpy as np\n",
        "import matplotlib.pyplot as plt"
      ]
    },
    {
      "cell_type": "code",
      "execution_count": 2,
      "metadata": {
        "colab": {
          "base_uri": "https://localhost:8080/",
          "height": 669
        },
        "id": "EZyzu_DOk-pt",
        "outputId": "162d22ee-ee99-46f3-c265-92bea17249cd"
      },
      "outputs": [
        {
          "data": {
            "text/html": [
              "<div>\n",
              "<style scoped>\n",
              "    .dataframe tbody tr th:only-of-type {\n",
              "        vertical-align: middle;\n",
              "    }\n",
              "\n",
              "    .dataframe tbody tr th {\n",
              "        vertical-align: top;\n",
              "    }\n",
              "\n",
              "    .dataframe thead th {\n",
              "        text-align: right;\n",
              "    }\n",
              "</style>\n",
              "<table border=\"1\" class=\"dataframe\">\n",
              "  <thead>\n",
              "    <tr style=\"text-align: right;\">\n",
              "      <th></th>\n",
              "      <th>Product type</th>\n",
              "      <th>SKU</th>\n",
              "      <th>Price</th>\n",
              "      <th>Availability</th>\n",
              "      <th>Number of products sold</th>\n",
              "      <th>Revenue generated</th>\n",
              "      <th>Customer demographics</th>\n",
              "      <th>Stock levels</th>\n",
              "      <th>Lead times</th>\n",
              "      <th>Order quantities</th>\n",
              "      <th>...</th>\n",
              "      <th>Location</th>\n",
              "      <th>Lead time</th>\n",
              "      <th>Production volumes</th>\n",
              "      <th>Manufacturing lead time</th>\n",
              "      <th>Manufacturing costs</th>\n",
              "      <th>Inspection results</th>\n",
              "      <th>Defect rates</th>\n",
              "      <th>Transportation modes</th>\n",
              "      <th>Routes</th>\n",
              "      <th>Costs</th>\n",
              "    </tr>\n",
              "  </thead>\n",
              "  <tbody>\n",
              "    <tr>\n",
              "      <th>0</th>\n",
              "      <td>haircare</td>\n",
              "      <td>SKU0</td>\n",
              "      <td>69.80800554</td>\n",
              "      <td>55</td>\n",
              "      <td>802</td>\n",
              "      <td>8661.996792</td>\n",
              "      <td>Non-binary</td>\n",
              "      <td>58</td>\n",
              "      <td>7</td>\n",
              "      <td>96</td>\n",
              "      <td>...</td>\n",
              "      <td>Mumbai</td>\n",
              "      <td>29</td>\n",
              "      <td>215</td>\n",
              "      <td>29.0</td>\n",
              "      <td>46.279879</td>\n",
              "      <td>Pending</td>\n",
              "      <td>0.226410361</td>\n",
              "      <td>Road</td>\n",
              "      <td>Route B</td>\n",
              "      <td>187.7520755</td>\n",
              "    </tr>\n",
              "    <tr>\n",
              "      <th>1</th>\n",
              "      <td>skincare</td>\n",
              "      <td>SKU1</td>\n",
              "      <td>14.84352328</td>\n",
              "      <td>95</td>\n",
              "      <td>736</td>\n",
              "      <td>7460.900065</td>\n",
              "      <td>Female</td>\n",
              "      <td>53</td>\n",
              "      <td>30</td>\n",
              "      <td>37</td>\n",
              "      <td>...</td>\n",
              "      <td>Mumbai</td>\n",
              "      <td>23</td>\n",
              "      <td>517</td>\n",
              "      <td>30.0</td>\n",
              "      <td>33.616769</td>\n",
              "      <td>Pending</td>\n",
              "      <td>4.854068026</td>\n",
              "      <td>Road</td>\n",
              "      <td>Route B</td>\n",
              "      <td>503.0655791</td>\n",
              "    </tr>\n",
              "    <tr>\n",
              "      <th>2</th>\n",
              "      <td>haircare</td>\n",
              "      <td>SKU2</td>\n",
              "      <td>11.31968329</td>\n",
              "      <td>34</td>\n",
              "      <td>NAN</td>\n",
              "      <td>9577.749626</td>\n",
              "      <td>Unknown</td>\n",
              "      <td>1</td>\n",
              "      <td>10</td>\n",
              "      <td>88</td>\n",
              "      <td>...</td>\n",
              "      <td>Mumbai</td>\n",
              "      <td>12</td>\n",
              "      <td>971</td>\n",
              "      <td>27.0</td>\n",
              "      <td>30.688019</td>\n",
              "      <td>Pending</td>\n",
              "      <td>4.580592619</td>\n",
              "      <td>Air</td>\n",
              "      <td>Route C</td>\n",
              "      <td>141.9202818</td>\n",
              "    </tr>\n",
              "    <tr>\n",
              "      <th>3</th>\n",
              "      <td>skincare</td>\n",
              "      <td>SKU3</td>\n",
              "      <td>61.16334302</td>\n",
              "      <td>68</td>\n",
              "      <td>NaN</td>\n",
              "      <td>NAN</td>\n",
              "      <td>Non-binary</td>\n",
              "      <td>23</td>\n",
              "      <td>13</td>\n",
              "      <td>59</td>\n",
              "      <td>...</td>\n",
              "      <td>Kolkata</td>\n",
              "      <td>24</td>\n",
              "      <td>937</td>\n",
              "      <td>18.0</td>\n",
              "      <td>35.624741</td>\n",
              "      <td>Fail</td>\n",
              "      <td>4.746648621</td>\n",
              "      <td>Rail</td>\n",
              "      <td>Route A</td>\n",
              "      <td>254.7761592</td>\n",
              "    </tr>\n",
              "    <tr>\n",
              "      <th>4</th>\n",
              "      <td>skincare</td>\n",
              "      <td>SKU4</td>\n",
              "      <td>4.805496036</td>\n",
              "      <td>26</td>\n",
              "      <td>871</td>\n",
              "      <td>2686.505152</td>\n",
              "      <td>Non-binary</td>\n",
              "      <td>5</td>\n",
              "      <td>3</td>\n",
              "      <td>56</td>\n",
              "      <td>...</td>\n",
              "      <td>Delhi</td>\n",
              "      <td>5</td>\n",
              "      <td>414</td>\n",
              "      <td>3.0</td>\n",
              "      <td>92.065161</td>\n",
              "      <td>Fail</td>\n",
              "      <td>3.145579523</td>\n",
              "      <td>Air</td>\n",
              "      <td>Route A</td>\n",
              "      <td>923.4406317</td>\n",
              "    </tr>\n",
              "    <tr>\n",
              "      <th>...</th>\n",
              "      <td>...</td>\n",
              "      <td>...</td>\n",
              "      <td>...</td>\n",
              "      <td>...</td>\n",
              "      <td>...</td>\n",
              "      <td>...</td>\n",
              "      <td>...</td>\n",
              "      <td>...</td>\n",
              "      <td>...</td>\n",
              "      <td>...</td>\n",
              "      <td>...</td>\n",
              "      <td>...</td>\n",
              "      <td>...</td>\n",
              "      <td>...</td>\n",
              "      <td>...</td>\n",
              "      <td>...</td>\n",
              "      <td>...</td>\n",
              "      <td>...</td>\n",
              "      <td>...</td>\n",
              "      <td>...</td>\n",
              "      <td>...</td>\n",
              "    </tr>\n",
              "    <tr>\n",
              "      <th>95</th>\n",
              "      <td>haircare</td>\n",
              "      <td>SKU95</td>\n",
              "      <td>77.90392722</td>\n",
              "      <td>65</td>\n",
              "      <td>672</td>\n",
              "      <td>7386.363944</td>\n",
              "      <td>Unknown</td>\n",
              "      <td>15</td>\n",
              "      <td>14</td>\n",
              "      <td>26</td>\n",
              "      <td>...</td>\n",
              "      <td>Mumbai</td>\n",
              "      <td>18</td>\n",
              "      <td>450</td>\n",
              "      <td>26.0</td>\n",
              "      <td>58.890686</td>\n",
              "      <td>Pending</td>\n",
              "      <td>1.21088213</td>\n",
              "      <td>Air</td>\n",
              "      <td>Route A</td>\n",
              "      <td>778.8642414</td>\n",
              "    </tr>\n",
              "    <tr>\n",
              "      <th>96</th>\n",
              "      <td>cosmetics</td>\n",
              "      <td>SKU96</td>\n",
              "      <td>24.42313142</td>\n",
              "      <td>29</td>\n",
              "      <td>324</td>\n",
              "      <td>7698.424766</td>\n",
              "      <td>Non-binary</td>\n",
              "      <td>67</td>\n",
              "      <td>2</td>\n",
              "      <td>32</td>\n",
              "      <td>...</td>\n",
              "      <td>Mumbai</td>\n",
              "      <td>28</td>\n",
              "      <td>648</td>\n",
              "      <td>28.0</td>\n",
              "      <td>17.803756</td>\n",
              "      <td>Pending</td>\n",
              "      <td>3.872047681</td>\n",
              "      <td>Road</td>\n",
              "      <td>Route A</td>\n",
              "      <td>NAN</td>\n",
              "    </tr>\n",
              "    <tr>\n",
              "      <th>97</th>\n",
              "      <td>haircare</td>\n",
              "      <td>SKU97</td>\n",
              "      <td>3.526111259</td>\n",
              "      <td>56</td>\n",
              "      <td>62</td>\n",
              "      <td>4370.91658</td>\n",
              "      <td>Male</td>\n",
              "      <td>46</td>\n",
              "      <td>19</td>\n",
              "      <td>4</td>\n",
              "      <td>...</td>\n",
              "      <td>Mumbai</td>\n",
              "      <td>10</td>\n",
              "      <td>535</td>\n",
              "      <td>13.0</td>\n",
              "      <td>65.765156</td>\n",
              "      <td>Fail</td>\n",
              "      <td>3.376237835</td>\n",
              "      <td>Road</td>\n",
              "      <td>Route A</td>\n",
              "      <td>540.1324229</td>\n",
              "    </tr>\n",
              "    <tr>\n",
              "      <th>98</th>\n",
              "      <td>skincare</td>\n",
              "      <td>SKU98</td>\n",
              "      <td>19.75460487</td>\n",
              "      <td>43</td>\n",
              "      <td>913</td>\n",
              "      <td>8525.95256</td>\n",
              "      <td>Female</td>\n",
              "      <td>53</td>\n",
              "      <td>1</td>\n",
              "      <td>27</td>\n",
              "      <td>...</td>\n",
              "      <td>Chennai</td>\n",
              "      <td>28</td>\n",
              "      <td>581</td>\n",
              "      <td>9.0</td>\n",
              "      <td>5.604691</td>\n",
              "      <td>Pending</td>\n",
              "      <td>2.908122169</td>\n",
              "      <td>Rail</td>\n",
              "      <td>Route A</td>\n",
              "      <td>882.1988635</td>\n",
              "    </tr>\n",
              "    <tr>\n",
              "      <th>99</th>\n",
              "      <td>haircare</td>\n",
              "      <td>SKU99</td>\n",
              "      <td>68.5178327</td>\n",
              "      <td>17</td>\n",
              "      <td>627</td>\n",
              "      <td>9185.185829</td>\n",
              "      <td>Unknown</td>\n",
              "      <td>55</td>\n",
              "      <td>8</td>\n",
              "      <td>59</td>\n",
              "      <td>...</td>\n",
              "      <td>Chennai</td>\n",
              "      <td>29</td>\n",
              "      <td>921</td>\n",
              "      <td>2.0</td>\n",
              "      <td>38.072899</td>\n",
              "      <td>Fail</td>\n",
              "      <td>0.346027291</td>\n",
              "      <td>Rail</td>\n",
              "      <td>Route B</td>\n",
              "      <td>210.743009</td>\n",
              "    </tr>\n",
              "  </tbody>\n",
              "</table>\n",
              "<p>100 rows × 24 columns</p>\n",
              "</div>"
            ],
            "text/plain": [
              "   Product type    SKU        Price Availability Number of products sold  \\\n",
              "0      haircare   SKU0  69.80800554           55                     802   \n",
              "1      skincare   SKU1  14.84352328           95                     736   \n",
              "2      haircare   SKU2  11.31968329           34                     NAN   \n",
              "3      skincare   SKU3  61.16334302           68                     NaN   \n",
              "4      skincare   SKU4  4.805496036           26                     871   \n",
              "..          ...    ...          ...          ...                     ...   \n",
              "95     haircare  SKU95  77.90392722           65                     672   \n",
              "96    cosmetics  SKU96  24.42313142           29                     324   \n",
              "97     haircare  SKU97  3.526111259           56                      62   \n",
              "98     skincare  SKU98  19.75460487           43                     913   \n",
              "99     haircare  SKU99   68.5178327           17                     627   \n",
              "\n",
              "   Revenue generated Customer demographics  Stock levels Lead times  \\\n",
              "0        8661.996792            Non-binary            58          7   \n",
              "1        7460.900065                Female            53         30   \n",
              "2        9577.749626               Unknown             1         10   \n",
              "3                NAN            Non-binary            23         13   \n",
              "4        2686.505152            Non-binary             5          3   \n",
              "..               ...                   ...           ...        ...   \n",
              "95       7386.363944               Unknown            15         14   \n",
              "96       7698.424766            Non-binary            67          2   \n",
              "97        4370.91658                  Male            46         19   \n",
              "98        8525.95256                Female            53          1   \n",
              "99       9185.185829               Unknown            55          8   \n",
              "\n",
              "   Order quantities  ... Location Lead time Production volumes  \\\n",
              "0                96  ...   Mumbai        29                215   \n",
              "1                37  ...   Mumbai        23                517   \n",
              "2                88  ...   Mumbai        12                971   \n",
              "3                59  ...  Kolkata        24                937   \n",
              "4                56  ...    Delhi         5                414   \n",
              "..              ...  ...      ...       ...                ...   \n",
              "95               26  ...   Mumbai        18                450   \n",
              "96               32  ...   Mumbai        28                648   \n",
              "97                4  ...   Mumbai        10                535   \n",
              "98               27  ...  Chennai        28                581   \n",
              "99               59  ...  Chennai        29                921   \n",
              "\n",
              "   Manufacturing lead time Manufacturing costs Inspection results  \\\n",
              "0                     29.0           46.279879            Pending   \n",
              "1                     30.0           33.616769            Pending   \n",
              "2                     27.0           30.688019            Pending   \n",
              "3                     18.0           35.624741               Fail   \n",
              "4                      3.0           92.065161               Fail   \n",
              "..                     ...                 ...                ...   \n",
              "95                    26.0           58.890686            Pending   \n",
              "96                    28.0           17.803756            Pending   \n",
              "97                    13.0           65.765156               Fail   \n",
              "98                     9.0            5.604691            Pending   \n",
              "99                     2.0           38.072899               Fail   \n",
              "\n",
              "   Defect rates  Transportation modes   Routes        Costs  \n",
              "0   0.226410361                  Road  Route B  187.7520755  \n",
              "1   4.854068026                  Road  Route B  503.0655791  \n",
              "2   4.580592619                   Air  Route C  141.9202818  \n",
              "3   4.746648621                  Rail  Route A  254.7761592  \n",
              "4   3.145579523                   Air  Route A  923.4406317  \n",
              "..          ...                   ...      ...          ...  \n",
              "95   1.21088213                   Air  Route A  778.8642414  \n",
              "96  3.872047681                  Road  Route A          NAN  \n",
              "97  3.376237835                  Road  Route A  540.1324229  \n",
              "98  2.908122169                  Rail  Route A  882.1988635  \n",
              "99  0.346027291                  Rail  Route B   210.743009  \n",
              "\n",
              "[100 rows x 24 columns]"
            ]
          },
          "execution_count": 2,
          "metadata": {},
          "output_type": "execute_result"
        }
      ],
      "source": [
        "data = pd.read_csv(\"Supply_Chain_Dataset.csv\")\n",
        "data"
      ]
    },
    {
      "cell_type": "code",
      "execution_count": 3,
      "metadata": {
        "colab": {
          "base_uri": "https://localhost:8080/",
          "height": 836
        },
        "id": "FZq5Gvo8lbPA",
        "outputId": "972b5c89-2fcb-4b0a-999e-3c84a2299153"
      },
      "outputs": [
        {
          "data": {
            "text/plain": [
              "Product type               0\n",
              "SKU                        0\n",
              "Price                      0\n",
              "Availability               0\n",
              "Number of products sold    1\n",
              "Revenue generated          0\n",
              "Customer demographics      0\n",
              "Stock levels               0\n",
              "Lead times                 0\n",
              "Order quantities           0\n",
              "Shipping times             0\n",
              "Shipping carriers          0\n",
              "Shipping costs             0\n",
              "Supplier name              0\n",
              "Location                   1\n",
              "Lead time                  1\n",
              "Production volumes         1\n",
              "Manufacturing lead time    1\n",
              "Manufacturing costs        0\n",
              "Inspection results         0\n",
              "Defect rates               0\n",
              "Transportation modes       0\n",
              "Routes                     0\n",
              "Costs                      0\n",
              "dtype: int64"
            ]
          },
          "execution_count": 3,
          "metadata": {},
          "output_type": "execute_result"
        }
      ],
      "source": [
        "missing_values = data.apply(lambda x: sum(x.isna()))\n",
        "missing_values"
      ]
    },
    {
      "cell_type": "code",
      "execution_count": 4,
      "metadata": {
        "colab": {
          "base_uri": "https://localhost:8080/",
          "height": 423
        },
        "id": "ohHM1_M5mtLv",
        "outputId": "90d4a4bf-444f-4a56-fb2d-f6978e1b9a33"
      },
      "outputs": [
        {
          "data": {
            "text/html": [
              "<div>\n",
              "<style scoped>\n",
              "    .dataframe tbody tr th:only-of-type {\n",
              "        vertical-align: middle;\n",
              "    }\n",
              "\n",
              "    .dataframe tbody tr th {\n",
              "        vertical-align: top;\n",
              "    }\n",
              "\n",
              "    .dataframe thead th {\n",
              "        text-align: right;\n",
              "    }\n",
              "</style>\n",
              "<table border=\"1\" class=\"dataframe\">\n",
              "  <thead>\n",
              "    <tr style=\"text-align: right;\">\n",
              "      <th></th>\n",
              "      <th>Stock levels</th>\n",
              "      <th>Manufacturing lead time</th>\n",
              "      <th>Manufacturing costs</th>\n",
              "    </tr>\n",
              "  </thead>\n",
              "  <tbody>\n",
              "    <tr>\n",
              "      <th>0</th>\n",
              "      <td>58</td>\n",
              "      <td>29.0</td>\n",
              "      <td>46.279879</td>\n",
              "    </tr>\n",
              "    <tr>\n",
              "      <th>1</th>\n",
              "      <td>53</td>\n",
              "      <td>30.0</td>\n",
              "      <td>33.616769</td>\n",
              "    </tr>\n",
              "    <tr>\n",
              "      <th>2</th>\n",
              "      <td>1</td>\n",
              "      <td>27.0</td>\n",
              "      <td>30.688019</td>\n",
              "    </tr>\n",
              "    <tr>\n",
              "      <th>3</th>\n",
              "      <td>23</td>\n",
              "      <td>18.0</td>\n",
              "      <td>35.624741</td>\n",
              "    </tr>\n",
              "    <tr>\n",
              "      <th>4</th>\n",
              "      <td>5</td>\n",
              "      <td>3.0</td>\n",
              "      <td>92.065161</td>\n",
              "    </tr>\n",
              "    <tr>\n",
              "      <th>...</th>\n",
              "      <td>...</td>\n",
              "      <td>...</td>\n",
              "      <td>...</td>\n",
              "    </tr>\n",
              "    <tr>\n",
              "      <th>95</th>\n",
              "      <td>15</td>\n",
              "      <td>26.0</td>\n",
              "      <td>58.890686</td>\n",
              "    </tr>\n",
              "    <tr>\n",
              "      <th>96</th>\n",
              "      <td>67</td>\n",
              "      <td>28.0</td>\n",
              "      <td>17.803756</td>\n",
              "    </tr>\n",
              "    <tr>\n",
              "      <th>97</th>\n",
              "      <td>46</td>\n",
              "      <td>13.0</td>\n",
              "      <td>65.765156</td>\n",
              "    </tr>\n",
              "    <tr>\n",
              "      <th>98</th>\n",
              "      <td>53</td>\n",
              "      <td>9.0</td>\n",
              "      <td>5.604691</td>\n",
              "    </tr>\n",
              "    <tr>\n",
              "      <th>99</th>\n",
              "      <td>55</td>\n",
              "      <td>2.0</td>\n",
              "      <td>38.072899</td>\n",
              "    </tr>\n",
              "  </tbody>\n",
              "</table>\n",
              "<p>100 rows × 3 columns</p>\n",
              "</div>"
            ],
            "text/plain": [
              "    Stock levels  Manufacturing lead time  Manufacturing costs\n",
              "0             58                     29.0            46.279879\n",
              "1             53                     30.0            33.616769\n",
              "2              1                     27.0            30.688019\n",
              "3             23                     18.0            35.624741\n",
              "4              5                      3.0            92.065161\n",
              "..           ...                      ...                  ...\n",
              "95            15                     26.0            58.890686\n",
              "96            67                     28.0            17.803756\n",
              "97            46                     13.0            65.765156\n",
              "98            53                      9.0             5.604691\n",
              "99            55                      2.0            38.072899\n",
              "\n",
              "[100 rows x 3 columns]"
            ]
          },
          "execution_count": 4,
          "metadata": {},
          "output_type": "execute_result"
        }
      ],
      "source": [
        "numerical_cols = data.select_dtypes(include=['float64', 'int64']).columns\n",
        "data[numerical_cols] = data[numerical_cols].fillna(data[numerical_cols].median())\n",
        "numerical_cols\n",
        "data[numerical_cols]"
      ]
    },
    {
      "cell_type": "code",
      "execution_count": 5,
      "metadata": {
        "colab": {
          "base_uri": "https://localhost:8080/",
          "height": 669
        },
        "id": "c2Z7gExPnMN0",
        "outputId": "fb365f2a-e090-47bb-d7c4-2360a296f3e7"
      },
      "outputs": [
        {
          "data": {
            "text/html": [
              "<div>\n",
              "<style scoped>\n",
              "    .dataframe tbody tr th:only-of-type {\n",
              "        vertical-align: middle;\n",
              "    }\n",
              "\n",
              "    .dataframe tbody tr th {\n",
              "        vertical-align: top;\n",
              "    }\n",
              "\n",
              "    .dataframe thead th {\n",
              "        text-align: right;\n",
              "    }\n",
              "</style>\n",
              "<table border=\"1\" class=\"dataframe\">\n",
              "  <thead>\n",
              "    <tr style=\"text-align: right;\">\n",
              "      <th></th>\n",
              "      <th>Product type</th>\n",
              "      <th>SKU</th>\n",
              "      <th>Price</th>\n",
              "      <th>Availability</th>\n",
              "      <th>Number of products sold</th>\n",
              "      <th>Revenue generated</th>\n",
              "      <th>Customer demographics</th>\n",
              "      <th>Lead times</th>\n",
              "      <th>Order quantities</th>\n",
              "      <th>Shipping times</th>\n",
              "      <th>...</th>\n",
              "      <th>Shipping costs</th>\n",
              "      <th>Supplier name</th>\n",
              "      <th>Location</th>\n",
              "      <th>Lead time</th>\n",
              "      <th>Production volumes</th>\n",
              "      <th>Inspection results</th>\n",
              "      <th>Defect rates</th>\n",
              "      <th>Transportation modes</th>\n",
              "      <th>Routes</th>\n",
              "      <th>Costs</th>\n",
              "    </tr>\n",
              "  </thead>\n",
              "  <tbody>\n",
              "    <tr>\n",
              "      <th>0</th>\n",
              "      <td>haircare</td>\n",
              "      <td>SKU0</td>\n",
              "      <td>69.80800554</td>\n",
              "      <td>55</td>\n",
              "      <td>802</td>\n",
              "      <td>8661.996792</td>\n",
              "      <td>Non-binary</td>\n",
              "      <td>7</td>\n",
              "      <td>96</td>\n",
              "      <td>4</td>\n",
              "      <td>...</td>\n",
              "      <td>2.956572139</td>\n",
              "      <td>Supplier 3</td>\n",
              "      <td>Mumbai</td>\n",
              "      <td>29</td>\n",
              "      <td>215</td>\n",
              "      <td>Pending</td>\n",
              "      <td>0.226410361</td>\n",
              "      <td>Road</td>\n",
              "      <td>Route B</td>\n",
              "      <td>187.7520755</td>\n",
              "    </tr>\n",
              "    <tr>\n",
              "      <th>1</th>\n",
              "      <td>skincare</td>\n",
              "      <td>SKU1</td>\n",
              "      <td>14.84352328</td>\n",
              "      <td>95</td>\n",
              "      <td>736</td>\n",
              "      <td>7460.900065</td>\n",
              "      <td>Female</td>\n",
              "      <td>30</td>\n",
              "      <td>37</td>\n",
              "      <td>2</td>\n",
              "      <td>...</td>\n",
              "      <td>9.716574771</td>\n",
              "      <td>Supplier 3</td>\n",
              "      <td>Mumbai</td>\n",
              "      <td>23</td>\n",
              "      <td>517</td>\n",
              "      <td>Pending</td>\n",
              "      <td>4.854068026</td>\n",
              "      <td>Road</td>\n",
              "      <td>Route B</td>\n",
              "      <td>503.0655791</td>\n",
              "    </tr>\n",
              "    <tr>\n",
              "      <th>2</th>\n",
              "      <td>haircare</td>\n",
              "      <td>SKU2</td>\n",
              "      <td>11.31968329</td>\n",
              "      <td>34</td>\n",
              "      <td>NAN</td>\n",
              "      <td>9577.749626</td>\n",
              "      <td>Unknown</td>\n",
              "      <td>10</td>\n",
              "      <td>88</td>\n",
              "      <td>2</td>\n",
              "      <td>...</td>\n",
              "      <td>8.054479262</td>\n",
              "      <td>Supplier 1</td>\n",
              "      <td>Mumbai</td>\n",
              "      <td>12</td>\n",
              "      <td>971</td>\n",
              "      <td>Pending</td>\n",
              "      <td>4.580592619</td>\n",
              "      <td>Air</td>\n",
              "      <td>Route C</td>\n",
              "      <td>141.9202818</td>\n",
              "    </tr>\n",
              "    <tr>\n",
              "      <th>3</th>\n",
              "      <td>skincare</td>\n",
              "      <td>SKU3</td>\n",
              "      <td>61.16334302</td>\n",
              "      <td>68</td>\n",
              "      <td>Unknown</td>\n",
              "      <td>NAN</td>\n",
              "      <td>Non-binary</td>\n",
              "      <td>13</td>\n",
              "      <td>59</td>\n",
              "      <td>6</td>\n",
              "      <td>...</td>\n",
              "      <td>1.729568564</td>\n",
              "      <td>Supplier 5</td>\n",
              "      <td>Kolkata</td>\n",
              "      <td>24</td>\n",
              "      <td>937</td>\n",
              "      <td>Fail</td>\n",
              "      <td>4.746648621</td>\n",
              "      <td>Rail</td>\n",
              "      <td>Route A</td>\n",
              "      <td>254.7761592</td>\n",
              "    </tr>\n",
              "    <tr>\n",
              "      <th>4</th>\n",
              "      <td>skincare</td>\n",
              "      <td>SKU4</td>\n",
              "      <td>4.805496036</td>\n",
              "      <td>26</td>\n",
              "      <td>871</td>\n",
              "      <td>2686.505152</td>\n",
              "      <td>Non-binary</td>\n",
              "      <td>3</td>\n",
              "      <td>56</td>\n",
              "      <td>8</td>\n",
              "      <td>...</td>\n",
              "      <td>3.890547916</td>\n",
              "      <td>Supplier 1</td>\n",
              "      <td>Delhi</td>\n",
              "      <td>5</td>\n",
              "      <td>414</td>\n",
              "      <td>Fail</td>\n",
              "      <td>3.145579523</td>\n",
              "      <td>Air</td>\n",
              "      <td>Route A</td>\n",
              "      <td>923.4406317</td>\n",
              "    </tr>\n",
              "    <tr>\n",
              "      <th>...</th>\n",
              "      <td>...</td>\n",
              "      <td>...</td>\n",
              "      <td>...</td>\n",
              "      <td>...</td>\n",
              "      <td>...</td>\n",
              "      <td>...</td>\n",
              "      <td>...</td>\n",
              "      <td>...</td>\n",
              "      <td>...</td>\n",
              "      <td>...</td>\n",
              "      <td>...</td>\n",
              "      <td>...</td>\n",
              "      <td>...</td>\n",
              "      <td>...</td>\n",
              "      <td>...</td>\n",
              "      <td>...</td>\n",
              "      <td>...</td>\n",
              "      <td>...</td>\n",
              "      <td>...</td>\n",
              "      <td>...</td>\n",
              "      <td>...</td>\n",
              "    </tr>\n",
              "    <tr>\n",
              "      <th>95</th>\n",
              "      <td>haircare</td>\n",
              "      <td>SKU95</td>\n",
              "      <td>77.90392722</td>\n",
              "      <td>65</td>\n",
              "      <td>672</td>\n",
              "      <td>7386.363944</td>\n",
              "      <td>Unknown</td>\n",
              "      <td>14</td>\n",
              "      <td>26</td>\n",
              "      <td>9</td>\n",
              "      <td>...</td>\n",
              "      <td>8.63033887</td>\n",
              "      <td>Supplier 4</td>\n",
              "      <td>Mumbai</td>\n",
              "      <td>18</td>\n",
              "      <td>450</td>\n",
              "      <td>Pending</td>\n",
              "      <td>1.21088213</td>\n",
              "      <td>Air</td>\n",
              "      <td>Route A</td>\n",
              "      <td>778.8642414</td>\n",
              "    </tr>\n",
              "    <tr>\n",
              "      <th>96</th>\n",
              "      <td>cosmetics</td>\n",
              "      <td>SKU96</td>\n",
              "      <td>24.42313142</td>\n",
              "      <td>29</td>\n",
              "      <td>324</td>\n",
              "      <td>7698.424766</td>\n",
              "      <td>Non-binary</td>\n",
              "      <td>2</td>\n",
              "      <td>32</td>\n",
              "      <td>3</td>\n",
              "      <td>...</td>\n",
              "      <td>5.352878044</td>\n",
              "      <td>Supplier 3</td>\n",
              "      <td>Mumbai</td>\n",
              "      <td>28</td>\n",
              "      <td>648</td>\n",
              "      <td>Pending</td>\n",
              "      <td>3.872047681</td>\n",
              "      <td>Road</td>\n",
              "      <td>Route A</td>\n",
              "      <td>NAN</td>\n",
              "    </tr>\n",
              "    <tr>\n",
              "      <th>97</th>\n",
              "      <td>haircare</td>\n",
              "      <td>SKU97</td>\n",
              "      <td>3.526111259</td>\n",
              "      <td>56</td>\n",
              "      <td>62</td>\n",
              "      <td>4370.91658</td>\n",
              "      <td>Male</td>\n",
              "      <td>19</td>\n",
              "      <td>4</td>\n",
              "      <td>9</td>\n",
              "      <td>...</td>\n",
              "      <td>7.904845611</td>\n",
              "      <td>Supplier 4</td>\n",
              "      <td>Mumbai</td>\n",
              "      <td>10</td>\n",
              "      <td>535</td>\n",
              "      <td>Fail</td>\n",
              "      <td>3.376237835</td>\n",
              "      <td>Road</td>\n",
              "      <td>Route A</td>\n",
              "      <td>540.1324229</td>\n",
              "    </tr>\n",
              "    <tr>\n",
              "      <th>98</th>\n",
              "      <td>skincare</td>\n",
              "      <td>SKU98</td>\n",
              "      <td>19.75460487</td>\n",
              "      <td>43</td>\n",
              "      <td>913</td>\n",
              "      <td>8525.95256</td>\n",
              "      <td>Female</td>\n",
              "      <td>1</td>\n",
              "      <td>27</td>\n",
              "      <td>7</td>\n",
              "      <td>...</td>\n",
              "      <td>1.409801095</td>\n",
              "      <td>Supplier 5</td>\n",
              "      <td>Chennai</td>\n",
              "      <td>28</td>\n",
              "      <td>581</td>\n",
              "      <td>Pending</td>\n",
              "      <td>2.908122169</td>\n",
              "      <td>Rail</td>\n",
              "      <td>Route A</td>\n",
              "      <td>882.1988635</td>\n",
              "    </tr>\n",
              "    <tr>\n",
              "      <th>99</th>\n",
              "      <td>haircare</td>\n",
              "      <td>SKU99</td>\n",
              "      <td>68.5178327</td>\n",
              "      <td>17</td>\n",
              "      <td>627</td>\n",
              "      <td>9185.185829</td>\n",
              "      <td>Unknown</td>\n",
              "      <td>8</td>\n",
              "      <td>59</td>\n",
              "      <td>6</td>\n",
              "      <td>...</td>\n",
              "      <td>1.311023756</td>\n",
              "      <td>Supplier 2</td>\n",
              "      <td>Chennai</td>\n",
              "      <td>29</td>\n",
              "      <td>921</td>\n",
              "      <td>Fail</td>\n",
              "      <td>0.346027291</td>\n",
              "      <td>Rail</td>\n",
              "      <td>Route B</td>\n",
              "      <td>210.743009</td>\n",
              "    </tr>\n",
              "  </tbody>\n",
              "</table>\n",
              "<p>100 rows × 21 columns</p>\n",
              "</div>"
            ],
            "text/plain": [
              "   Product type    SKU        Price Availability Number of products sold  \\\n",
              "0      haircare   SKU0  69.80800554           55                     802   \n",
              "1      skincare   SKU1  14.84352328           95                     736   \n",
              "2      haircare   SKU2  11.31968329           34                     NAN   \n",
              "3      skincare   SKU3  61.16334302           68                 Unknown   \n",
              "4      skincare   SKU4  4.805496036           26                     871   \n",
              "..          ...    ...          ...          ...                     ...   \n",
              "95     haircare  SKU95  77.90392722           65                     672   \n",
              "96    cosmetics  SKU96  24.42313142           29                     324   \n",
              "97     haircare  SKU97  3.526111259           56                      62   \n",
              "98     skincare  SKU98  19.75460487           43                     913   \n",
              "99     haircare  SKU99   68.5178327           17                     627   \n",
              "\n",
              "   Revenue generated Customer demographics Lead times Order quantities  \\\n",
              "0        8661.996792            Non-binary          7               96   \n",
              "1        7460.900065                Female         30               37   \n",
              "2        9577.749626               Unknown         10               88   \n",
              "3                NAN            Non-binary         13               59   \n",
              "4        2686.505152            Non-binary          3               56   \n",
              "..               ...                   ...        ...              ...   \n",
              "95       7386.363944               Unknown         14               26   \n",
              "96       7698.424766            Non-binary          2               32   \n",
              "97        4370.91658                  Male         19                4   \n",
              "98        8525.95256                Female          1               27   \n",
              "99       9185.185829               Unknown          8               59   \n",
              "\n",
              "   Shipping times  ... Shipping costs Supplier name Location Lead time  \\\n",
              "0               4  ...    2.956572139    Supplier 3   Mumbai        29   \n",
              "1               2  ...    9.716574771    Supplier 3   Mumbai        23   \n",
              "2               2  ...    8.054479262    Supplier 1   Mumbai        12   \n",
              "3               6  ...    1.729568564    Supplier 5  Kolkata        24   \n",
              "4               8  ...    3.890547916    Supplier 1    Delhi         5   \n",
              "..            ...  ...            ...           ...      ...       ...   \n",
              "95              9  ...     8.63033887    Supplier 4   Mumbai        18   \n",
              "96              3  ...    5.352878044    Supplier 3   Mumbai        28   \n",
              "97              9  ...    7.904845611    Supplier 4   Mumbai        10   \n",
              "98              7  ...    1.409801095    Supplier 5  Chennai        28   \n",
              "99              6  ...    1.311023756    Supplier 2  Chennai        29   \n",
              "\n",
              "   Production volumes Inspection results Defect rates Transportation modes  \\\n",
              "0                 215            Pending  0.226410361                 Road   \n",
              "1                 517            Pending  4.854068026                 Road   \n",
              "2                 971            Pending  4.580592619                  Air   \n",
              "3                 937               Fail  4.746648621                 Rail   \n",
              "4                 414               Fail  3.145579523                  Air   \n",
              "..                ...                ...          ...                  ...   \n",
              "95                450            Pending   1.21088213                  Air   \n",
              "96                648            Pending  3.872047681                 Road   \n",
              "97                535               Fail  3.376237835                 Road   \n",
              "98                581            Pending  2.908122169                 Rail   \n",
              "99                921               Fail  0.346027291                 Rail   \n",
              "\n",
              "     Routes        Costs  \n",
              "0   Route B  187.7520755  \n",
              "1   Route B  503.0655791  \n",
              "2   Route C  141.9202818  \n",
              "3   Route A  254.7761592  \n",
              "4   Route A  923.4406317  \n",
              "..      ...          ...  \n",
              "95  Route A  778.8642414  \n",
              "96  Route A          NAN  \n",
              "97  Route A  540.1324229  \n",
              "98  Route A  882.1988635  \n",
              "99  Route B   210.743009  \n",
              "\n",
              "[100 rows x 21 columns]"
            ]
          },
          "execution_count": 5,
          "metadata": {},
          "output_type": "execute_result"
        }
      ],
      "source": [
        "# Impute categorical columns\n",
        "categorical_cols = data.select_dtypes(include=['object']).columns\n",
        "data[categorical_cols] = data[categorical_cols].fillna('Unknown')\n",
        "data[categorical_cols]\n"
      ]
    },
    {
      "cell_type": "code",
      "execution_count": 45,
      "metadata": {
        "id": "mDgGqfHjng3-"
      },
      "outputs": [],
      "source": [
        "# prompt: Numerical Features: Imputed using the median to mitigate outlier\n",
        "# effects.\n",
        "# Categorical Features: Assigned a placeholder value \"Unknown\" for\n",
        "# missing categories, ensuring these entries were preserved for analysis.\n",
        "# code for above statement\n",
        "\n",
        "# Import necessary libraries\n",
        "import pandas as pd\n",
        "import numpy as np\n",
        "\n",
        "# Load the dataset (replace 'Supply_Chain_Dataset.csv' with your actual file path)\n",
        "data = pd.read_csv(\"Supply_Chain_Dataset.csv\")\n",
        "\n",
        "# Identify numerical features\n",
        "numerical_cols = data.select_dtypes(include=['float64', 'int64']).columns\n",
        "\n",
        "# Impute numerical features with the median\n",
        "data[numerical_cols] = data[numerical_cols].fillna(data[numerical_cols].median())\n",
        "\n",
        "# Identify categorical features\n",
        "categorical_cols = data.select_dtypes(include=['object']).columns\n",
        "\n",
        "# Impute categorical features with \"Unknown\"\n",
        "data[categorical_cols] = data[categorical_cols].fillna(\"Unknown\")"
      ]
    },
    {
      "cell_type": "code",
      "execution_count": 7,
      "metadata": {
        "colab": {
          "base_uri": "https://localhost:8080/",
          "height": 545
        },
        "id": "ydAdFwF0oJsG",
        "outputId": "0b1c9a68-2b43-4744-d184-d0989d5a10f0"
      },
      "outputs": [
        {
          "data": {
            "image/png": "[encoded data removed]",
            "text/plain": [
              "<Figure size 1000x600 with 1 Axes>"
            ]
          },
          "metadata": {},
          "output_type": "display_data"
        }
      ],
      "source": [
        "\n",
        "import pandas as pd\n",
        "import numpy as np\n",
        "import matplotlib.pyplot as plt\n",
        "\n",
        "\n",
        "# Calculate Z-scores for numerical features\n",
        "for col in numerical_cols:\n",
        "    data[f'{col}_Zscore'] = np.abs((data[col] - data[col].mean()) / data[col].std())\n",
        "\n",
        "# Detection: Identify outliers using Z-score (e.g., Z-score > 3)\n",
        "outliers = data[numerical_cols][data[f'{numerical_cols[0]}_Zscore'] > 3]\n",
        "outliers\n",
        "\n",
        "# Winsorization (capping at the 95th percentile)\n",
        "for col in numerical_cols:\n",
        "    upper_limit = data[col].quantile(0.95)\n",
        "    data[col] = np.where(data[col] > upper_limit, upper_limit, data[col])\n",
        "    data[col]\n",
        "\n",
        "# Example: Boxplot visualization for a specific numerical feature\n",
        "plt.figure(figsize=(10, 6))\n",
        "plt.boxplot(data[numerical_cols[0]], vert=False)\n",
        "plt.title(f'Boxplot of {numerical_cols[0]}')\n",
        "plt.show()\n",
        "\n"
      ]
    },
    {
      "cell_type": "code",
      "execution_count": 8,
      "metadata": {
        "colab": {
          "base_uri": "https://localhost:8080/"
        },
        "id": "UWhaXpeupjPz",
        "outputId": "01aa2fdb-38b5-409c-e698-cb0e51a85d86"
      },
      "outputs": [
        {
          "name": "stdout",
          "output_type": "stream",
          "text": [
            "Product type                       object\n",
            "SKU                                object\n",
            "Price                              object\n",
            "Availability                       object\n",
            "Number of products sold            object\n",
            "Revenue generated                  object\n",
            "Customer demographics              object\n",
            "Stock levels                      float64\n",
            "Lead times                         object\n",
            "Order quantities                   object\n",
            "Shipping times                     object\n",
            "Shipping carriers                  object\n",
            "Shipping costs                     object\n",
            "Supplier name                      object\n",
            "Location                           object\n",
            "Lead time                          object\n",
            "Production volumes                 object\n",
            "Manufacturing lead time           float64\n",
            "Manufacturing costs               float64\n",
            "Inspection results                 object\n",
            "Defect rates                       object\n",
            "Transportation modes               object\n",
            "Routes                             object\n",
            "Costs                              object\n",
            "Stock levels_Zscore               float64\n",
            "Manufacturing lead time_Zscore    float64\n",
            "Manufacturing costs_Zscore        float64\n",
            "dtype: object\n",
            "True\n"
          ]
        }
      ],
      "source": [
        "#Checking for Missing Values\n",
        "missing_values = data.apply(lambda x: sum(x.isna()))\n",
        "missing_values\n",
        "#Data Type Verification\n",
        "data_types = data.dtypes\n",
        "print(data_types)\n",
        "#  SKU Analysis\n",
        "# Checking if SKUs are unique\n",
        "unique_skus = len(data['SKU'].unique()) == len(data)\n",
        "print(unique_skus)\n"
      ]
    },
    {
      "cell_type": "code",
      "execution_count": 9,
      "metadata": {
        "colab": {
          "base_uri": "https://localhost:8080/"
        },
        "id": "RGp7HTd8jH2e",
        "outputId": "ca7133ff-7877-4ad5-97e2-0813f7c15c21"
      },
      "outputs": [
        {
          "name": "stdout",
          "output_type": "stream",
          "text": [
            "  Product type   SKU        Price Availability Number of products sold  \\\n",
            "0     haircare  SKU0  69.80800554           55                     802   \n",
            "1     skincare  SKU1  14.84352328           95                     736   \n",
            "2     haircare  SKU2  11.31968329           34                     NAN   \n",
            "3     skincare  SKU3  61.16334302           68                 Unknown   \n",
            "4     skincare  SKU4  4.805496036           26                     871   \n",
            "\n",
            "  Revenue generated Customer demographics  Stock levels Lead times  \\\n",
            "0       8661.996792            Non-binary          58.0          7   \n",
            "1       7460.900065                Female          53.0         30   \n",
            "2       9577.749626               Unknown           1.0         10   \n",
            "3               NAN            Non-binary          23.0         13   \n",
            "4       2686.505152            Non-binary           5.0          3   \n",
            "\n",
            "  Order quantities  ... Manufacturing lead time Manufacturing costs  \\\n",
            "0               96  ...                    29.0           46.279879   \n",
            "1               37  ...                    29.0           33.616769   \n",
            "2               88  ...                    27.0           30.688019   \n",
            "3               59  ...                    18.0           35.624741   \n",
            "4               56  ...                     3.0           92.065161   \n",
            "\n",
            "  Inspection results Defect rates Transportation modes   Routes        Costs  \\\n",
            "0            Pending  0.226410361                 Road  Route B  187.7520755   \n",
            "1            Pending  4.854068026                 Road  Route B  503.0655791   \n",
            "2            Pending  4.580592619                  Air  Route C  141.9202818   \n",
            "3               Fail  4.746648621                 Rail  Route A  254.7761592   \n",
            "4               Fail  3.145579523                  Air  Route A  923.4406317   \n",
            "\n",
            "   Stock levels_Zscore  Manufacturing lead time_Zscore  \\\n",
            "0             0.326114                        1.596288   \n",
            "1             0.166723                        1.709180   \n",
            "2             1.490945                        1.370505   \n",
            "3             0.789624                        0.354480   \n",
            "4             1.363432                        1.338895   \n",
            "\n",
            "  Manufacturing costs_Zscore  \n",
            "0                   0.034048  \n",
            "1                   0.470966  \n",
            "2                   0.572017  \n",
            "3                   0.401684  \n",
            "4                   1.545689  \n",
            "\n",
            "[5 rows x 27 columns]\n"
          ]
        },
        {
          "name": "stderr",
          "output_type": "stream",
          "text": [
            "C:\\Users\\DELL\\AppData\\Local\\Temp\\ipykernel_4420\\2059015325.py:6: FutureWarning: A value is trying to be set on a copy of a DataFrame or Series through chained assignment using an inplace method.\n",
            "The behavior will change in pandas 3.0. This inplace method will never work because the intermediate object on which we are setting values always behaves as a copy.\n",
            "\n",
            "For example, when doing 'df[col].method(value, inplace=True)', try using 'df.method({col: value}, inplace=True)' or df[col] = df[col].method(value) instead, to perform the operation inplace on the original object.\n",
            "\n",
            "\n",
            "  data['Number of products sold'].fillna(data['Number of products sold'].mode()[0], inplace=True)\n",
            "C:\\Users\\DELL\\AppData\\Local\\Temp\\ipykernel_4420\\2059015325.py:9: FutureWarning: A value is trying to be set on a copy of a DataFrame or Series through chained assignment using an inplace method.\n",
            "The behavior will change in pandas 3.0. This inplace method will never work because the intermediate object on which we are setting values always behaves as a copy.\n",
            "\n",
            "For example, when doing 'df[col].method(value, inplace=True)', try using 'df.method({col: value}, inplace=True)' or df[col] = df[col].method(value) instead, to perform the operation inplace on the original object.\n",
            "\n",
            "\n",
            "  data['Number of products sold'].fillna('Unknown', inplace=True)\n"
          ]
        }
      ],
      "source": [
        "import pandas as pd\n",
        "\n",
        "# Assuming 'df' is your DataFrame and 'Category' is the column with missing values\n",
        "\n",
        "# Frequent Category Imputation\n",
        "data['Number of products sold'].fillna(data['Number of products sold'].mode()[0], inplace=True)\n",
        "\n",
        "# \"Missing\" as a Category\n",
        "data['Number of products sold'].fillna('Unknown', inplace=True)\n",
        "print(data.head())"
      ]
    },
    {
      "cell_type": "code",
      "execution_count": 10,
      "metadata": {
        "colab": {
          "base_uri": "https://localhost:8080/",
          "height": 182
        },
        "id": "_tFOrcbtl-mx",
        "outputId": "951ed7b5-fc40-4d7e-8dd1-6a1bba53eed0"
      },
      "outputs": [
        {
          "data": {
            "text/html": [
              "<div>\n",
              "<style scoped>\n",
              "    .dataframe tbody tr th:only-of-type {\n",
              "        vertical-align: middle;\n",
              "    }\n",
              "\n",
              "    .dataframe tbody tr th {\n",
              "        vertical-align: top;\n",
              "    }\n",
              "\n",
              "    .dataframe thead th {\n",
              "        text-align: right;\n",
              "    }\n",
              "</style>\n",
              "<table border=\"1\" class=\"dataframe\">\n",
              "  <thead>\n",
              "    <tr style=\"text-align: right;\">\n",
              "      <th></th>\n",
              "      <th>Product type</th>\n",
              "      <th>SKU</th>\n",
              "      <th>Price</th>\n",
              "      <th>Availability</th>\n",
              "      <th>Number of products sold</th>\n",
              "      <th>Revenue generated</th>\n",
              "      <th>Customer demographics</th>\n",
              "      <th>Stock levels</th>\n",
              "      <th>Lead times</th>\n",
              "      <th>Order quantities</th>\n",
              "      <th>...</th>\n",
              "      <th>Manufacturing lead time</th>\n",
              "      <th>Manufacturing costs</th>\n",
              "      <th>Inspection results</th>\n",
              "      <th>Defect rates</th>\n",
              "      <th>Transportation modes</th>\n",
              "      <th>Routes</th>\n",
              "      <th>Costs</th>\n",
              "      <th>Stock levels_Zscore</th>\n",
              "      <th>Manufacturing lead time_Zscore</th>\n",
              "      <th>Manufacturing costs_Zscore</th>\n",
              "    </tr>\n",
              "  </thead>\n",
              "  <tbody>\n",
              "    <tr>\n",
              "      <th>67</th>\n",
              "      <td>2</td>\n",
              "      <td>64</td>\n",
              "      <td>84</td>\n",
              "      <td>7</td>\n",
              "      <td>46</td>\n",
              "      <td>92</td>\n",
              "      <td>3</td>\n",
              "      <td>12.0</td>\n",
              "      <td>28</td>\n",
              "      <td>46</td>\n",
              "      <td>...</td>\n",
              "      <td>11.0</td>\n",
              "      <td>7.057876</td>\n",
              "      <td>1</td>\n",
              "      <td>5</td>\n",
              "      <td>3</td>\n",
              "      <td>2</td>\n",
              "      <td>8</td>\n",
              "      <td>1.140284</td>\n",
              "      <td>0.435762</td>\n",
              "      <td>1.387332</td>\n",
              "    </tr>\n",
              "  </tbody>\n",
              "</table>\n",
              "<p>1 rows × 27 columns</p>\n",
              "</div>"
            ],
            "text/plain": [
              "    Product type  SKU  Price  Availability  Number of products sold  \\\n",
              "67             2   64     84             7                       46   \n",
              "\n",
              "    Revenue generated  Customer demographics  Stock levels  Lead times  \\\n",
              "67                 92                      3          12.0          28   \n",
              "\n",
              "    Order quantities  ...  Manufacturing lead time  Manufacturing costs  \\\n",
              "67                46  ...                     11.0             7.057876   \n",
              "\n",
              "    Inspection results  Defect rates  Transportation modes  Routes  Costs  \\\n",
              "67                   1             5                     3       2      8   \n",
              "\n",
              "    Stock levels_Zscore  Manufacturing lead time_Zscore  \\\n",
              "67             1.140284                        0.435762   \n",
              "\n",
              "    Manufacturing costs_Zscore  \n",
              "67                    1.387332  \n",
              "\n",
              "[1 rows x 27 columns]"
            ]
          },
          "execution_count": 10,
          "metadata": {},
          "output_type": "execute_result"
        }
      ],
      "source": [
        "import pandas as pd\n",
        "from sklearn.ensemble import IsolationForest\n",
        "from sklearn.preprocessing import LabelEncoder\n",
        "\n",
        "# Create a copy of the DataFrame to avoid modifying the original\n",
        "data_encoded = data.copy()\n",
        "\n",
        "# Identify categorical features\n",
        "categorical_cols = data_encoded.select_dtypes(include=['object']).columns\n",
        "\n",
        "# Encode categorical features using Label Encoding\n",
        "for col in categorical_cols:\n",
        "    le = LabelEncoder()\n",
        "    data_encoded[col] = le.fit_transform(data_encoded[col])\n",
        "\n",
        "# Now, fit the IsolationForest model on the encoded data\n",
        "clf = IsolationForest(contamination=0.01)  # 1% of data as outliers\n",
        "clf.fit(data_encoded)\n",
        "outlier_predictions = clf.predict(data_encoded)\n",
        "\n",
        "# Identify outliers\n",
        "outliers = data_encoded[outlier_predictions == -1]\n",
        "outliers"
      ]
    },
    {
      "cell_type": "code",
      "execution_count": 11,
      "metadata": {
        "id": "Lr0DOg36wWiS"
      },
      "outputs": [],
      "source": [
        "df= data"
      ]
    },
    {
      "cell_type": "code",
      "execution_count": 12,
      "metadata": {
        "colab": {
          "base_uri": "https://localhost:8080/"
        },
        "id": "u58cezhgwiUb",
        "outputId": "c2aad8b4-61e8-4f2e-caec-01bc9eeed1f2"
      },
      "outputs": [
        {
          "name": "stdout",
          "output_type": "stream",
          "text": [
            "Cleaned Data:\n",
            "   Product type    SKU        Price Availability Number of products sold  \\\n",
            "0      haircare   SKU0  69.80800554           55                     802   \n",
            "1      skincare   SKU1  14.84352328           95                     736   \n",
            "2      haircare   SKU2  11.31968329           34                     NAN   \n",
            "3      skincare   SKU3  61.16334302           68                 Unknown   \n",
            "4      skincare   SKU4  4.805496036           26                     871   \n",
            "..          ...    ...          ...          ...                     ...   \n",
            "95     haircare  SKU95  77.90392722           65                     672   \n",
            "96    cosmetics  SKU96  24.42313142           29                     324   \n",
            "97     haircare  SKU97  3.526111259           56                      62   \n",
            "98     skincare  SKU98  19.75460487           43                     913   \n",
            "99     haircare  SKU99   68.5178327           17                     627   \n",
            "\n",
            "   Revenue generated Customer demographics  Stock levels Lead times  \\\n",
            "0        8661.996792            Non-binary          58.0          7   \n",
            "1        7460.900065                Female          53.0         30   \n",
            "2        9577.749626               Unknown           1.0         10   \n",
            "3                NAN            Non-binary          23.0         13   \n",
            "4        2686.505152            Non-binary           5.0          3   \n",
            "..               ...                   ...           ...        ...   \n",
            "95       7386.363944               Unknown          15.0         14   \n",
            "96       7698.424766            Non-binary          67.0          2   \n",
            "97        4370.91658                  Male          46.0         19   \n",
            "98        8525.95256                Female          53.0          1   \n",
            "99       9185.185829               Unknown          55.0          8   \n",
            "\n",
            "   Order quantities  ... Manufacturing lead time Manufacturing costs  \\\n",
            "0                96  ...                    29.0           46.279879   \n",
            "1                37  ...                    29.0           33.616769   \n",
            "2                88  ...                    27.0           30.688019   \n",
            "3                59  ...                    18.0           35.624741   \n",
            "4                56  ...                     3.0           92.065161   \n",
            "..              ...  ...                     ...                 ...   \n",
            "95               26  ...                    26.0           58.890686   \n",
            "96               32  ...                    28.0           17.803756   \n",
            "97                4  ...                    13.0           65.765156   \n",
            "98               27  ...                     9.0            5.604691   \n",
            "99               59  ...                     2.0           38.072899   \n",
            "\n",
            "   Inspection results Defect rates Transportation modes   Routes        Costs  \\\n",
            "0             pending  0.226410361                 road  Route B  187.7520755   \n",
            "1             pending  4.854068026                 road  Route B  503.0655791   \n",
            "2             pending  4.580592619                  air  Route C  141.9202818   \n",
            "3                fail  4.746648621                 rail  Route A  254.7761592   \n",
            "4                fail  3.145579523                  air  Route A  923.4406317   \n",
            "..                ...          ...                  ...      ...          ...   \n",
            "95            pending   1.21088213                  air  Route A  778.8642414   \n",
            "96            pending  3.872047681                 road  Route A          NAN   \n",
            "97               fail  3.376237835                 road  Route A  540.1324229   \n",
            "98            pending  2.908122169                 rail  Route A  882.1988635   \n",
            "99               fail  0.346027291                 rail  Route B   210.743009   \n",
            "\n",
            "    Stock levels_Zscore  Manufacturing lead time_Zscore  \\\n",
            "0              0.326114                        1.596288   \n",
            "1              0.166723                        1.709180   \n",
            "2              1.490945                        1.370505   \n",
            "3              0.789624                        0.354480   \n",
            "4              1.363432                        1.338895   \n",
            "..                  ...                             ...   \n",
            "95             1.044650                        1.257613   \n",
            "96             0.613018                        1.483396   \n",
            "97             0.056424                        0.209978   \n",
            "98             0.166723                        0.661545   \n",
            "99             0.230480                        1.451787   \n",
            "\n",
            "   Manufacturing costs_Zscore  \n",
            "0                    0.034048  \n",
            "1                    0.470966  \n",
            "2                    0.572017  \n",
            "3                    0.401684  \n",
            "4                    1.545689  \n",
            "..                        ...  \n",
            "95                   0.401065  \n",
            "96                   1.016565  \n",
            "97                   0.638256  \n",
            "98                   1.437471  \n",
            "99                   0.317215  \n",
            "\n",
            "[100 rows x 27 columns]\n"
          ]
        }
      ],
      "source": [
        "import pandas as pd\n",
        "\n",
        "def resolve_duplicates_and_inconsistencies(df):\n",
        "\n",
        "    # 1. Handle Duplicate Records\n",
        "    # Corrected column names to match the DataFrame\n",
        "    key_columns = ['Product type', 'Supplier name', 'SKU']\n",
        "    df = df.drop_duplicates(subset=key_columns, keep='first')\n",
        "\n",
        "    # 2. Handle Inconsistencies in Categorical Features\n",
        "    # 2.1 Standardize categorical values (e.g., case, spaces)\n",
        "    # Corrected column names to match the DataFrame\n",
        "    for col in ['Product type', 'Supplier name', 'Shipping carriers', 'Transportation modes', 'Inspection results']:\n",
        "        df[col] = df[col].str.strip().str.lower()\n",
        "\n",
        "\n",
        "    # ... (rest of the function remains the same) ...\n",
        "\n",
        "    return df\n",
        "\n",
        "# Example Usage:\n",
        "# Assuming 'data' is your supply chain data DataFrame\n",
        "df_clean = resolve_duplicates_and_inconsistencies(data)\n",
        "\n",
        "print(\"Cleaned Data:\")\n",
        "print(df_clean)"
      ]
    },
    {
      "cell_type": "code",
      "execution_count": 13,
      "metadata": {
        "colab": {
          "base_uri": "https://localhost:8080/"
        },
        "id": "KhhucX6VY0y2",
        "outputId": "1db5747f-fa27-465b-ea9a-bcfe13486668"
      },
      "outputs": [
        {
          "name": "stdout",
          "output_type": "stream",
          "text": [
            "  Inspection results  Defect rates\n",
            "3            unknown      3.632843\n",
            "0               Fail      2.586040\n",
            "2            Pending      2.117252\n",
            "1               Pass      2.039043\n"
          ]
        }
      ],
      "source": [
        "import pandas as pd\n",
        "import plotly.express as px\n",
        "df = data.copy()\n",
        "\n",
        "# Convert 'Defect rates' column to numeric, handling errors\n",
        "df['Defect rates'] = pd.to_numeric(df['Defect rates'], errors='coerce')\n",
        "\n",
        "# Group by 'Inspection results' and calculate average defect rates for each result\n",
        "defect_trends = df.groupby('Inspection results').agg({\n",
        "    'Defect rates': 'mean'\n",
        "}).reset_index()\n",
        "\n",
        "# Sort by defect rates\n",
        "defect_trends.sort_values('Defect rates', ascending=False, inplace=True)\n",
        "\n",
        "print(defect_trends)"
      ]
    },
    {
      "cell_type": "code",
      "execution_count": 14,
      "metadata": {
        "colab": {
          "base_uri": "https://localhost:8080/",
          "height": 542
        },
        "id": "nkNYfV9jZAIL",
        "outputId": "9dd511e3-c18a-4d04-df7d-42ce3ccf71ea"
      },
      "outputs": [
        {
          "data": {
            "application/vnd.plotly.v1+json": {
              "config": {
                "plotlyServerURL": "https://plot.ly"
              },
              "data": [
                {
                  "hovertemplate": "Inspection results=%{x}<br>Defect rates=%{marker.color}<extra></extra>",
                  "legendgroup": "",
                  "marker": {
                    "color": {
                      "bdata": "J1iQJBAQDUCEHy3hNbAEQHsgcOMh8ABAz4G53/VPAEA=",
                      "dtype": "f8"
                    },
                    "coloraxis": "coloraxis",
                    "size": {
                      "bdata": "J1iQJBAQDUCEHy3hNbAEQHsgcOMh8ABAz4G53/VPAEA=",
                      "dtype": "f8"
                    },
                    "sizemode": "area",
                    "sizeref": 0.009082108225,
                    "symbol": "circle"
                  },
                  "mode": "markers",
                  "name": "",
                  "orientation": "v",
                  "showlegend": false,
                  "type": "scatter",
                  "x": [
                    "unknown",
                    "Fail",
                    "Pending",
                    "Pass"
                  ],
                  "xaxis": "x",
                  "y": {
                    "bdata": "J1iQJBAQDUCEHy3hNbAEQHsgcOMh8ABAz4G53/VPAEA=",
                    "dtype": "f8"
                  },
                  "yaxis": "y"
                }
              ],
              "layout": {
                "annotations": [
                  {
                    "font": {
                      "color": "orange",
                      "size": 13
                    },
                    "showarrow": false,
                    "text": "Powered by skills.ai",
                    "textangle": 0,
                    "x": 0,
                    "xanchor": "left",
                    "xref": "paper",
                    "y": -0.11,
                    "yref": "paper"
                  }
                ],
                "coloraxis": {
                  "colorbar": {
                    "title": {
                      "text": "Defect rates"
                    }
                  },
                  "colorscale": [
                    [
                      0,
                      "rgb(255,247,243)"
                    ],
                    [
                      0.125,
                      "rgb(253,224,221)"
                    ],
                    [
                      0.25,
                      "rgb(252,197,192)"
                    ],
                    [
                      0.375,
                      "rgb(250,159,181)"
                    ],
                    [
                      0.5,
                      "rgb(247,104,161)"
                    ],
                    [
                      0.625,
                      "rgb(221,52,151)"
                    ],
                    [
                      0.75,
                      "rgb(174,1,126)"
                    ],
                    [
                      0.875,
                      "rgb(122,1,119)"
                    ],
                    [
                      1,
                      "rgb(73,0,106)"
                    ]
                  ]
                },
                "legend": {
                  "itemsizing": "constant",
                  "tracegroupgap": 0
                },
                "template": {
                  "data": {
                    "bar": [
                      {
                        "error_x": {
                          "color": "#f2f5fa"
                        },
                        "error_y": {
                          "color": "#f2f5fa"
                        },
                        "marker": {
                          "line": {
                            "color": "rgb(17,17,17)",
                            "width": 0.5
                          },
                          "pattern": {
                            "fillmode": "overlay",
                            "size": 10,
                            "solidity": 0.2
                          }
                        },
                        "type": "bar"
                      }
                    ],
                    "barpolar": [
                      {
                        "marker": {
                          "line": {
                            "color": "rgb(17,17,17)",
                            "width": 0.5
                          },
                          "pattern": {
                            "fillmode": "overlay",
                            "size": 10,
                            "solidity": 0.2
                          }
                        },
                        "type": "barpolar"
                      }
                    ],
                    "carpet": [
                      {
                        "aaxis": {
                          "endlinecolor": "#A2B1C6",
                          "gridcolor": "#506784",
                          "linecolor": "#506784",
                          "minorgridcolor": "#506784",
                          "startlinecolor": "#A2B1C6"
                        },
                        "baxis": {
                          "endlinecolor": "#A2B1C6",
                          "gridcolor": "#506784",
                          "linecolor": "#506784",
                          "minorgridcolor": "#506784",
                          "startlinecolor": "#A2B1C6"
                        },
                        "type": "carpet"
                      }
                    ],
                    "choropleth": [
                      {
                        "colorbar": {
                          "outlinewidth": 0,
                          "ticks": ""
                        },
                        "type": "choropleth"
                      }
                    ],
                    "contour": [
                      {
                        "colorbar": {
                          "outlinewidth": 0,
                          "ticks": ""
                        },
                        "colorscale": [
                          [
                            0,
                            "#0d0887"
                          ],
                          [
                            0.1111111111111111,
                            "#46039f"
                          ],
                          [
                            0.2222222222222222,
                            "#7201a8"
                          ],
                          [
                            0.3333333333333333,
                            "#9c179e"
                          ],
                          [
                            0.4444444444444444,
                            "#bd3786"
                          ],
                          [
                            0.5555555555555556,
                            "#d8576b"
                          ],
                          [
                            0.6666666666666666,
                            "#ed7953"
                          ],
                          [
                            0.7777777777777778,
                            "#fb9f3a"
                          ],
                          [
                            0.8888888888888888,
                            "#fdca26"
                          ],
                          [
                            1,
                            "#f0f921"
                          ]
                        ],
                        "type": "contour"
                      }
                    ],
                    "contourcarpet": [
                      {
                        "colorbar": {
                          "outlinewidth": 0,
                          "ticks": ""
                        },
                        "type": "contourcarpet"
                      }
                    ],
                    "heatmap": [
                      {
                        "colorbar": {
                          "outlinewidth": 0,
                          "ticks": ""
                        },
                        "colorscale": [
                          [
                            0,
                            "#0d0887"
                          ],
                          [
                            0.1111111111111111,
                            "#46039f"
                          ],
                          [
                            0.2222222222222222,
                            "#7201a8"
                          ],
                          [
                            0.3333333333333333,
                            "#9c179e"
                          ],
                          [
                            0.4444444444444444,
                            "#bd3786"
                          ],
                          [
                            0.5555555555555556,
                            "#d8576b"
                          ],
                          [
                            0.6666666666666666,
                            "#ed7953"
                          ],
                          [
                            0.7777777777777778,
                            "#fb9f3a"
                          ],
                          [
                            0.8888888888888888,
                            "#fdca26"
                          ],
                          [
                            1,
                            "#f0f921"
                          ]
                        ],
                        "type": "heatmap"
                      }
                    ],
                    "histogram": [
                      {
                        "marker": {
                          "pattern": {
                            "fillmode": "overlay",
                            "size": 10,
                            "solidity": 0.2
                          }
                        },
                        "type": "histogram"
                      }
                    ],
                    "histogram2d": [
                      {
                        "colorbar": {
                          "outlinewidth": 0,
                          "ticks": ""
                        },
                        "colorscale": [
                          [
                            0,
                            "#0d0887"
                          ],
                          [
                            0.1111111111111111,
                            "#46039f"
                          ],
                          [
                            0.2222222222222222,
                            "#7201a8"
                          ],
                          [
                            0.3333333333333333,
                            "#9c179e"
                          ],
                          [
                            0.4444444444444444,
                            "#bd3786"
                          ],
                          [
                            0.5555555555555556,
                            "#d8576b"
                          ],
                          [
                            0.6666666666666666,
                            "#ed7953"
                          ],
                          [
                            0.7777777777777778,
                            "#fb9f3a"
                          ],
                          [
                            0.8888888888888888,
                            "#fdca26"
                          ],
                          [
                            1,
                            "#f0f921"
                          ]
                        ],
                        "type": "histogram2d"
                      }
                    ],
                    "histogram2dcontour": [
                      {
                        "colorbar": {
                          "outlinewidth": 0,
                          "ticks": ""
                        },
                        "colorscale": [
                          [
                            0,
                            "#0d0887"
                          ],
                          [
                            0.1111111111111111,
                            "#46039f"
                          ],
                          [
                            0.2222222222222222,
                            "#7201a8"
                          ],
                          [
                            0.3333333333333333,
                            "#9c179e"
                          ],
                          [
                            0.4444444444444444,
                            "#bd3786"
                          ],
                          [
                            0.5555555555555556,
                            "#d8576b"
                          ],
                          [
                            0.6666666666666666,
                            "#ed7953"
                          ],
                          [
                            0.7777777777777778,
                            "#fb9f3a"
                          ],
                          [
                            0.8888888888888888,
                            "#fdca26"
                          ],
                          [
                            1,
                            "#f0f921"
                          ]
                        ],
                        "type": "histogram2dcontour"
                      }
                    ],
                    "mesh3d": [
                      {
                        "colorbar": {
                          "outlinewidth": 0,
                          "ticks": ""
                        },
                        "type": "mesh3d"
                      }
                    ],
                    "parcoords": [
                      {
                        "line": {
                          "colorbar": {
                            "outlinewidth": 0,
                            "ticks": ""
                          }
                        },
                        "type": "parcoords"
                      }
                    ],
                    "pie": [
                      {
                        "automargin": true,
                        "type": "pie"
                      }
                    ],
                    "scatter": [
                      {
                        "marker": {
                          "line": {
                            "color": "#283442"
                          }
                        },
                        "type": "scatter"
                      }
                    ],
                    "scatter3d": [
                      {
                        "line": {
                          "colorbar": {
                            "outlinewidth": 0,
                            "ticks": ""
                          }
                        },
                        "marker": {
                          "colorbar": {
                            "outlinewidth": 0,
                            "ticks": ""
                          }
                        },
                        "type": "scatter3d"
                      }
                    ],
                    "scattercarpet": [
                      {
                        "marker": {
                          "colorbar": {
                            "outlinewidth": 0,
                            "ticks": ""
                          }
                        },
                        "type": "scattercarpet"
                      }
                    ],
                    "scattergeo": [
                      {
                        "marker": {
                          "colorbar": {
                            "outlinewidth": 0,
                            "ticks": ""
                          }
                        },
                        "type": "scattergeo"
                      }
                    ],
                    "scattergl": [
                      {
                        "marker": {
                          "line": {
                            "color": "#283442"
                          }
                        },
                        "type": "scattergl"
                      }
                    ],
                    "scattermap": [
                      {
                        "marker": {
                          "colorbar": {
                            "outlinewidth": 0,
                            "ticks": ""
                          }
                        },
                        "type": "scattermap"
                      }
                    ],
                    "scattermapbox": [
                      {
                        "marker": {
                          "colorbar": {
                            "outlinewidth": 0,
                            "ticks": ""
                          }
                        },
                        "type": "scattermapbox"
                      }
                    ],
                    "scatterpolar": [
                      {
                        "marker": {
                          "colorbar": {
                            "outlinewidth": 0,
                            "ticks": ""
                          }
                        },
                        "type": "scatterpolar"
                      }
                    ],
                    "scatterpolargl": [
                      {
                        "marker": {
                          "colorbar": {
                            "outlinewidth": 0,
                            "ticks": ""
                          }
                        },
                        "type": "scatterpolargl"
                      }
                    ],
                    "scatterternary": [
                      {
                        "marker": {
                          "colorbar": {
                            "outlinewidth": 0,
                            "ticks": ""
                          }
                        },
                        "type": "scatterternary"
                      }
                    ],
                    "surface": [
                      {
                        "colorbar": {
                          "outlinewidth": 0,
                          "ticks": ""
                        },
                        "colorscale": [
                          [
                            0,
                            "#0d0887"
                          ],
                          [
                            0.1111111111111111,
                            "#46039f"
                          ],
                          [
                            0.2222222222222222,
                            "#7201a8"
                          ],
                          [
                            0.3333333333333333,
                            "#9c179e"
                          ],
                          [
                            0.4444444444444444,
                            "#bd3786"
                          ],
                          [
                            0.5555555555555556,
                            "#d8576b"
                          ],
                          [
                            0.6666666666666666,
                            "#ed7953"
                          ],
                          [
                            0.7777777777777778,
                            "#fb9f3a"
                          ],
                          [
                            0.8888888888888888,
                            "#fdca26"
                          ],
                          [
                            1,
                            "#f0f921"
                          ]
                        ],
                        "type": "surface"
                      }
                    ],
                    "table": [
                      {
                        "cells": {
                          "fill": {
                            "color": "#506784"
                          },
                          "line": {
                            "color": "rgb(17,17,17)"
                          }
                        },
                        "header": {
                          "fill": {
                            "color": "#2a3f5f"
                          },
                          "line": {
                            "color": "rgb(17,17,17)"
                          }
                        },
                        "type": "table"
                      }
                    ]
                  },
                  "layout": {
                    "annotationdefaults": {
                      "arrowcolor": "#f2f5fa",
                      "arrowhead": 0,
                      "arrowwidth": 1
                    },
                    "autotypenumbers": "strict",
                    "coloraxis": {
                      "colorbar": {
                        "outlinewidth": 0,
                        "ticks": ""
                      }
                    },
                    "colorscale": {
                      "diverging": [
                        [
                          0,
                          "#8e0152"
                        ],
                        [
                          0.1,
                          "#c51b7d"
                        ],
                        [
                          0.2,
                          "#de77ae"
                        ],
                        [
                          0.3,
                          "#f1b6da"
                        ],
                        [
                          0.4,
                          "#fde0ef"
                        ],
                        [
                          0.5,
                          "#f7f7f7"
                        ],
                        [
                          0.6,
                          "#e6f5d0"
                        ],
                        [
                          0.7,
                          "#b8e186"
                        ],
                        [
                          0.8,
                          "#7fbc41"
                        ],
                        [
                          0.9,
                          "#4d9221"
                        ],
                        [
                          1,
                          "#276419"
                        ]
                      ],
                      "sequential": [
                        [
                          0,
                          "#0d0887"
                        ],
                        [
                          0.1111111111111111,
                          "#46039f"
                        ],
                        [
                          0.2222222222222222,
                          "#7201a8"
                        ],
                        [
                          0.3333333333333333,
                          "#9c179e"
                        ],
                        [
                          0.4444444444444444,
                          "#bd3786"
                        ],
                        [
                          0.5555555555555556,
                          "#d8576b"
                        ],
                        [
                          0.6666666666666666,
                          "#ed7953"
                        ],
                        [
                          0.7777777777777778,
                          "#fb9f3a"
                        ],
                        [
                          0.8888888888888888,
                          "#fdca26"
                        ],
                        [
                          1,
                          "#f0f921"
                        ]
                      ],
                      "sequentialminus": [
                        [
                          0,
                          "#0d0887"
                        ],
                        [
                          0.1111111111111111,
                          "#46039f"
                        ],
                        [
                          0.2222222222222222,
                          "#7201a8"
                        ],
                        [
                          0.3333333333333333,
                          "#9c179e"
                        ],
                        [
                          0.4444444444444444,
                          "#bd3786"
                        ],
                        [
                          0.5555555555555556,
                          "#d8576b"
                        ],
                        [
                          0.6666666666666666,
                          "#ed7953"
                        ],
                        [
                          0.7777777777777778,
                          "#fb9f3a"
                        ],
                        [
                          0.8888888888888888,
                          "#fdca26"
                        ],
                        [
                          1,
                          "#f0f921"
                        ]
                      ]
                    },
                    "colorway": [
                      "#636efa",
                      "#EF553B",
                      "#00cc96",
                      "#ab63fa",
                      "#FFA15A",
                      "#19d3f3",
                      "#FF6692",
                      "#B6E880",
                      "#FF97FF",
                      "#FECB52"
                    ],
                    "font": {
                      "color": "#f2f5fa"
                    },
                    "geo": {
                      "bgcolor": "rgb(17,17,17)",
                      "lakecolor": "rgb(17,17,17)",
                      "landcolor": "rgb(17,17,17)",
                      "showlakes": true,
                      "showland": true,
                      "subunitcolor": "#506784"
                    },
                    "hoverlabel": {
                      "align": "left"
                    },
                    "hovermode": "closest",
                    "mapbox": {
                      "style": "dark"
                    },
                    "paper_bgcolor": "rgb(17,17,17)",
                    "plot_bgcolor": "rgb(17,17,17)",
                    "polar": {
                      "angularaxis": {
                        "gridcolor": "#506784",
                        "linecolor": "#506784",
                        "ticks": ""
                      },
                      "bgcolor": "rgb(17,17,17)",
                      "radialaxis": {
                        "gridcolor": "#506784",
                        "linecolor": "#506784",
                        "ticks": ""
                      }
                    },
                    "scene": {
                      "xaxis": {
                        "backgroundcolor": "rgb(17,17,17)",
                        "gridcolor": "#506784",
                        "gridwidth": 2,
                        "linecolor": "#506784",
                        "showbackground": true,
                        "ticks": "",
                        "zerolinecolor": "#C8D4E3"
                      },
                      "yaxis": {
                        "backgroundcolor": "rgb(17,17,17)",
                        "gridcolor": "#506784",
                        "gridwidth": 2,
                        "linecolor": "#506784",
                        "showbackground": true,
                        "ticks": "",
                        "zerolinecolor": "#C8D4E3"
                      },
                      "zaxis": {
                        "backgroundcolor": "rgb(17,17,17)",
                        "gridcolor": "#506784",
                        "gridwidth": 2,
                        "linecolor": "#506784",
                        "showbackground": true,
                        "ticks": "",
                        "zerolinecolor": "#C8D4E3"
                      }
                    },
                    "shapedefaults": {
                      "line": {
                        "color": "#f2f5fa"
                      }
                    },
                    "sliderdefaults": {
                      "bgcolor": "#C8D4E3",
                      "bordercolor": "rgb(17,17,17)",
                      "borderwidth": 1,
                      "tickwidth": 0
                    },
                    "ternary": {
                      "aaxis": {
                        "gridcolor": "#506784",
                        "linecolor": "#506784",
                        "ticks": ""
                      },
                      "baxis": {
                        "gridcolor": "#506784",
                        "linecolor": "#506784",
                        "ticks": ""
                      },
                      "bgcolor": "rgb(17,17,17)",
                      "caxis": {
                        "gridcolor": "#506784",
                        "linecolor": "#506784",
                        "ticks": ""
                      }
                    },
                    "title": {
                      "x": 0.05
                    },
                    "updatemenudefaults": {
                      "bgcolor": "#506784",
                      "borderwidth": 0
                    },
                    "xaxis": {
                      "automargin": true,
                      "gridcolor": "#283442",
                      "linecolor": "#506784",
                      "ticks": "",
                      "title": {
                        "standoff": 15
                      },
                      "zerolinecolor": "#283442",
                      "zerolinewidth": 2
                    },
                    "yaxis": {
                      "automargin": true,
                      "gridcolor": "#283442",
                      "linecolor": "#506784",
                      "ticks": "",
                      "title": {
                        "standoff": 15
                      },
                      "zerolinecolor": "#283442",
                      "zerolinewidth": 2
                    }
                  }
                },
                "title": {
                  "text": "Average Defect Rates by Inspection Results"
                },
                "xaxis": {
                  "anchor": "y",
                  "domain": [
                    0,
                    1
                  ],
                  "title": {
                    "text": "Inspection results"
                  }
                },
                "yaxis": {
                  "anchor": "x",
                  "domain": [
                    0,
                    1
                  ],
                  "title": {
                    "text": "Defect rates"
                  }
                }
              }
            }
          },
          "metadata": {},
          "output_type": "display_data"
        }
      ],
      "source": [
        "fig = px.scatter(defect_trends, x='Inspection results', y='Defect rates',\n",
        "                 size='Defect rates',\n",
        "                 title='Average Defect Rates by Inspection Results',\n",
        "                 color='Defect rates', color_continuous_scale='RdPu')\n",
        "\n",
        "fig.update_layout(template='plotly_dark')\n",
        "\n",
        "fig.add_annotation(dict(font=dict(color='orange',size=13),\n",
        "                                    x=0,\n",
        "                                    y=-0.11,\n",
        "                                    showarrow=False,\n",
        "                                    text=\"Powered by skills.ai\",\n",
        "                                    textangle=0,\n",
        "                                    xanchor='left',\n",
        "                                    xref=\"paper\",\n",
        "                                    yref=\"paper\"))\n",
        "fig.show()"
      ]
    },
    {
      "cell_type": "code",
      "execution_count": 15,
      "metadata": {
        "colab": {
          "base_uri": "https://localhost:8080/"
        },
        "id": "bryQbMxfZdP-",
        "outputId": "86725bd8-f388-4785-c965-82524ebd023e"
      },
      "outputs": [
        {
          "name": "stdout",
          "output_type": "stream",
          "text": [
            "   Lead times  Order quantities\n",
            "0           1         42.333333\n",
            "1          10         49.666667\n",
            "2          11         42.000000\n",
            "3          12         45.000000\n",
            "4          13         67.666667\n",
            "5          14         29.666667\n",
            "6          15         44.333333\n",
            "7          16         27.666667\n",
            "8          17         53.333333\n",
            "9          18         74.500000\n",
            "10         19         39.200000\n",
            "11          2         32.666667\n",
            "12         20         47.500000\n",
            "13         22         73.000000\n",
            "14         23         57.800000\n",
            "15         24         30.500000\n",
            "16         25         31.400000\n",
            "17         26         42.000000\n",
            "18         27         70.600000\n",
            "19         28         57.000000\n",
            "20         29         56.000000\n",
            "21          3         56.000000\n",
            "22         30         61.000000\n",
            "23          4         51.500000\n",
            "24          5         54.500000\n",
            "25          6          4.500000\n",
            "26          7         67.666667\n",
            "27          8         51.750000\n",
            "28          9         66.500000\n",
            "29        NAN         48.000000\n"
          ]
        }
      ],
      "source": [
        "df = data.copy()\n",
        "# Convert 'Order quantities' to numeric, handling errors\n",
        "df['Order quantities'] = pd.to_numeric(df['Order quantities'], errors='coerce')\n",
        "df = df.groupby('Lead times')['Order quantities'].mean().reset_index()\n",
        "df = df.sort_values('Lead times')\n",
        "print(df)"
      ]
    },
    {
      "cell_type": "code",
      "execution_count": 16,
      "metadata": {
        "colab": {
          "base_uri": "https://localhost:8080/",
          "height": 542
        },
        "id": "AIyyYcuBZl74",
        "outputId": "0a378165-1e72-4fcb-bd81-4cdaff4ce235"
      },
      "outputs": [
        {
          "data": {
            "application/vnd.plotly.v1+json": {
              "config": {
                "plotlyServerURL": "https://plot.ly"
              },
              "data": [
                {
                  "hovertemplate": "Lead times=%{x}<br>Order quantities=%{y}<extra></extra>",
                  "legendgroup": "",
                  "line": {
                    "color": "#636efa",
                    "dash": "solid"
                  },
                  "marker": {
                    "symbol": "circle"
                  },
                  "mode": "lines",
                  "name": "",
                  "orientation": "v",
                  "showlegend": false,
                  "type": "scatter",
                  "x": [
                    "1",
                    "10",
                    "11",
                    "12",
                    "13",
                    "14",
                    "15",
                    "16",
                    "17",
                    "18",
                    "19",
                    "2",
                    "20",
                    "22",
                    "23",
                    "24",
                    "25",
                    "26",
                    "27",
                    "28",
                    "29",
                    "3",
                    "30",
                    "4",
                    "5",
                    "6",
                    "7",
                    "8",
                    "9",
                    "NAN"
                  ],
                  "xaxis": "x",
                  "y": {
                    "bdata": "q6qqqqoqRUBVVVVVVdVIQAAAAAAAAEVAAAAAAACARkCrqqqqqupQQKuqqqqqqj1Aq6qqqqoqRkCrqqqqqqo7QKuqqqqqqkpAAAAAAACgUkCamZmZmZlDQFVVVVVVVUBAAAAAAADAR0AAAAAAAEBSQGZmZmZm5kxAAAAAAACAPkBmZmZmZmY/QAAAAAAAAEVAZmZmZmamUUAAAAAAAIBMQAAAAAAAAExAAAAAAAAATEAAAAAAAIBOQAAAAAAAwElAAAAAAABAS0AAAAAAAAASQKuqqqqq6lBAAAAAAADgSUAAAAAAAKBQQAAAAAAAAEhA",
                    "dtype": "f8"
                  },
                  "yaxis": "y"
                }
              ],
              "layout": {
                "font": {
                  "color": "white"
                },
                "legend": {
                  "tracegroupgap": 0
                },
                "paper_bgcolor": "rgba(0, 28, 48, 1)",
                "plot_bgcolor": "rgba(0, 28, 48, 1)",
                "template": {
                  "data": {
                    "bar": [
                      {
                        "error_x": {
                          "color": "#2a3f5f"
                        },
                        "error_y": {
                          "color": "#2a3f5f"
                        },
                        "marker": {
                          "line": {
                            "color": "#E5ECF6",
                            "width": 0.5
                          },
                          "pattern": {
                            "fillmode": "overlay",
                            "size": 10,
                            "solidity": 0.2
                          }
                        },
                        "type": "bar"
                      }
                    ],
                    "barpolar": [
                      {
                        "marker": {
                          "line": {
                            "color": "#E5ECF6",
                            "width": 0.5
                          },
                          "pattern": {
                            "fillmode": "overlay",
                            "size": 10,
                            "solidity": 0.2
                          }
                        },
                        "type": "barpolar"
                      }
                    ],
                    "carpet": [
                      {
                        "aaxis": {
                          "endlinecolor": "#2a3f5f",
                          "gridcolor": "white",
                          "linecolor": "white",
                          "minorgridcolor": "white",
                          "startlinecolor": "#2a3f5f"
                        },
                        "baxis": {
                          "endlinecolor": "#2a3f5f",
                          "gridcolor": "white",
                          "linecolor": "white",
                          "minorgridcolor": "white",
                          "startlinecolor": "#2a3f5f"
                        },
                        "type": "carpet"
                      }
                    ],
                    "choropleth": [
                      {
                        "colorbar": {
                          "outlinewidth": 0,
                          "ticks": ""
                        },
                        "type": "choropleth"
                      }
                    ],
                    "contour": [
                      {
                        "colorbar": {
                          "outlinewidth": 0,
                          "ticks": ""
                        },
                        "colorscale": [
                          [
                            0,
                            "#0d0887"
                          ],
                          [
                            0.1111111111111111,
                            "#46039f"
                          ],
                          [
                            0.2222222222222222,
                            "#7201a8"
                          ],
                          [
                            0.3333333333333333,
                            "#9c179e"
                          ],
                          [
                            0.4444444444444444,
                            "#bd3786"
                          ],
                          [
                            0.5555555555555556,
                            "#d8576b"
                          ],
                          [
                            0.6666666666666666,
                            "#ed7953"
                          ],
                          [
                            0.7777777777777778,
                            "#fb9f3a"
                          ],
                          [
                            0.8888888888888888,
                            "#fdca26"
                          ],
                          [
                            1,
                            "#f0f921"
                          ]
                        ],
                        "type": "contour"
                      }
                    ],
                    "contourcarpet": [
                      {
                        "colorbar": {
                          "outlinewidth": 0,
                          "ticks": ""
                        },
                        "type": "contourcarpet"
                      }
                    ],
                    "heatmap": [
                      {
                        "colorbar": {
                          "outlinewidth": 0,
                          "ticks": ""
                        },
                        "colorscale": [
                          [
                            0,
                            "#0d0887"
                          ],
                          [
                            0.1111111111111111,
                            "#46039f"
                          ],
                          [
                            0.2222222222222222,
                            "#7201a8"
                          ],
                          [
                            0.3333333333333333,
                            "#9c179e"
                          ],
                          [
                            0.4444444444444444,
                            "#bd3786"
                          ],
                          [
                            0.5555555555555556,
                            "#d8576b"
                          ],
                          [
                            0.6666666666666666,
                            "#ed7953"
                          ],
                          [
                            0.7777777777777778,
                            "#fb9f3a"
                          ],
                          [
                            0.8888888888888888,
                            "#fdca26"
                          ],
                          [
                            1,
                            "#f0f921"
                          ]
                        ],
                        "type": "heatmap"
                      }
                    ],
                    "histogram": [
                      {
                        "marker": {
                          "pattern": {
                            "fillmode": "overlay",
                            "size": 10,
                            "solidity": 0.2
                          }
                        },
                        "type": "histogram"
                      }
                    ],
                    "histogram2d": [
                      {
                        "colorbar": {
                          "outlinewidth": 0,
                          "ticks": ""
                        },
                        "colorscale": [
                          [
                            0,
                            "#0d0887"
                          ],
                          [
                            0.1111111111111111,
                            "#46039f"
                          ],
                          [
                            0.2222222222222222,
                            "#7201a8"
                          ],
                          [
                            0.3333333333333333,
                            "#9c179e"
                          ],
                          [
                            0.4444444444444444,
                            "#bd3786"
                          ],
                          [
                            0.5555555555555556,
                            "#d8576b"
                          ],
                          [
                            0.6666666666666666,
                            "#ed7953"
                          ],
                          [
                            0.7777777777777778,
                            "#fb9f3a"
                          ],
                          [
                            0.8888888888888888,
                            "#fdca26"
                          ],
                          [
                            1,
                            "#f0f921"
                          ]
                        ],
                        "type": "histogram2d"
                      }
                    ],
                    "histogram2dcontour": [
                      {
                        "colorbar": {
                          "outlinewidth": 0,
                          "ticks": ""
                        },
                        "colorscale": [
                          [
                            0,
                            "#0d0887"
                          ],
                          [
                            0.1111111111111111,
                            "#46039f"
                          ],
                          [
                            0.2222222222222222,
                            "#7201a8"
                          ],
                          [
                            0.3333333333333333,
                            "#9c179e"
                          ],
                          [
                            0.4444444444444444,
                            "#bd3786"
                          ],
                          [
                            0.5555555555555556,
                            "#d8576b"
                          ],
                          [
                            0.6666666666666666,
                            "#ed7953"
                          ],
                          [
                            0.7777777777777778,
                            "#fb9f3a"
                          ],
                          [
                            0.8888888888888888,
                            "#fdca26"
                          ],
                          [
                            1,
                            "#f0f921"
                          ]
                        ],
                        "type": "histogram2dcontour"
                      }
                    ],
                    "mesh3d": [
                      {
                        "colorbar": {
                          "outlinewidth": 0,
                          "ticks": ""
                        },
                        "type": "mesh3d"
                      }
                    ],
                    "parcoords": [
                      {
                        "line": {
                          "colorbar": {
                            "outlinewidth": 0,
                            "ticks": ""
                          }
                        },
                        "type": "parcoords"
                      }
                    ],
                    "pie": [
                      {
                        "automargin": true,
                        "type": "pie"
                      }
                    ],
                    "scatter": [
                      {
                        "fillpattern": {
                          "fillmode": "overlay",
                          "size": 10,
                          "solidity": 0.2
                        },
                        "type": "scatter"
                      }
                    ],
                    "scatter3d": [
                      {
                        "line": {
                          "colorbar": {
                            "outlinewidth": 0,
                            "ticks": ""
                          }
                        },
                        "marker": {
                          "colorbar": {
                            "outlinewidth": 0,
                            "ticks": ""
                          }
                        },
                        "type": "scatter3d"
                      }
                    ],
                    "scattercarpet": [
                      {
                        "marker": {
                          "colorbar": {
                            "outlinewidth": 0,
                            "ticks": ""
                          }
                        },
                        "type": "scattercarpet"
                      }
                    ],
                    "scattergeo": [
                      {
                        "marker": {
                          "colorbar": {
                            "outlinewidth": 0,
                            "ticks": ""
                          }
                        },
                        "type": "scattergeo"
                      }
                    ],
                    "scattergl": [
                      {
                        "marker": {
                          "colorbar": {
                            "outlinewidth": 0,
                            "ticks": ""
                          }
                        },
                        "type": "scattergl"
                      }
                    ],
                    "scattermap": [
                      {
                        "marker": {
                          "colorbar": {
                            "outlinewidth": 0,
                            "ticks": ""
                          }
                        },
                        "type": "scattermap"
                      }
                    ],
                    "scattermapbox": [
                      {
                        "marker": {
                          "colorbar": {
                            "outlinewidth": 0,
                            "ticks": ""
                          }
                        },
                        "type": "scattermapbox"
                      }
                    ],
                    "scatterpolar": [
                      {
                        "marker": {
                          "colorbar": {
                            "outlinewidth": 0,
                            "ticks": ""
                          }
                        },
                        "type": "scatterpolar"
                      }
                    ],
                    "scatterpolargl": [
                      {
                        "marker": {
                          "colorbar": {
                            "outlinewidth": 0,
                            "ticks": ""
                          }
                        },
                        "type": "scatterpolargl"
                      }
                    ],
                    "scatterternary": [
                      {
                        "marker": {
                          "colorbar": {
                            "outlinewidth": 0,
                            "ticks": ""
                          }
                        },
                        "type": "scatterternary"
                      }
                    ],
                    "surface": [
                      {
                        "colorbar": {
                          "outlinewidth": 0,
                          "ticks": ""
                        },
                        "colorscale": [
                          [
                            0,
                            "#0d0887"
                          ],
                          [
                            0.1111111111111111,
                            "#46039f"
                          ],
                          [
                            0.2222222222222222,
                            "#7201a8"
                          ],
                          [
                            0.3333333333333333,
                            "#9c179e"
                          ],
                          [
                            0.4444444444444444,
                            "#bd3786"
                          ],
                          [
                            0.5555555555555556,
                            "#d8576b"
                          ],
                          [
                            0.6666666666666666,
                            "#ed7953"
                          ],
                          [
                            0.7777777777777778,
                            "#fb9f3a"
                          ],
                          [
                            0.8888888888888888,
                            "#fdca26"
                          ],
                          [
                            1,
                            "#f0f921"
                          ]
                        ],
                        "type": "surface"
                      }
                    ],
                    "table": [
                      {
                        "cells": {
                          "fill": {
                            "color": "#EBF0F8"
                          },
                          "line": {
                            "color": "white"
                          }
                        },
                        "header": {
                          "fill": {
                            "color": "#C8D4E3"
                          },
                          "line": {
                            "color": "white"
                          }
                        },
                        "type": "table"
                      }
                    ]
                  },
                  "layout": {
                    "annotationdefaults": {
                      "arrowcolor": "#2a3f5f",
                      "arrowhead": 0,
                      "arrowwidth": 1
                    },
                    "autotypenumbers": "strict",
                    "coloraxis": {
                      "colorbar": {
                        "outlinewidth": 0,
                        "ticks": ""
                      }
                    },
                    "colorscale": {
                      "diverging": [
                        [
                          0,
                          "#8e0152"
                        ],
                        [
                          0.1,
                          "#c51b7d"
                        ],
                        [
                          0.2,
                          "#de77ae"
                        ],
                        [
                          0.3,
                          "#f1b6da"
                        ],
                        [
                          0.4,
                          "#fde0ef"
                        ],
                        [
                          0.5,
                          "#f7f7f7"
                        ],
                        [
                          0.6,
                          "#e6f5d0"
                        ],
                        [
                          0.7,
                          "#b8e186"
                        ],
                        [
                          0.8,
                          "#7fbc41"
                        ],
                        [
                          0.9,
                          "#4d9221"
                        ],
                        [
                          1,
                          "#276419"
                        ]
                      ],
                      "sequential": [
                        [
                          0,
                          "#0d0887"
                        ],
                        [
                          0.1111111111111111,
                          "#46039f"
                        ],
                        [
                          0.2222222222222222,
                          "#7201a8"
                        ],
                        [
                          0.3333333333333333,
                          "#9c179e"
                        ],
                        [
                          0.4444444444444444,
                          "#bd3786"
                        ],
                        [
                          0.5555555555555556,
                          "#d8576b"
                        ],
                        [
                          0.6666666666666666,
                          "#ed7953"
                        ],
                        [
                          0.7777777777777778,
                          "#fb9f3a"
                        ],
                        [
                          0.8888888888888888,
                          "#fdca26"
                        ],
                        [
                          1,
                          "#f0f921"
                        ]
                      ],
                      "sequentialminus": [
                        [
                          0,
                          "#0d0887"
                        ],
                        [
                          0.1111111111111111,
                          "#46039f"
                        ],
                        [
                          0.2222222222222222,
                          "#7201a8"
                        ],
                        [
                          0.3333333333333333,
                          "#9c179e"
                        ],
                        [
                          0.4444444444444444,
                          "#bd3786"
                        ],
                        [
                          0.5555555555555556,
                          "#d8576b"
                        ],
                        [
                          0.6666666666666666,
                          "#ed7953"
                        ],
                        [
                          0.7777777777777778,
                          "#fb9f3a"
                        ],
                        [
                          0.8888888888888888,
                          "#fdca26"
                        ],
                        [
                          1,
                          "#f0f921"
                        ]
                      ]
                    },
                    "colorway": [
                      "#636efa",
                      "#EF553B",
                      "#00cc96",
                      "#ab63fa",
                      "#FFA15A",
                      "#19d3f3",
                      "#FF6692",
                      "#B6E880",
                      "#FF97FF",
                      "#FECB52"
                    ],
                    "font": {
                      "color": "#2a3f5f"
                    },
                    "geo": {
                      "bgcolor": "white",
                      "lakecolor": "white",
                      "landcolor": "#E5ECF6",
                      "showlakes": true,
                      "showland": true,
                      "subunitcolor": "white"
                    },
                    "hoverlabel": {
                      "align": "left"
                    },
                    "hovermode": "closest",
                    "mapbox": {
                      "style": "light"
                    },
                    "paper_bgcolor": "white",
                    "plot_bgcolor": "#E5ECF6",
                    "polar": {
                      "angularaxis": {
                        "gridcolor": "white",
                        "linecolor": "white",
                        "ticks": ""
                      },
                      "bgcolor": "#E5ECF6",
                      "radialaxis": {
                        "gridcolor": "white",
                        "linecolor": "white",
                        "ticks": ""
                      }
                    },
                    "scene": {
                      "xaxis": {
                        "backgroundcolor": "#E5ECF6",
                        "gridcolor": "white",
                        "gridwidth": 2,
                        "linecolor": "white",
                        "showbackground": true,
                        "ticks": "",
                        "zerolinecolor": "white"
                      },
                      "yaxis": {
                        "backgroundcolor": "#E5ECF6",
                        "gridcolor": "white",
                        "gridwidth": 2,
                        "linecolor": "white",
                        "showbackground": true,
                        "ticks": "",
                        "zerolinecolor": "white"
                      },
                      "zaxis": {
                        "backgroundcolor": "#E5ECF6",
                        "gridcolor": "white",
                        "gridwidth": 2,
                        "linecolor": "white",
                        "showbackground": true,
                        "ticks": "",
                        "zerolinecolor": "white"
                      }
                    },
                    "shapedefaults": {
                      "line": {
                        "color": "#2a3f5f"
                      }
                    },
                    "ternary": {
                      "aaxis": {
                        "gridcolor": "white",
                        "linecolor": "white",
                        "ticks": ""
                      },
                      "baxis": {
                        "gridcolor": "white",
                        "linecolor": "white",
                        "ticks": ""
                      },
                      "bgcolor": "#E5ECF6",
                      "caxis": {
                        "gridcolor": "white",
                        "linecolor": "white",
                        "ticks": ""
                      }
                    },
                    "title": {
                      "x": 0.05
                    },
                    "xaxis": {
                      "automargin": true,
                      "gridcolor": "white",
                      "linecolor": "white",
                      "ticks": "",
                      "title": {
                        "standoff": 15
                      },
                      "zerolinecolor": "white",
                      "zerolinewidth": 2
                    },
                    "yaxis": {
                      "automargin": true,
                      "gridcolor": "white",
                      "linecolor": "white",
                      "ticks": "",
                      "title": {
                        "standoff": 15
                      },
                      "zerolinecolor": "white",
                      "zerolinewidth": 2
                    }
                  }
                },
                "title": {
                  "text": "Relationship between Lead Times and Order Quantities"
                },
                "xaxis": {
                  "anchor": "y",
                  "domain": [
                    0,
                    1
                  ],
                  "title": {
                    "text": "Lead times"
                  }
                },
                "yaxis": {
                  "anchor": "x",
                  "domain": [
                    0,
                    1
                  ],
                  "title": {
                    "text": "Order quantities"
                  }
                }
              }
            }
          },
          "metadata": {},
          "output_type": "display_data"
        }
      ],
      "source": [
        "fig = px.line(df, x='Lead times', y='Order quantities',\n",
        "              title='Relationship between Lead Times and Order Quantities')\n",
        "\n",
        "fig.update_layout({\n",
        "    'plot_bgcolor': 'rgba(0, 28, 48, 1)',\n",
        "    'paper_bgcolor': 'rgba(0, 28, 48, 1)',\n",
        "    'font_color': 'white'\n",
        "})\n",
        "\n",
        "fig.show()"
      ]
    },
    {
      "cell_type": "code",
      "execution_count": 17,
      "metadata": {
        "colab": {
          "base_uri": "https://localhost:8080/",
          "height": 526
        },
        "id": "4CQD6U8Pe-OC",
        "outputId": "ba116aed-e9ef-4bbf-8e32-6a1ec6ae18a0"
      },
      "outputs": [
        {
          "data": {
            "image/png": "[encoded data removed]",
            "text/plain": [
              "<Figure size 1000x600 with 1 Axes>"
            ]
          },
          "metadata": {},
          "output_type": "display_data"
        }
      ],
      "source": [
        "import matplotlib.pyplot as plt\n",
        "import seaborn as sns\n",
        "\n",
        "# Assuming 'data' is your DataFrame and 'column_name' is the column you want to visualize\n",
        "plt.figure(figsize=(10, 6))  # Adjust figure size if needed\n",
        "sns.boxplot(data['Manufacturing costs'])  # Set vert=False for horizontal box plot\n",
        "plt.title('Manufacturing costs')  # Set the x-axis label\n",
        "plt.show()  # Display the plot"
      ]
    },
    {
      "cell_type": "code",
      "execution_count": 18,
      "metadata": {
        "colab": {
          "base_uri": "https://localhost:8080/",
          "height": 1000
        },
        "id": "m_pAlyt4fnAS",
        "outputId": "da13005e-e990-4b97-98d0-c8816d023a10"
      },
      "outputs": [
        {
          "data": {
            "image/png": "[encoded data removed]",
            "text/plain": [
              "<Figure size 1200x1000 with 2 Axes>"
            ]
          },
          "metadata": {},
          "output_type": "display_data"
        }
      ],
      "source": [
        "import seaborn as sns\n",
        "import matplotlib.pyplot as plt\n",
        "\n",
        "# Assuming 'data' is your DataFrame and you want to visualize the correlation between numerical features\n",
        "numerical_cols = data.select_dtypes(include=['float64', 'int64']).columns  # Select numerical features\n",
        "correlation_matrix = data[numerical_cols].corr()  # Calculate correlation matrix\n",
        "\n",
        "plt.figure(figsize=(12, 10))  # Adjust figure size if needed\n",
        "sns.heatmap(correlation_matrix, annot=True, cmap='coolwarm', fmt=\".2f\")  # Create heatmap\n",
        "plt.title('Correlation Heatmap')  # Set the title of the plot\n",
        "plt.show()  # Display the plot"
      ]
    },
    {
      "cell_type": "code",
      "execution_count": 19,
      "metadata": {
        "colab": {
          "base_uri": "https://localhost:8080/",
          "height": 542
        },
        "id": "OI6l1lFsk_7n",
        "outputId": "400e8328-3a66-448c-f45c-0f35bd204b78"
      },
      "outputs": [
        {
          "data": {
            "application/vnd.plotly.v1+json": {
              "config": {
                "plotlyServerURL": "https://plot.ly"
              },
              "data": [
                {
                  "customdata": [
                    [
                      "802"
                    ],
                    [
                      "NAN"
                    ],
                    [
                      "147"
                    ],
                    [
                      "336"
                    ],
                    [
                      "620"
                    ],
                    [
                      "884"
                    ],
                    [
                      "209"
                    ],
                    [
                      "142"
                    ],
                    [
                      "353"
                    ],
                    [
                      "327"
                    ],
                    [
                      "598"
                    ],
                    [
                      "24"
                    ],
                    [
                      "859"
                    ],
                    [
                      "29"
                    ],
                    [
                      "154"
                    ],
                    [
                      "622"
                    ],
                    [
                      "701"
                    ],
                    [
                      "227"
                    ],
                    [
                      "117"
                    ],
                    [
                      "163"
                    ],
                    [
                      "NAN"
                    ],
                    [
                      "904"
                    ],
                    [
                      "241"
                    ],
                    [
                      "359"
                    ],
                    [
                      "946"
                    ],
                    [
                      "198"
                    ],
                    [
                      "774"
                    ],
                    [
                      "663"
                    ],
                    [
                      "618"
                    ],
                    [
                      "79"
                    ],
                    [
                      "114"
                    ],
                    [
                      "672"
                    ],
                    [
                      "62"
                    ],
                    [
                      "627"
                    ]
                  ],
                  "hovertemplate": "Product type=haircare<br>Price=%{x}<br>Revenue generated=%{y}<br>Number of products sold=%{customdata[0]}<extra></extra>",
                  "legendgroup": "haircare",
                  "marker": {
                    "color": "#636efa",
                    "symbol": "circle"
                  },
                  "mode": "markers",
                  "name": "haircare",
                  "orientation": "v",
                  "showlegend": true,
                  "type": "scatter",
                  "x": [
                    "69.80800554",
                    "11.31968329",
                    "1.699976014",
                    "71.21338908",
                    "36.44362777",
                    "27.67978089",
                    "4.156308359",
                    "39.62934399",
                    "97.44694662",
                    "8.022859211",
                    "11.74327178",
                    "33.78413803",
                    "27.0822072",
                    "76.03554443",
                    "26.70076097",
                    "31.14624316",
                    "79.85505834",
                    "49.26320535",
                    "52.0287499",
                    "37.93181238",
                    "47.91454182",
                    "3.170011414",
                    "69.10879955",
                    "57.44974296",
                    "6.306883176",
                    "57.05703122",
                    "72.81920693",
                    "68.91124621",
                    "89.10436729",
                    "80.41403665",
                    "69.290831",
                    "77.90392722",
                    "3.526111259",
                    "68.5178327"
                  ],
                  "xaxis": "x",
                  "y": [
                    "8661.996792",
                    "9577.749626",
                    "2828.348746",
                    "2873.741446",
                    "9364.673505",
                    "2390.807867",
                    "9049.077861",
                    "2174.777054",
                    "3716.493326",
                    "2766.342367",
                    "5737.425599",
                    "5267.956808",
                    "2556.767361",
                    "7397.071005",
                    "9866.465458",
                    "6088.02148",
                    "2925.67517",
                    "1605.8669",
                    "6885.589351",
                    "3550.218433",
                    "7014.887987",
                    "5709.945296",
                    "5328.375984",
                    "2483.760178",
                    "1292.458418",
                    "7888.723268",
                    "4384.4134",
                    "2411.754632",
                    "2048.2901",
                    "5133.846701",
                    "4531.402134",
                    "7386.363944",
                    "4370.91658",
                    "9185.185829"
                  ],
                  "yaxis": "y"
                },
                {
                  "customdata": [
                    [
                      "736"
                    ],
                    [
                      "Unknown"
                    ],
                    [
                      "871"
                    ],
                    [
                      "65"
                    ],
                    [
                      "980"
                    ],
                    [
                      "996"
                    ],
                    [
                      "960"
                    ],
                    [
                      "249"
                    ],
                    [
                      "562"
                    ],
                    [
                      "469"
                    ],
                    [
                      "280"
                    ],
                    [
                      "187"
                    ],
                    [
                      "320"
                    ],
                    [
                      "168"
                    ],
                    [
                      "781"
                    ],
                    [
                      "602"
                    ],
                    [
                      "963"
                    ],
                    [
                      "963"
                    ],
                    [
                      "176"
                    ],
                    [
                      "933"
                    ],
                    [
                      "556"
                    ],
                    [
                      "155"
                    ],
                    [
                      "910"
                    ],
                    [
                      "820"
                    ],
                    [
                      "242"
                    ],
                    [
                      "93"
                    ],
                    [
                      "896"
                    ],
                    [
                      "380"
                    ],
                    [
                      "246"
                    ],
                    [
                      "134"
                    ],
                    [
                      "457"
                    ],
                    [
                      "704"
                    ],
                    [
                      "513"
                    ],
                    [
                      "511"
                    ],
                    [
                      "106"
                    ],
                    [
                      "872"
                    ],
                    [
                      "336"
                    ],
                    [
                      "223"
                    ],
                    [
                      "320"
                    ],
                    [
                      "913"
                    ]
                  ],
                  "hovertemplate": "Product type=skincare<br>Price=%{x}<br>Revenue generated=%{y}<br>Number of products sold=%{customdata[0]}<extra></extra>",
                  "legendgroup": "skincare",
                  "marker": {
                    "color": "#EF553B",
                    "symbol": "circle"
                  },
                  "mode": "markers",
                  "name": "skincare",
                  "orientation": "v",
                  "showlegend": true,
                  "type": "scatter",
                  "x": [
                    "14.84352328",
                    "61.16334302",
                    "4.805496036",
                    "4.078332863",
                    "64.01573294",
                    "15.70779568",
                    "90.63545998",
                    "16.16039332",
                    "99.17132864",
                    "36.98924493",
                    "7.54717211",
                    "51.12387009",
                    "96.34107244",
                    "50.84739305",
                    "79.20993602",
                    "37.46759233",
                    "9.813002579",
                    "23.39984475",
                    "19.12747727",
                    "80.54142417",
                    "99.11329162",
                    "46.52916761",
                    "95.71213588",
                    "98.03182966",
                    "30.34147071",
                    "20.98638604",
                    "59.84156138",
                    "17.02802792",
                    "13.01737679",
                    "89.63409561",
                    "33.69771721",
                    "26.03486977",
                    "87.75543235",
                    "54.86552852",
                    "92.99688423",
                    "NAN",
                    "17.03493074",
                    "19.99817694",
                    "13.8819135",
                    "19.75460487"
                  ],
                  "xaxis": "x",
                  "y": [
                    "7460.900065",
                    "NAN",
                    "2686.505152",
                    "7823.47656",
                    "4971.145988",
                    "2330.965802",
                    "6099.944116",
                    "4052.738416",
                    "8653.570926",
                    "5442.086785",
                    "6453.797968",
                    "2553.495585",
                    "8128.027697",
                    "9655.135103",
                    "9571.550487",
                    "9061.710896",
                    "7573.402458",
                    "2438.33993",
                    "1912.465663",
                    "5724.95935",
                    "5521.205259",
                    "1839.609426",
                    "7089.47425",
                    "9435.762609",
                    "8232.334829",
                    "4767.020484",
                    "2021.14981",
                    "8864.08435",
                    "4256.949141",
                    "8458.730878",
                    "8354.579686",
                    "8367.721618",
                    "9473.798033",
                    "1752.381087",
                    "1889.07359",
                    "8651.672683",
                    "2943.381868",
                    "1229.591029",
                    "9592.63357",
                    "8525.95256"
                  ],
                  "yaxis": "y"
                },
                {
                  "customdata": [
                    [
                      "426"
                    ],
                    [
                      "150"
                    ],
                    [
                      "126"
                    ],
                    [
                      "601"
                    ],
                    [
                      "391"
                    ],
                    [
                      "352"
                    ],
                    [
                      "394"
                    ],
                    [
                      "253"
                    ],
                    [
                      "616"
                    ],
                    [
                      "NAN"
                    ],
                    [
                      "705"
                    ],
                    [
                      "919"
                    ],
                    [
                      "99"
                    ],
                    [
                      "633"
                    ],
                    [
                      "484"
                    ],
                    [
                      "270"
                    ],
                    [
                      "637"
                    ],
                    [
                      "478"
                    ],
                    [
                      "375"
                    ],
                    [
                      "25"
                    ],
                    [
                      "737"
                    ],
                    [
                      "134"
                    ],
                    [
                      "916"
                    ],
                    [
                      "276"
                    ],
                    [
                      "987"
                    ],
                    [
                      "324"
                    ]
                  ],
                  "hovertemplate": "Product type=cosmetics<br>Price=%{x}<br>Revenue generated=%{y}<br>Number of products sold=%{customdata[0]}<extra></extra>",
                  "legendgroup": "cosmetics",
                  "marker": {
                    "color": "#00cc96",
                    "symbol": "circle"
                  },
                  "mode": "markers",
                  "name": "cosmetics",
                  "orientation": "v",
                  "showlegend": true,
                  "type": "scatter",
                  "x": [
                    "42.95838438",
                    "68.71759675",
                    "81.46253437",
                    "84.89386898",
                    "4.324341186",
                    "92.55736081",
                    "2.397274706",
                    "63.44755919",
                    "64.795435",
                    "84.95778682",
                    "52.07593068",
                    "51.35579091",
                    "78.89791321",
                    "14.20348426",
                    "63.82839835",
                    "72.79635396",
                    "6.381533163",
                    "90.20442752",
                    "83.85101768",
                    "76.96299442",
                    "75.27040698",
                    "97.76008558",
                    "62.11196546",
                    "47.71423308",
                    "3.037688725",
                    "24.42313142"
                  ],
                  "xaxis": "x",
                  "y": [
                    "8496.103813",
                    "7517.363211",
                    "2629.396435",
                    "7087.052696",
                    "8858.367571",
                    "2686.457224",
                    "6117.324615",
                    "8318.903195",
                    "5149.99835",
                    "6541.329345",
                    "9692.31804",
                    "7152.286049",
                    "8001.613207",
                    "5910.88539",
                    "1061.618523",
                    "3899.746834",
                    "8180.337085",
                    "2633.121981",
                    "7910.886916",
                    "8684.613059",
                    "9444.742033",
                    "5924.682567",
                    "1935.206794",
                    "2100.129755",
                    "7888.356547",
                    "7698.424766"
                  ],
                  "yaxis": "y"
                }
              ],
              "layout": {
                "legend": {
                  "title": {
                    "text": "Product type"
                  },
                  "tracegroupgap": 0
                },
                "template": {
                  "data": {
                    "bar": [
                      {
                        "error_x": {
                          "color": "#2a3f5f"
                        },
                        "error_y": {
                          "color": "#2a3f5f"
                        },
                        "marker": {
                          "line": {
                            "color": "#E5ECF6",
                            "width": 0.5
                          },
                          "pattern": {
                            "fillmode": "overlay",
                            "size": 10,
                            "solidity": 0.2
                          }
                        },
                        "type": "bar"
                      }
                    ],
                    "barpolar": [
                      {
                        "marker": {
                          "line": {
                            "color": "#E5ECF6",
                            "width": 0.5
                          },
                          "pattern": {
                            "fillmode": "overlay",
                            "size": 10,
                            "solidity": 0.2
                          }
                        },
                        "type": "barpolar"
                      }
                    ],
                    "carpet": [
                      {
                        "aaxis": {
                          "endlinecolor": "#2a3f5f",
                          "gridcolor": "white",
                          "linecolor": "white",
                          "minorgridcolor": "white",
                          "startlinecolor": "#2a3f5f"
                        },
                        "baxis": {
                          "endlinecolor": "#2a3f5f",
                          "gridcolor": "white",
                          "linecolor": "white",
                          "minorgridcolor": "white",
                          "startlinecolor": "#2a3f5f"
                        },
                        "type": "carpet"
                      }
                    ],
                    "choropleth": [
                      {
                        "colorbar": {
                          "outlinewidth": 0,
                          "ticks": ""
                        },
                        "type": "choropleth"
                      }
                    ],
                    "contour": [
                      {
                        "colorbar": {
                          "outlinewidth": 0,
                          "ticks": ""
                        },
                        "colorscale": [
                          [
                            0,
                            "#0d0887"
                          ],
                          [
                            0.1111111111111111,
                            "#46039f"
                          ],
                          [
                            0.2222222222222222,
                            "#7201a8"
                          ],
                          [
                            0.3333333333333333,
                            "#9c179e"
                          ],
                          [
                            0.4444444444444444,
                            "#bd3786"
                          ],
                          [
                            0.5555555555555556,
                            "#d8576b"
                          ],
                          [
                            0.6666666666666666,
                            "#ed7953"
                          ],
                          [
                            0.7777777777777778,
                            "#fb9f3a"
                          ],
                          [
                            0.8888888888888888,
                            "#fdca26"
                          ],
                          [
                            1,
                            "#f0f921"
                          ]
                        ],
                        "type": "contour"
                      }
                    ],
                    "contourcarpet": [
                      {
                        "colorbar": {
                          "outlinewidth": 0,
                          "ticks": ""
                        },
                        "type": "contourcarpet"
                      }
                    ],
                    "heatmap": [
                      {
                        "colorbar": {
                          "outlinewidth": 0,
                          "ticks": ""
                        },
                        "colorscale": [
                          [
                            0,
                            "#0d0887"
                          ],
                          [
                            0.1111111111111111,
                            "#46039f"
                          ],
                          [
                            0.2222222222222222,
                            "#7201a8"
                          ],
                          [
                            0.3333333333333333,
                            "#9c179e"
                          ],
                          [
                            0.4444444444444444,
                            "#bd3786"
                          ],
                          [
                            0.5555555555555556,
                            "#d8576b"
                          ],
                          [
                            0.6666666666666666,
                            "#ed7953"
                          ],
                          [
                            0.7777777777777778,
                            "#fb9f3a"
                          ],
                          [
                            0.8888888888888888,
                            "#fdca26"
                          ],
                          [
                            1,
                            "#f0f921"
                          ]
                        ],
                        "type": "heatmap"
                      }
                    ],
                    "histogram": [
                      {
                        "marker": {
                          "pattern": {
                            "fillmode": "overlay",
                            "size": 10,
                            "solidity": 0.2
                          }
                        },
                        "type": "histogram"
                      }
                    ],
                    "histogram2d": [
                      {
                        "colorbar": {
                          "outlinewidth": 0,
                          "ticks": ""
                        },
                        "colorscale": [
                          [
                            0,
                            "#0d0887"
                          ],
                          [
                            0.1111111111111111,
                            "#46039f"
                          ],
                          [
                            0.2222222222222222,
                            "#7201a8"
                          ],
                          [
                            0.3333333333333333,
                            "#9c179e"
                          ],
                          [
                            0.4444444444444444,
                            "#bd3786"
                          ],
                          [
                            0.5555555555555556,
                            "#d8576b"
                          ],
                          [
                            0.6666666666666666,
                            "#ed7953"
                          ],
                          [
                            0.7777777777777778,
                            "#fb9f3a"
                          ],
                          [
                            0.8888888888888888,
                            "#fdca26"
                          ],
                          [
                            1,
                            "#f0f921"
                          ]
                        ],
                        "type": "histogram2d"
                      }
                    ],
                    "histogram2dcontour": [
                      {
                        "colorbar": {
                          "outlinewidth": 0,
                          "ticks": ""
                        },
                        "colorscale": [
                          [
                            0,
                            "#0d0887"
                          ],
                          [
                            0.1111111111111111,
                            "#46039f"
                          ],
                          [
                            0.2222222222222222,
                            "#7201a8"
                          ],
                          [
                            0.3333333333333333,
                            "#9c179e"
                          ],
                          [
                            0.4444444444444444,
                            "#bd3786"
                          ],
                          [
                            0.5555555555555556,
                            "#d8576b"
                          ],
                          [
                            0.6666666666666666,
                            "#ed7953"
                          ],
                          [
                            0.7777777777777778,
                            "#fb9f3a"
                          ],
                          [
                            0.8888888888888888,
                            "#fdca26"
                          ],
                          [
                            1,
                            "#f0f921"
                          ]
                        ],
                        "type": "histogram2dcontour"
                      }
                    ],
                    "mesh3d": [
                      {
                        "colorbar": {
                          "outlinewidth": 0,
                          "ticks": ""
                        },
                        "type": "mesh3d"
                      }
                    ],
                    "parcoords": [
                      {
                        "line": {
                          "colorbar": {
                            "outlinewidth": 0,
                            "ticks": ""
                          }
                        },
                        "type": "parcoords"
                      }
                    ],
                    "pie": [
                      {
                        "automargin": true,
                        "type": "pie"
                      }
                    ],
                    "scatter": [
                      {
                        "fillpattern": {
                          "fillmode": "overlay",
                          "size": 10,
                          "solidity": 0.2
                        },
                        "type": "scatter"
                      }
                    ],
                    "scatter3d": [
                      {
                        "line": {
                          "colorbar": {
                            "outlinewidth": 0,
                            "ticks": ""
                          }
                        },
                        "marker": {
                          "colorbar": {
                            "outlinewidth": 0,
                            "ticks": ""
                          }
                        },
                        "type": "scatter3d"
                      }
                    ],
                    "scattercarpet": [
                      {
                        "marker": {
                          "colorbar": {
                            "outlinewidth": 0,
                            "ticks": ""
                          }
                        },
                        "type": "scattercarpet"
                      }
                    ],
                    "scattergeo": [
                      {
                        "marker": {
                          "colorbar": {
                            "outlinewidth": 0,
                            "ticks": ""
                          }
                        },
                        "type": "scattergeo"
                      }
                    ],
                    "scattergl": [
                      {
                        "marker": {
                          "colorbar": {
                            "outlinewidth": 0,
                            "ticks": ""
                          }
                        },
                        "type": "scattergl"
                      }
                    ],
                    "scattermap": [
                      {
                        "marker": {
                          "colorbar": {
                            "outlinewidth": 0,
                            "ticks": ""
                          }
                        },
                        "type": "scattermap"
                      }
                    ],
                    "scattermapbox": [
                      {
                        "marker": {
                          "colorbar": {
                            "outlinewidth": 0,
                            "ticks": ""
                          }
                        },
                        "type": "scattermapbox"
                      }
                    ],
                    "scatterpolar": [
                      {
                        "marker": {
                          "colorbar": {
                            "outlinewidth": 0,
                            "ticks": ""
                          }
                        },
                        "type": "scatterpolar"
                      }
                    ],
                    "scatterpolargl": [
                      {
                        "marker": {
                          "colorbar": {
                            "outlinewidth": 0,
                            "ticks": ""
                          }
                        },
                        "type": "scatterpolargl"
                      }
                    ],
                    "scatterternary": [
                      {
                        "marker": {
                          "colorbar": {
                            "outlinewidth": 0,
                            "ticks": ""
                          }
                        },
                        "type": "scatterternary"
                      }
                    ],
                    "surface": [
                      {
                        "colorbar": {
                          "outlinewidth": 0,
                          "ticks": ""
                        },
                        "colorscale": [
                          [
                            0,
                            "#0d0887"
                          ],
                          [
                            0.1111111111111111,
                            "#46039f"
                          ],
                          [
                            0.2222222222222222,
                            "#7201a8"
                          ],
                          [
                            0.3333333333333333,
                            "#9c179e"
                          ],
                          [
                            0.4444444444444444,
                            "#bd3786"
                          ],
                          [
                            0.5555555555555556,
                            "#d8576b"
                          ],
                          [
                            0.6666666666666666,
                            "#ed7953"
                          ],
                          [
                            0.7777777777777778,
                            "#fb9f3a"
                          ],
                          [
                            0.8888888888888888,
                            "#fdca26"
                          ],
                          [
                            1,
                            "#f0f921"
                          ]
                        ],
                        "type": "surface"
                      }
                    ],
                    "table": [
                      {
                        "cells": {
                          "fill": {
                            "color": "#EBF0F8"
                          },
                          "line": {
                            "color": "white"
                          }
                        },
                        "header": {
                          "fill": {
                            "color": "#C8D4E3"
                          },
                          "line": {
                            "color": "white"
                          }
                        },
                        "type": "table"
                      }
                    ]
                  },
                  "layout": {
                    "annotationdefaults": {
                      "arrowcolor": "#2a3f5f",
                      "arrowhead": 0,
                      "arrowwidth": 1
                    },
                    "autotypenumbers": "strict",
                    "coloraxis": {
                      "colorbar": {
                        "outlinewidth": 0,
                        "ticks": ""
                      }
                    },
                    "colorscale": {
                      "diverging": [
                        [
                          0,
                          "#8e0152"
                        ],
                        [
                          0.1,
                          "#c51b7d"
                        ],
                        [
                          0.2,
                          "#de77ae"
                        ],
                        [
                          0.3,
                          "#f1b6da"
                        ],
                        [
                          0.4,
                          "#fde0ef"
                        ],
                        [
                          0.5,
                          "#f7f7f7"
                        ],
                        [
                          0.6,
                          "#e6f5d0"
                        ],
                        [
                          0.7,
                          "#b8e186"
                        ],
                        [
                          0.8,
                          "#7fbc41"
                        ],
                        [
                          0.9,
                          "#4d9221"
                        ],
                        [
                          1,
                          "#276419"
                        ]
                      ],
                      "sequential": [
                        [
                          0,
                          "#0d0887"
                        ],
                        [
                          0.1111111111111111,
                          "#46039f"
                        ],
                        [
                          0.2222222222222222,
                          "#7201a8"
                        ],
                        [
                          0.3333333333333333,
                          "#9c179e"
                        ],
                        [
                          0.4444444444444444,
                          "#bd3786"
                        ],
                        [
                          0.5555555555555556,
                          "#d8576b"
                        ],
                        [
                          0.6666666666666666,
                          "#ed7953"
                        ],
                        [
                          0.7777777777777778,
                          "#fb9f3a"
                        ],
                        [
                          0.8888888888888888,
                          "#fdca26"
                        ],
                        [
                          1,
                          "#f0f921"
                        ]
                      ],
                      "sequentialminus": [
                        [
                          0,
                          "#0d0887"
                        ],
                        [
                          0.1111111111111111,
                          "#46039f"
                        ],
                        [
                          0.2222222222222222,
                          "#7201a8"
                        ],
                        [
                          0.3333333333333333,
                          "#9c179e"
                        ],
                        [
                          0.4444444444444444,
                          "#bd3786"
                        ],
                        [
                          0.5555555555555556,
                          "#d8576b"
                        ],
                        [
                          0.6666666666666666,
                          "#ed7953"
                        ],
                        [
                          0.7777777777777778,
                          "#fb9f3a"
                        ],
                        [
                          0.8888888888888888,
                          "#fdca26"
                        ],
                        [
                          1,
                          "#f0f921"
                        ]
                      ]
                    },
                    "colorway": [
                      "#636efa",
                      "#EF553B",
                      "#00cc96",
                      "#ab63fa",
                      "#FFA15A",
                      "#19d3f3",
                      "#FF6692",
                      "#B6E880",
                      "#FF97FF",
                      "#FECB52"
                    ],
                    "font": {
                      "color": "#2a3f5f"
                    },
                    "geo": {
                      "bgcolor": "white",
                      "lakecolor": "white",
                      "landcolor": "#E5ECF6",
                      "showlakes": true,
                      "showland": true,
                      "subunitcolor": "white"
                    },
                    "hoverlabel": {
                      "align": "left"
                    },
                    "hovermode": "closest",
                    "mapbox": {
                      "style": "light"
                    },
                    "paper_bgcolor": "white",
                    "plot_bgcolor": "#E5ECF6",
                    "polar": {
                      "angularaxis": {
                        "gridcolor": "white",
                        "linecolor": "white",
                        "ticks": ""
                      },
                      "bgcolor": "#E5ECF6",
                      "radialaxis": {
                        "gridcolor": "white",
                        "linecolor": "white",
                        "ticks": ""
                      }
                    },
                    "scene": {
                      "xaxis": {
                        "backgroundcolor": "#E5ECF6",
                        "gridcolor": "white",
                        "gridwidth": 2,
                        "linecolor": "white",
                        "showbackground": true,
                        "ticks": "",
                        "zerolinecolor": "white"
                      },
                      "yaxis": {
                        "backgroundcolor": "#E5ECF6",
                        "gridcolor": "white",
                        "gridwidth": 2,
                        "linecolor": "white",
                        "showbackground": true,
                        "ticks": "",
                        "zerolinecolor": "white"
                      },
                      "zaxis": {
                        "backgroundcolor": "#E5ECF6",
                        "gridcolor": "white",
                        "gridwidth": 2,
                        "linecolor": "white",
                        "showbackground": true,
                        "ticks": "",
                        "zerolinecolor": "white"
                      }
                    },
                    "shapedefaults": {
                      "line": {
                        "color": "#2a3f5f"
                      }
                    },
                    "ternary": {
                      "aaxis": {
                        "gridcolor": "white",
                        "linecolor": "white",
                        "ticks": ""
                      },
                      "baxis": {
                        "gridcolor": "white",
                        "linecolor": "white",
                        "ticks": ""
                      },
                      "bgcolor": "#E5ECF6",
                      "caxis": {
                        "gridcolor": "white",
                        "linecolor": "white",
                        "ticks": ""
                      }
                    },
                    "title": {
                      "x": 0.05
                    },
                    "xaxis": {
                      "automargin": true,
                      "gridcolor": "white",
                      "linecolor": "white",
                      "ticks": "",
                      "title": {
                        "standoff": 15
                      },
                      "zerolinecolor": "white",
                      "zerolinewidth": 2
                    },
                    "yaxis": {
                      "automargin": true,
                      "gridcolor": "white",
                      "linecolor": "white",
                      "ticks": "",
                      "title": {
                        "standoff": 15
                      },
                      "zerolinecolor": "white",
                      "zerolinewidth": 2
                    }
                  }
                },
                "title": {
                  "text": "Revenue generated by product type"
                },
                "xaxis": {
                  "anchor": "y",
                  "domain": [
                    0,
                    1
                  ],
                  "title": {
                    "text": "Price"
                  }
                },
                "yaxis": {
                  "anchor": "x",
                  "domain": [
                    0,
                    1
                  ],
                  "title": {
                    "text": "Revenue generated"
                  }
                }
              }
            }
          },
          "metadata": {},
          "output_type": "display_data"
        }
      ],
      "source": [
        "fig = px.scatter(data, x=\"Price\", y=\"Revenue generated\", color=\"Product type\", title=\"Revenue generated by product type\", \\\n",
        "    hover_data = [\"Number of products sold\"])\n",
        "fig.show()"
      ]
    },
    {
      "cell_type": "code",
      "execution_count": 20,
      "metadata": {
        "colab": {
          "base_uri": "https://localhost:8080/",
          "height": 143
        },
        "id": "17M4X3CpmghT",
        "outputId": "f2385440-86f8-4773-c635-53dfe2f5e91e"
      },
      "outputs": [
        {
          "data": {
            "text/html": [
              "<div>\n",
              "<style scoped>\n",
              "    .dataframe tbody tr th:only-of-type {\n",
              "        vertical-align: middle;\n",
              "    }\n",
              "\n",
              "    .dataframe tbody tr th {\n",
              "        vertical-align: top;\n",
              "    }\n",
              "\n",
              "    .dataframe thead th {\n",
              "        text-align: right;\n",
              "    }\n",
              "</style>\n",
              "<table border=\"1\" class=\"dataframe\">\n",
              "  <thead>\n",
              "    <tr style=\"text-align: right;\">\n",
              "      <th></th>\n",
              "      <th>Product type</th>\n",
              "      <th>Lead time</th>\n",
              "    </tr>\n",
              "  </thead>\n",
              "  <tbody>\n",
              "    <tr>\n",
              "      <th>0</th>\n",
              "      <td>cosmetics</td>\n",
              "      <td>13.538462</td>\n",
              "    </tr>\n",
              "    <tr>\n",
              "      <th>1</th>\n",
              "      <td>haircare</td>\n",
              "      <td>18.705882</td>\n",
              "    </tr>\n",
              "    <tr>\n",
              "      <th>2</th>\n",
              "      <td>skincare</td>\n",
              "      <td>18.052632</td>\n",
              "    </tr>\n",
              "  </tbody>\n",
              "</table>\n",
              "</div>"
            ],
            "text/plain": [
              "  Product type  Lead time\n",
              "0    cosmetics  13.538462\n",
              "1     haircare  18.705882\n",
              "2     skincare  18.052632"
            ]
          },
          "execution_count": 20,
          "metadata": {},
          "output_type": "execute_result"
        }
      ],
      "source": [
        "avg_lead_time = data.groupby(\"Product type\")['Lead time'].apply(lambda x: pd.to_numeric(x, errors='coerce').mean()).reset_index()\n",
        "avg_lead_time"
      ]
    },
    {
      "cell_type": "code",
      "execution_count": 21,
      "metadata": {
        "colab": {
          "base_uri": "https://localhost:8080/",
          "height": 542
        },
        "id": "l_TggOmQmnzG",
        "outputId": "9a524494-8059-4c82-c231-88c027447c4a"
      },
      "outputs": [
        {
          "data": {
            "application/vnd.plotly.v1+json": {
              "config": {
                "plotlyServerURL": "https://plot.ly"
              },
              "data": [
                {
                  "hovertemplate": "Product type=%{x}<br>Lead time=%{y}<extra></extra>",
                  "legendgroup": "",
                  "marker": {
                    "color": "#636efa",
                    "pattern": {
                      "shape": ""
                    }
                  },
                  "name": "",
                  "orientation": "v",
                  "showlegend": false,
                  "textposition": "auto",
                  "type": "bar",
                  "x": [
                    "cosmetics",
                    "haircare",
                    "skincare"
                  ],
                  "xaxis": "x",
                  "y": {
                    "bdata": "O7ETO7ETK0C1tLS0tLQyQNhQXkN5DTJA",
                    "dtype": "f8"
                  },
                  "yaxis": "y"
                }
              ],
              "layout": {
                "barmode": "relative",
                "legend": {
                  "tracegroupgap": 0
                },
                "template": {
                  "data": {
                    "bar": [
                      {
                        "error_x": {
                          "color": "#2a3f5f"
                        },
                        "error_y": {
                          "color": "#2a3f5f"
                        },
                        "marker": {
                          "line": {
                            "color": "#E5ECF6",
                            "width": 0.5
                          },
                          "pattern": {
                            "fillmode": "overlay",
                            "size": 10,
                            "solidity": 0.2
                          }
                        },
                        "type": "bar"
                      }
                    ],
                    "barpolar": [
                      {
                        "marker": {
                          "line": {
                            "color": "#E5ECF6",
                            "width": 0.5
                          },
                          "pattern": {
                            "fillmode": "overlay",
                            "size": 10,
                            "solidity": 0.2
                          }
                        },
                        "type": "barpolar"
                      }
                    ],
                    "carpet": [
                      {
                        "aaxis": {
                          "endlinecolor": "#2a3f5f",
                          "gridcolor": "white",
                          "linecolor": "white",
                          "minorgridcolor": "white",
                          "startlinecolor": "#2a3f5f"
                        },
                        "baxis": {
                          "endlinecolor": "#2a3f5f",
                          "gridcolor": "white",
                          "linecolor": "white",
                          "minorgridcolor": "white",
                          "startlinecolor": "#2a3f5f"
                        },
                        "type": "carpet"
                      }
                    ],
                    "choropleth": [
                      {
                        "colorbar": {
                          "outlinewidth": 0,
                          "ticks": ""
                        },
                        "type": "choropleth"
                      }
                    ],
                    "contour": [
                      {
                        "colorbar": {
                          "outlinewidth": 0,
                          "ticks": ""
                        },
                        "colorscale": [
                          [
                            0,
                            "#0d0887"
                          ],
                          [
                            0.1111111111111111,
                            "#46039f"
                          ],
                          [
                            0.2222222222222222,
                            "#7201a8"
                          ],
                          [
                            0.3333333333333333,
                            "#9c179e"
                          ],
                          [
                            0.4444444444444444,
                            "#bd3786"
                          ],
                          [
                            0.5555555555555556,
                            "#d8576b"
                          ],
                          [
                            0.6666666666666666,
                            "#ed7953"
                          ],
                          [
                            0.7777777777777778,
                            "#fb9f3a"
                          ],
                          [
                            0.8888888888888888,
                            "#fdca26"
                          ],
                          [
                            1,
                            "#f0f921"
                          ]
                        ],
                        "type": "contour"
                      }
                    ],
                    "contourcarpet": [
                      {
                        "colorbar": {
                          "outlinewidth": 0,
                          "ticks": ""
                        },
                        "type": "contourcarpet"
                      }
                    ],
                    "heatmap": [
                      {
                        "colorbar": {
                          "outlinewidth": 0,
                          "ticks": ""
                        },
                        "colorscale": [
                          [
                            0,
                            "#0d0887"
                          ],
                          [
                            0.1111111111111111,
                            "#46039f"
                          ],
                          [
                            0.2222222222222222,
                            "#7201a8"
                          ],
                          [
                            0.3333333333333333,
                            "#9c179e"
                          ],
                          [
                            0.4444444444444444,
                            "#bd3786"
                          ],
                          [
                            0.5555555555555556,
                            "#d8576b"
                          ],
                          [
                            0.6666666666666666,
                            "#ed7953"
                          ],
                          [
                            0.7777777777777778,
                            "#fb9f3a"
                          ],
                          [
                            0.8888888888888888,
                            "#fdca26"
                          ],
                          [
                            1,
                            "#f0f921"
                          ]
                        ],
                        "type": "heatmap"
                      }
                    ],
                    "histogram": [
                      {
                        "marker": {
                          "pattern": {
                            "fillmode": "overlay",
                            "size": 10,
                            "solidity": 0.2
                          }
                        },
                        "type": "histogram"
                      }
                    ],
                    "histogram2d": [
                      {
                        "colorbar": {
                          "outlinewidth": 0,
                          "ticks": ""
                        },
                        "colorscale": [
                          [
                            0,
                            "#0d0887"
                          ],
                          [
                            0.1111111111111111,
                            "#46039f"
                          ],
                          [
                            0.2222222222222222,
                            "#7201a8"
                          ],
                          [
                            0.3333333333333333,
                            "#9c179e"
                          ],
                          [
                            0.4444444444444444,
                            "#bd3786"
                          ],
                          [
                            0.5555555555555556,
                            "#d8576b"
                          ],
                          [
                            0.6666666666666666,
                            "#ed7953"
                          ],
                          [
                            0.7777777777777778,
                            "#fb9f3a"
                          ],
                          [
                            0.8888888888888888,
                            "#fdca26"
                          ],
                          [
                            1,
                            "#f0f921"
                          ]
                        ],
                        "type": "histogram2d"
                      }
                    ],
                    "histogram2dcontour": [
                      {
                        "colorbar": {
                          "outlinewidth": 0,
                          "ticks": ""
                        },
                        "colorscale": [
                          [
                            0,
                            "#0d0887"
                          ],
                          [
                            0.1111111111111111,
                            "#46039f"
                          ],
                          [
                            0.2222222222222222,
                            "#7201a8"
                          ],
                          [
                            0.3333333333333333,
                            "#9c179e"
                          ],
                          [
                            0.4444444444444444,
                            "#bd3786"
                          ],
                          [
                            0.5555555555555556,
                            "#d8576b"
                          ],
                          [
                            0.6666666666666666,
                            "#ed7953"
                          ],
                          [
                            0.7777777777777778,
                            "#fb9f3a"
                          ],
                          [
                            0.8888888888888888,
                            "#fdca26"
                          ],
                          [
                            1,
                            "#f0f921"
                          ]
                        ],
                        "type": "histogram2dcontour"
                      }
                    ],
                    "mesh3d": [
                      {
                        "colorbar": {
                          "outlinewidth": 0,
                          "ticks": ""
                        },
                        "type": "mesh3d"
                      }
                    ],
                    "parcoords": [
                      {
                        "line": {
                          "colorbar": {
                            "outlinewidth": 0,
                            "ticks": ""
                          }
                        },
                        "type": "parcoords"
                      }
                    ],
                    "pie": [
                      {
                        "automargin": true,
                        "type": "pie"
                      }
                    ],
                    "scatter": [
                      {
                        "fillpattern": {
                          "fillmode": "overlay",
                          "size": 10,
                          "solidity": 0.2
                        },
                        "type": "scatter"
                      }
                    ],
                    "scatter3d": [
                      {
                        "line": {
                          "colorbar": {
                            "outlinewidth": 0,
                            "ticks": ""
                          }
                        },
                        "marker": {
                          "colorbar": {
                            "outlinewidth": 0,
                            "ticks": ""
                          }
                        },
                        "type": "scatter3d"
                      }
                    ],
                    "scattercarpet": [
                      {
                        "marker": {
                          "colorbar": {
                            "outlinewidth": 0,
                            "ticks": ""
                          }
                        },
                        "type": "scattercarpet"
                      }
                    ],
                    "scattergeo": [
                      {
                        "marker": {
                          "colorbar": {
                            "outlinewidth": 0,
                            "ticks": ""
                          }
                        },
                        "type": "scattergeo"
                      }
                    ],
                    "scattergl": [
                      {
                        "marker": {
                          "colorbar": {
                            "outlinewidth": 0,
                            "ticks": ""
                          }
                        },
                        "type": "scattergl"
                      }
                    ],
                    "scattermap": [
                      {
                        "marker": {
                          "colorbar": {
                            "outlinewidth": 0,
                            "ticks": ""
                          }
                        },
                        "type": "scattermap"
                      }
                    ],
                    "scattermapbox": [
                      {
                        "marker": {
                          "colorbar": {
                            "outlinewidth": 0,
                            "ticks": ""
                          }
                        },
                        "type": "scattermapbox"
                      }
                    ],
                    "scatterpolar": [
                      {
                        "marker": {
                          "colorbar": {
                            "outlinewidth": 0,
                            "ticks": ""
                          }
                        },
                        "type": "scatterpolar"
                      }
                    ],
                    "scatterpolargl": [
                      {
                        "marker": {
                          "colorbar": {
                            "outlinewidth": 0,
                            "ticks": ""
                          }
                        },
                        "type": "scatterpolargl"
                      }
                    ],
                    "scatterternary": [
                      {
                        "marker": {
                          "colorbar": {
                            "outlinewidth": 0,
                            "ticks": ""
                          }
                        },
                        "type": "scatterternary"
                      }
                    ],
                    "surface": [
                      {
                        "colorbar": {
                          "outlinewidth": 0,
                          "ticks": ""
                        },
                        "colorscale": [
                          [
                            0,
                            "#0d0887"
                          ],
                          [
                            0.1111111111111111,
                            "#46039f"
                          ],
                          [
                            0.2222222222222222,
                            "#7201a8"
                          ],
                          [
                            0.3333333333333333,
                            "#9c179e"
                          ],
                          [
                            0.4444444444444444,
                            "#bd3786"
                          ],
                          [
                            0.5555555555555556,
                            "#d8576b"
                          ],
                          [
                            0.6666666666666666,
                            "#ed7953"
                          ],
                          [
                            0.7777777777777778,
                            "#fb9f3a"
                          ],
                          [
                            0.8888888888888888,
                            "#fdca26"
                          ],
                          [
                            1,
                            "#f0f921"
                          ]
                        ],
                        "type": "surface"
                      }
                    ],
                    "table": [
                      {
                        "cells": {
                          "fill": {
                            "color": "#EBF0F8"
                          },
                          "line": {
                            "color": "white"
                          }
                        },
                        "header": {
                          "fill": {
                            "color": "#C8D4E3"
                          },
                          "line": {
                            "color": "white"
                          }
                        },
                        "type": "table"
                      }
                    ]
                  },
                  "layout": {
                    "annotationdefaults": {
                      "arrowcolor": "#2a3f5f",
                      "arrowhead": 0,
                      "arrowwidth": 1
                    },
                    "autotypenumbers": "strict",
                    "coloraxis": {
                      "colorbar": {
                        "outlinewidth": 0,
                        "ticks": ""
                      }
                    },
                    "colorscale": {
                      "diverging": [
                        [
                          0,
                          "#8e0152"
                        ],
                        [
                          0.1,
                          "#c51b7d"
                        ],
                        [
                          0.2,
                          "#de77ae"
                        ],
                        [
                          0.3,
                          "#f1b6da"
                        ],
                        [
                          0.4,
                          "#fde0ef"
                        ],
                        [
                          0.5,
                          "#f7f7f7"
                        ],
                        [
                          0.6,
                          "#e6f5d0"
                        ],
                        [
                          0.7,
                          "#b8e186"
                        ],
                        [
                          0.8,
                          "#7fbc41"
                        ],
                        [
                          0.9,
                          "#4d9221"
                        ],
                        [
                          1,
                          "#276419"
                        ]
                      ],
                      "sequential": [
                        [
                          0,
                          "#0d0887"
                        ],
                        [
                          0.1111111111111111,
                          "#46039f"
                        ],
                        [
                          0.2222222222222222,
                          "#7201a8"
                        ],
                        [
                          0.3333333333333333,
                          "#9c179e"
                        ],
                        [
                          0.4444444444444444,
                          "#bd3786"
                        ],
                        [
                          0.5555555555555556,
                          "#d8576b"
                        ],
                        [
                          0.6666666666666666,
                          "#ed7953"
                        ],
                        [
                          0.7777777777777778,
                          "#fb9f3a"
                        ],
                        [
                          0.8888888888888888,
                          "#fdca26"
                        ],
                        [
                          1,
                          "#f0f921"
                        ]
                      ],
                      "sequentialminus": [
                        [
                          0,
                          "#0d0887"
                        ],
                        [
                          0.1111111111111111,
                          "#46039f"
                        ],
                        [
                          0.2222222222222222,
                          "#7201a8"
                        ],
                        [
                          0.3333333333333333,
                          "#9c179e"
                        ],
                        [
                          0.4444444444444444,
                          "#bd3786"
                        ],
                        [
                          0.5555555555555556,
                          "#d8576b"
                        ],
                        [
                          0.6666666666666666,
                          "#ed7953"
                        ],
                        [
                          0.7777777777777778,
                          "#fb9f3a"
                        ],
                        [
                          0.8888888888888888,
                          "#fdca26"
                        ],
                        [
                          1,
                          "#f0f921"
                        ]
                      ]
                    },
                    "colorway": [
                      "#636efa",
                      "#EF553B",
                      "#00cc96",
                      "#ab63fa",
                      "#FFA15A",
                      "#19d3f3",
                      "#FF6692",
                      "#B6E880",
                      "#FF97FF",
                      "#FECB52"
                    ],
                    "font": {
                      "color": "#2a3f5f"
                    },
                    "geo": {
                      "bgcolor": "white",
                      "lakecolor": "white",
                      "landcolor": "#E5ECF6",
                      "showlakes": true,
                      "showland": true,
                      "subunitcolor": "white"
                    },
                    "hoverlabel": {
                      "align": "left"
                    },
                    "hovermode": "closest",
                    "mapbox": {
                      "style": "light"
                    },
                    "paper_bgcolor": "white",
                    "plot_bgcolor": "#E5ECF6",
                    "polar": {
                      "angularaxis": {
                        "gridcolor": "white",
                        "linecolor": "white",
                        "ticks": ""
                      },
                      "bgcolor": "#E5ECF6",
                      "radialaxis": {
                        "gridcolor": "white",
                        "linecolor": "white",
                        "ticks": ""
                      }
                    },
                    "scene": {
                      "xaxis": {
                        "backgroundcolor": "#E5ECF6",
                        "gridcolor": "white",
                        "gridwidth": 2,
                        "linecolor": "white",
                        "showbackground": true,
                        "ticks": "",
                        "zerolinecolor": "white"
                      },
                      "yaxis": {
                        "backgroundcolor": "#E5ECF6",
                        "gridcolor": "white",
                        "gridwidth": 2,
                        "linecolor": "white",
                        "showbackground": true,
                        "ticks": "",
                        "zerolinecolor": "white"
                      },
                      "zaxis": {
                        "backgroundcolor": "#E5ECF6",
                        "gridcolor": "white",
                        "gridwidth": 2,
                        "linecolor": "white",
                        "showbackground": true,
                        "ticks": "",
                        "zerolinecolor": "white"
                      }
                    },
                    "shapedefaults": {
                      "line": {
                        "color": "#2a3f5f"
                      }
                    },
                    "ternary": {
                      "aaxis": {
                        "gridcolor": "white",
                        "linecolor": "white",
                        "ticks": ""
                      },
                      "baxis": {
                        "gridcolor": "white",
                        "linecolor": "white",
                        "ticks": ""
                      },
                      "bgcolor": "#E5ECF6",
                      "caxis": {
                        "gridcolor": "white",
                        "linecolor": "white",
                        "ticks": ""
                      }
                    },
                    "title": {
                      "x": 0.05
                    },
                    "xaxis": {
                      "automargin": true,
                      "gridcolor": "white",
                      "linecolor": "white",
                      "ticks": "",
                      "title": {
                        "standoff": 15
                      },
                      "zerolinecolor": "white",
                      "zerolinewidth": 2
                    },
                    "yaxis": {
                      "automargin": true,
                      "gridcolor": "white",
                      "linecolor": "white",
                      "ticks": "",
                      "title": {
                        "standoff": 15
                      },
                      "zerolinecolor": "white",
                      "zerolinewidth": 2
                    }
                  }
                },
                "title": {
                  "text": "Average lead time"
                },
                "xaxis": {
                  "anchor": "y",
                  "domain": [
                    0,
                    1
                  ],
                  "title": {
                    "text": "Product type"
                  }
                },
                "yaxis": {
                  "anchor": "x",
                  "domain": [
                    0,
                    1
                  ],
                  "title": {
                    "text": "Lead time"
                  }
                }
              }
            }
          },
          "metadata": {},
          "output_type": "display_data"
        }
      ],
      "source": [
        "bar_lead_time = px.bar(avg_lead_time, x='Product type', y='Lead time', title='Average lead time')\n",
        "bar_lead_time.show()"
      ]
    },
    {
      "cell_type": "code",
      "execution_count": 22,
      "metadata": {
        "colab": {
          "base_uri": "https://localhost:8080/"
        },
        "id": "wBHSx60cBhDv",
        "outputId": "0799e933-1e1a-4a15-a8bd-9a02196cae17"
      },
      "outputs": [
        {
          "name": "stdout",
          "output_type": "stream",
          "text": [
            "Scaled Data:\n",
            "   Product type    SKU        Price Availability Number of products sold  \\\n",
            "0      haircare   SKU0  69.80800554           55                     802   \n",
            "1      skincare   SKU1  14.84352328           95                     736   \n",
            "2      haircare   SKU2  11.31968329           34                     NAN   \n",
            "3      skincare   SKU3  61.16334302           68                 Unknown   \n",
            "4      skincare   SKU4  4.805496036           26                     871   \n",
            "..          ...    ...          ...          ...                     ...   \n",
            "95     haircare  SKU95  77.90392722           65                     672   \n",
            "96    cosmetics  SKU96  24.42313142           29                     324   \n",
            "97     haircare  SKU97  3.526111259           56                      62   \n",
            "98     skincare  SKU98  19.75460487           43                     913   \n",
            "99     haircare  SKU99   68.5178327           17                     627   \n",
            "\n",
            "   Revenue generated Customer demographics  Stock levels Lead times  \\\n",
            "0        8661.996792            Non-binary      0.332696          7   \n",
            "1        7460.900065                Female      0.171662         30   \n",
            "2        9577.749626               Unknown     -1.503092         10   \n",
            "3                NAN            Non-binary     -0.794542         13   \n",
            "4        2686.505152            Non-binary     -1.374265          3   \n",
            "..               ...                   ...           ...        ...   \n",
            "95       7386.363944               Unknown     -1.052197         14   \n",
            "96       7698.424766            Non-binary      0.622558          2   \n",
            "97        4370.91658                  Male     -0.053785         19   \n",
            "98        8525.95256                Female      0.171662          1   \n",
            "99       9185.185829               Unknown      0.236076          8   \n",
            "\n",
            "   Order quantities  ... Manufacturing lead time Manufacturing costs  \\\n",
            "0                96  ...                1.612694           -0.032524   \n",
            "1                37  ...                1.612694           -0.473038   \n",
            "2                88  ...                1.384912           -0.574921   \n",
            "3                59  ...                0.359895           -0.403186   \n",
            "4                56  ...               -1.348467            1.560218   \n",
            "..              ...  ...                     ...                 ...   \n",
            "95               26  ...                1.271021            0.406171   \n",
            "96               32  ...                1.498803           -1.023129   \n",
            "97                4  ...               -0.209559            0.645314   \n",
            "98               27  ...               -0.665122           -1.447500   \n",
            "99               59  ...               -1.462358           -0.318022   \n",
            "\n",
            "   Inspection results Defect rates Transportation modes   Routes        Costs  \\\n",
            "0             Pending  0.226410361                 Road  Route B  187.7520755   \n",
            "1             Pending  4.854068026                 Road  Route B  503.0655791   \n",
            "2             Pending  4.580592619                  Air  Route C  141.9202818   \n",
            "3                Fail  4.746648621                 Rail  Route A  254.7761592   \n",
            "4                Fail  3.145579523                  Air  Route A  923.4406317   \n",
            "..                ...          ...                  ...      ...          ...   \n",
            "95            Pending   1.21088213                  Air  Route A  778.8642414   \n",
            "96            Pending  3.872047681                 Road  Route A          NAN   \n",
            "97               Fail  3.376237835                 Road  Route A  540.1324229   \n",
            "98            Pending  2.908122169                 Rail  Route A  882.1988635   \n",
            "99               Fail  0.346027291                 Rail  Route B   210.743009   \n",
            "\n",
            "    Stock levels_Zscore  Manufacturing lead time_Zscore  \\\n",
            "0             -1.034005                        1.524288   \n",
            "1             -1.346204                        1.762995   \n",
            "2              1.247549                        1.046874   \n",
            "3             -0.126129                       -1.101490   \n",
            "4              0.997790                        0.980036   \n",
            "..                  ...                             ...   \n",
            "95             0.373391                        0.808167   \n",
            "96            -0.472046                        1.285581   \n",
            "97            -1.562246                       -1.407035   \n",
            "98            -1.346204                       -0.452207   \n",
            "99            -1.221325                        1.218743   \n",
            "\n",
            "   Manufacturing costs_Zscore  \n",
            "0                   -1.598092  \n",
            "1                   -0.745399  \n",
            "2                   -0.548187  \n",
            "3                   -0.880610  \n",
            "4                    1.352043  \n",
            "..                        ...  \n",
            "95                  -0.881819  \n",
            "96                   0.319398  \n",
            "97                  -0.418914  \n",
            "98                   1.140843  \n",
            "99                  -1.045461  \n",
            "\n",
            "[100 rows x 27 columns]\n"
          ]
        }
      ],
      "source": [
        "import pandas as pd\n",
        "from sklearn.preprocessing import StandardScaler, MinMaxScaler\n",
        "\n",
        "def scale_features(df):\n",
        "\n",
        "  # Select numerical features that are present in the DataFrame\n",
        "  numerical_features = df.select_dtypes(include=['float64', 'int64']).columns.tolist()\n",
        "\n",
        "  # Remove columns that are not supposed to be scaled\n",
        "  remove_cols = ['SKU', 'Number of products sold', 'Lead time', 'Order quantities']\n",
        "  numerical_features = [col for col in numerical_features if col not in remove_cols]\n",
        "\n",
        "  # Create a scaler object (choose Standardization or Min-Max Scaling)\n",
        "  scaler = StandardScaler()\n",
        "  # scaler = MinMaxScaler()\n",
        "\n",
        "  # Fit and transform the scaler on the numerical features\n",
        "  df[numerical_features] = scaler.fit_transform(df[numerical_features])\n",
        "\n",
        "  return df\n",
        "\n",
        "# Example Usage:\n",
        "# Assuming 'data' is your supply chain data DataFrame\n",
        "df_scaled = scale_features(data)  # Pass the original 'data' DataFrame\n",
        "\n",
        "print(\"Scaled Data:\")\n",
        "print(df_scaled)"
      ]
    },
    {
      "cell_type": "code",
      "execution_count": 23,
      "metadata": {
        "colab": {
          "base_uri": "https://localhost:8080/"
        },
        "id": "CMn81_YVN_Cz",
        "outputId": "feb74216-feb1-4f65-d71e-89e0cf7ca488"
      },
      "outputs": [
        {
          "name": "stdout",
          "output_type": "stream",
          "text": [
            "Encoded Data:\n",
            "      SKU        Price Availability Number of products sold Revenue generated  \\\n",
            "0    SKU0  69.80800554           55                     802       8661.996792   \n",
            "1    SKU1  14.84352328           95                     736       7460.900065   \n",
            "2    SKU2  11.31968329           34                     NAN       9577.749626   \n",
            "3    SKU3  61.16334302           68                 Unknown               NAN   \n",
            "4    SKU4  4.805496036           26                     871       2686.505152   \n",
            "..    ...          ...          ...                     ...               ...   \n",
            "95  SKU95  77.90392722           65                     672       7386.363944   \n",
            "96  SKU96  24.42313142           29                     324       7698.424766   \n",
            "97  SKU97  3.526111259           56                      62        4370.91658   \n",
            "98  SKU98  19.75460487           43                     913        8525.95256   \n",
            "99  SKU99   68.5178327           17                     627       9185.185829   \n",
            "\n",
            "   Customer demographics  Stock levels Lead times Order quantities  \\\n",
            "0             Non-binary      0.332696          7               96   \n",
            "1                 Female      0.171662         30               37   \n",
            "2                Unknown     -1.503092         10               88   \n",
            "3             Non-binary     -0.794542         13               59   \n",
            "4             Non-binary     -1.374265          3               56   \n",
            "..                   ...           ...        ...              ...   \n",
            "95               Unknown     -1.052197         14               26   \n",
            "96            Non-binary      0.622558          2               32   \n",
            "97                  Male     -0.053785         19                4   \n",
            "98                Female      0.171662          1               27   \n",
            "99               Unknown      0.236076          8               59   \n",
            "\n",
            "   Shipping times  ... Shipping carriers_unknown Transportation modes_Air  \\\n",
            "0               4  ...                       0.0                      0.0   \n",
            "1               2  ...                       0.0                      0.0   \n",
            "2               2  ...                       0.0                      1.0   \n",
            "3               6  ...                       0.0                      0.0   \n",
            "4               8  ...                       0.0                      1.0   \n",
            "..            ...  ...                       ...                      ...   \n",
            "95              9  ...                       0.0                      1.0   \n",
            "96              3  ...                       0.0                      0.0   \n",
            "97              9  ...                       0.0                      0.0   \n",
            "98              7  ...                       0.0                      0.0   \n",
            "99              6  ...                       0.0                      0.0   \n",
            "\n",
            "   Transportation modes_Rail Transportation modes_Road  \\\n",
            "0                        0.0                       1.0   \n",
            "1                        0.0                       1.0   \n",
            "2                        0.0                       0.0   \n",
            "3                        1.0                       0.0   \n",
            "4                        0.0                       0.0   \n",
            "..                       ...                       ...   \n",
            "95                       0.0                       0.0   \n",
            "96                       0.0                       1.0   \n",
            "97                       0.0                       1.0   \n",
            "98                       1.0                       0.0   \n",
            "99                       1.0                       0.0   \n",
            "\n",
            "    Transportation modes_Sea  Transportation modes_unknown  \\\n",
            "0                        0.0                           0.0   \n",
            "1                        0.0                           0.0   \n",
            "2                        0.0                           0.0   \n",
            "3                        0.0                           0.0   \n",
            "4                        0.0                           0.0   \n",
            "..                       ...                           ...   \n",
            "95                       0.0                           0.0   \n",
            "96                       0.0                           0.0   \n",
            "97                       0.0                           0.0   \n",
            "98                       0.0                           0.0   \n",
            "99                       0.0                           0.0   \n",
            "\n",
            "   Inspection results_Fail Inspection results_Pass Inspection results_Pending  \\\n",
            "0                      0.0                     0.0                        1.0   \n",
            "1                      0.0                     0.0                        1.0   \n",
            "2                      0.0                     0.0                        1.0   \n",
            "3                      1.0                     0.0                        0.0   \n",
            "4                      1.0                     0.0                        0.0   \n",
            "..                     ...                     ...                        ...   \n",
            "95                     0.0                     0.0                        1.0   \n",
            "96                     0.0                     0.0                        1.0   \n",
            "97                     1.0                     0.0                        0.0   \n",
            "98                     0.0                     0.0                        1.0   \n",
            "99                     1.0                     0.0                        0.0   \n",
            "\n",
            "    Inspection results_unknown  \n",
            "0                          0.0  \n",
            "1                          0.0  \n",
            "2                          0.0  \n",
            "3                          0.0  \n",
            "4                          0.0  \n",
            "..                         ...  \n",
            "95                         0.0  \n",
            "96                         0.0  \n",
            "97                         0.0  \n",
            "98                         0.0  \n",
            "99                         0.0  \n",
            "\n",
            "[100 rows x 44 columns]\n"
          ]
        }
      ],
      "source": [
        "import pandas as pd\n",
        "from sklearn.preprocessing import OneHotEncoder\n",
        "\n",
        "def encode_categorical_features(df):\n",
        "  # Select categorical features\n",
        "  categorical_features = ['Product type', 'Supplier name', 'Shipping carriers',\n",
        "                        'Transportation modes', 'Inspection results']\n",
        "\n",
        "  # Create a OneHotEncoder object\n",
        "  # Removed 'sparse=False' as it's no longer needed in newer versions of sklearn\n",
        "  # Added sparse_output=False to ensure the output is a dense array\n",
        "  encoder = OneHotEncoder(handle_unknown='ignore', sparse_output=False)\n",
        "\n",
        "  # Fit and transform the encoder on the categorical features\n",
        "  encoded_features = encoder.fit_transform(df[categorical_features])\n",
        "\n",
        "  # Create a new DataFrame with the encoded features\n",
        "  encoded_df = pd.DataFrame(encoded_features, columns=encoder.get_feature_names_out(categorical_features))\n",
        "\n",
        "  # Concatenate the encoded features with the original DataFrame\n",
        "  df_encoded = pd.concat([df.drop(categorical_features, axis=1), encoded_df], axis=1)\n",
        "\n",
        "  return df_encoded\n",
        "\n",
        "# Example Usage:\n",
        "# Assuming 'data' is your supply chain data DataFrame\n",
        "# Use the original data DataFrame instead of 'df'\n",
        "df_encoded = encode_categorical_features(data)  # Changed from df to data\n",
        "\n",
        "print(\"Encoded Data:\")\n",
        "print(df_encoded)"
      ]
    },
    {
      "cell_type": "code",
      "execution_count": 24,
      "metadata": {
        "colab": {
          "base_uri": "https://localhost:8080/"
        },
        "id": "SkLIdEcgFstb",
        "outputId": "19d21a38-7bfb-4c2b-bfaf-605feb18868f"
      },
      "outputs": [
        {
          "name": "stdout",
          "output_type": "stream",
          "text": [
            "Encoded Data:\n",
            "      SKU        Price Availability Number of products sold Revenue generated  \\\n",
            "0    SKU0  69.80800554           55                     802       8661.996792   \n",
            "1    SKU1  14.84352328           95                     736       7460.900065   \n",
            "2    SKU2  11.31968329           34                     NAN       9577.749626   \n",
            "3    SKU3  61.16334302           68                 Unknown               NAN   \n",
            "4    SKU4  4.805496036           26                     871       2686.505152   \n",
            "..    ...          ...          ...                     ...               ...   \n",
            "95  SKU95  77.90392722           65                     672       7386.363944   \n",
            "96  SKU96  24.42313142           29                     324       7698.424766   \n",
            "97  SKU97  3.526111259           56                      62        4370.91658   \n",
            "98  SKU98  19.75460487           43                     913        8525.95256   \n",
            "99  SKU99   68.5178327           17                     627       9185.185829   \n",
            "\n",
            "   Customer demographics  Stock levels Lead times Order quantities  \\\n",
            "0             Non-binary      0.332696          7               96   \n",
            "1                 Female      0.171662         30               37   \n",
            "2                Unknown     -1.503092         10               88   \n",
            "3             Non-binary     -0.794542         13               59   \n",
            "4             Non-binary     -1.374265          3               56   \n",
            "..                   ...           ...        ...              ...   \n",
            "95               Unknown     -1.052197         14               26   \n",
            "96            Non-binary      0.622558          2               32   \n",
            "97                  Male     -0.053785         19                4   \n",
            "98                Female      0.171662          1               27   \n",
            "99               Unknown      0.236076          8               59   \n",
            "\n",
            "   Shipping times  ... Shipping carriers_unknown Transportation modes_Air  \\\n",
            "0               4  ...                       0.0                      0.0   \n",
            "1               2  ...                       0.0                      0.0   \n",
            "2               2  ...                       0.0                      1.0   \n",
            "3               6  ...                       0.0                      0.0   \n",
            "4               8  ...                       0.0                      1.0   \n",
            "..            ...  ...                       ...                      ...   \n",
            "95              9  ...                       0.0                      1.0   \n",
            "96              3  ...                       0.0                      0.0   \n",
            "97              9  ...                       0.0                      0.0   \n",
            "98              7  ...                       0.0                      0.0   \n",
            "99              6  ...                       0.0                      0.0   \n",
            "\n",
            "   Transportation modes_Rail Transportation modes_Road  \\\n",
            "0                        0.0                       1.0   \n",
            "1                        0.0                       1.0   \n",
            "2                        0.0                       0.0   \n",
            "3                        1.0                       0.0   \n",
            "4                        0.0                       0.0   \n",
            "..                       ...                       ...   \n",
            "95                       0.0                       0.0   \n",
            "96                       0.0                       1.0   \n",
            "97                       0.0                       1.0   \n",
            "98                       1.0                       0.0   \n",
            "99                       1.0                       0.0   \n",
            "\n",
            "    Transportation modes_Sea  Transportation modes_unknown  \\\n",
            "0                        0.0                           0.0   \n",
            "1                        0.0                           0.0   \n",
            "2                        0.0                           0.0   \n",
            "3                        0.0                           0.0   \n",
            "4                        0.0                           0.0   \n",
            "..                       ...                           ...   \n",
            "95                       0.0                           0.0   \n",
            "96                       0.0                           0.0   \n",
            "97                       0.0                           0.0   \n",
            "98                       0.0                           0.0   \n",
            "99                       0.0                           0.0   \n",
            "\n",
            "   Inspection results_Fail Inspection results_Pass Inspection results_Pending  \\\n",
            "0                      0.0                     0.0                        1.0   \n",
            "1                      0.0                     0.0                        1.0   \n",
            "2                      0.0                     0.0                        1.0   \n",
            "3                      1.0                     0.0                        0.0   \n",
            "4                      1.0                     0.0                        0.0   \n",
            "..                     ...                     ...                        ...   \n",
            "95                     0.0                     0.0                        1.0   \n",
            "96                     0.0                     0.0                        1.0   \n",
            "97                     1.0                     0.0                        0.0   \n",
            "98                     0.0                     0.0                        1.0   \n",
            "99                     1.0                     0.0                        0.0   \n",
            "\n",
            "    Inspection results_unknown  \n",
            "0                          0.0  \n",
            "1                          0.0  \n",
            "2                          0.0  \n",
            "3                          0.0  \n",
            "4                          0.0  \n",
            "..                         ...  \n",
            "95                         0.0  \n",
            "96                         0.0  \n",
            "97                         0.0  \n",
            "98                         0.0  \n",
            "99                         0.0  \n",
            "\n",
            "[100 rows x 44 columns]\n"
          ]
        }
      ],
      "source": [
        "import pandas as pd\n",
        "from sklearn.preprocessing import OneHotEncoder\n",
        "\n",
        "def encode_categorical_features(df):\n",
        "  \"\"\"\n",
        "  Encodes categorical features in the supply chain DataFrame using One-Hot Encoding.\n",
        "\n",
        "  Args:\n",
        "    df: The pandas DataFrame containing the supply chain data.\n",
        "\n",
        "  Returns:\n",
        "    A DataFrame with encoded categorical features.\n",
        "  \"\"\"\n",
        "\n",
        "  # Select categorical features\n",
        "  categorical_features = ['Product type', 'Supplier name', 'Shipping carriers',\n",
        "                        'Transportation modes', 'Inspection results']\n",
        "\n",
        "  # Create a OneHotEncoder object\n",
        "  # Removed 'sparse=False' as it's no longer needed in newer versions of sklearn\n",
        "  # Added sparse_output=False to ensure the output is a dense array\n",
        "  encoder = OneHotEncoder(handle_unknown='ignore', sparse_output=False)\n",
        "\n",
        "  # Check if all categorical features are present in the DataFrame\n",
        "  missing_features = [f for f in categorical_features if f not in df.columns]\n",
        "  if missing_features:\n",
        "    raise KeyError(f\"The following categorical features are missing: {missing_features}\")\n",
        "\n",
        "\n",
        "  # Fit and transform the encoder on the categorical features\n",
        "  encoded_features = encoder.fit_transform(df[categorical_features])\n",
        "\n",
        "  # Create a new DataFrame with the encoded features\n",
        "  encoded_df = pd.DataFrame(encoded_features, columns=encoder.get_feature_names_out(categorical_features))\n",
        "\n",
        "  # Concatenate the encoded features with the original DataFrame\n",
        "  df_encoded = pd.concat([df.drop(categorical_features, axis=1), encoded_df], axis=1)\n",
        "\n",
        "  return df_encoded\n",
        "\n",
        "# Example Usage:\n",
        "# Assuming 'data' is your supply chain data DataFrame, use 'data' instead of 'df'\n",
        "df_encoded = encode_categorical_features(data)  # Pass the original 'data' DataFrame\n",
        "\n",
        "print(\"Encoded Data:\")\n",
        "print(df_encoded)"
      ]
    },
    {
      "cell_type": "code",
      "execution_count": 25,
      "metadata": {
        "colab": {
          "base_uri": "https://localhost:8080/"
        },
        "id": "TnG74nyFRApd",
        "outputId": "82f2a6ec-98e9-4ba6-b490-e384a75c35b5"
      },
      "outputs": [
        {
          "name": "stdout",
          "output_type": "stream",
          "text": [
            "                                        mean    median      mode     range  \\\n",
            "Stock levels                   -6.883383e-17 -0.005475  1.588762  3.124061   \n",
            "Manufacturing lead time        -4.440892e-18 -0.095668 -0.892904  3.188942   \n",
            "Manufacturing costs            -3.358425e-16 -0.045543  1.735851  3.340576   \n",
            "Stock levels_Zscore             3.330669e-17  0.121133  0.997790  3.246875   \n",
            "Manufacturing lead time_Zscore -3.241851e-16  0.025207  0.025207  3.580607   \n",
            "Manufacturing costs_Zscore      2.708944e-16 -0.072933       NaN  3.488244   \n",
            "\n",
            "                                 sd  \n",
            "Stock levels                    1.0  \n",
            "Manufacturing lead time         1.0  \n",
            "Manufacturing costs             1.0  \n",
            "Stock levels_Zscore             1.0  \n",
            "Manufacturing lead time_Zscore  1.0  \n",
            "Manufacturing costs_Zscore      1.0  \n"
          ]
        }
      ],
      "source": [
        "import pandas as pd\n",
        "import numpy as np\n",
        "from collections import Counter\n",
        "\n",
        "# Function to calculate mode\n",
        "def get_mode(v):\n",
        "    c = Counter(v)\n",
        "    mode_count = c.most_common(1)[0][1]\n",
        "    mode = [key for key, count in c.items() if count == mode_count]\n",
        "    if len(mode) == len(v):\n",
        "      return np.nan\n",
        "    return mode[0]\n",
        "\n",
        "# Assuming supply_chain_data is a pandas DataFrame\n",
        "\n",
        "# Filter only numeric columns\n",
        "numeric_data = data.select_dtypes(include=np.number)\n",
        "\n",
        "# Calculate summary statistics for each numeric variable\n",
        "numeric_summary = {}\n",
        "for col in numeric_data.columns:\n",
        "    numeric_summary[col] = {\n",
        "        'mean': np.mean(numeric_data[col]),\n",
        "        'median': np.median(numeric_data[col]),\n",
        "        'mode': get_mode(numeric_data[col]),\n",
        "        'range': np.max(numeric_data[col]) - np.min(numeric_data[col]),\n",
        "        'sd': np.std(numeric_data[col])\n",
        "    }\n",
        "\n",
        "# Convert the summary to a data frame\n",
        "numeric_summary_df = pd.DataFrame(numeric_summary).T\n",
        "\n",
        "print(numeric_summary_df)\n",
        "\n"
      ]
    },
    {
      "cell_type": "code",
      "execution_count": 26,
      "metadata": {
        "colab": {
          "base_uri": "https://localhost:8080/"
        },
        "id": "ajqhvOyrS7_A",
        "outputId": "ac992b4b-9edb-477a-e0fa-02bdf373f64f"
      },
      "outputs": [
        {
          "name": "stdout",
          "output_type": "stream",
          "text": [
            "                                        mean    median      mode  <lambda>  \\\n",
            "Stock levels                   -6.883383e-17 -0.005475  1.588762  3.124061   \n",
            "Manufacturing lead time        -4.440892e-18 -0.095668 -0.892904  3.188942   \n",
            "Manufacturing costs            -3.358425e-16 -0.045543  1.735851  3.340576   \n",
            "Stock levels_Zscore             3.330669e-17  0.121133  0.997790  3.246875   \n",
            "Manufacturing lead time_Zscore -3.241851e-16  0.025207  0.025207  3.580607   \n",
            "Manufacturing costs_Zscore      2.708944e-16 -0.072933       NaN  3.488244   \n",
            "\n",
            "                                     std  \n",
            "Stock levels                    1.005038  \n",
            "Manufacturing lead time         1.005038  \n",
            "Manufacturing costs             1.005038  \n",
            "Stock levels_Zscore             1.005038  \n",
            "Manufacturing lead time_Zscore  1.005038  \n",
            "Manufacturing costs_Zscore      1.005038  \n"
          ]
        }
      ],
      "source": [
        "\n",
        "import pandas as pd\n",
        "import numpy as np\n",
        "from collections import Counter\n",
        "\n",
        "# Function to calculate mode\n",
        "def get_mode(v):\n",
        "    c = Counter(v)\n",
        "    mode_count = c.most_common(1)[0][1]\n",
        "    mode = [key for key, count in c.items() if count == mode_count]\n",
        "    if len(mode) == len(v):\n",
        "      return np.nan\n",
        "    return mode[0]\n",
        "\n",
        "# Assuming supply_chain_data is a pandas DataFrame\n",
        "\n",
        "\n",
        "# Filter only numeric columns\n",
        "numeric_data = data.select_dtypes(include=np.number)\n",
        "\n",
        "# Calculate summary statistics for each numeric variable\n",
        "numeric_summary = {}\n",
        "for col in numeric_data.columns:\n",
        "    numeric_summary[col] = {\n",
        "        'mean': np.mean(numeric_data[col]),\n",
        "        'median': np.median(numeric_data[col]),\n",
        "        'mode': get_mode(numeric_data[col]),\n",
        "        'range': np.max(numeric_data[col]) - np.min(numeric_data[col]),\n",
        "        'sd': np.std(numeric_data[col])\n",
        "    }\n",
        "\n",
        "# Calculate summary statistics for each numeric variable using Pandas\n",
        "numeric_summary = numeric_data.agg(['mean', 'median', get_mode,\n",
        "                                     lambda x: x.max() - x.min(), 'std'])\n",
        "\n",
        "# Transpose and rename columns for better readability\n",
        "numeric_summary_df = numeric_summary.T.rename(\n",
        "    columns={'<lambda_0>': 'range', 'get_mode': 'mode'}\n",
        ")\n",
        "print(numeric_summary_df)\n"
      ]
    },
    {
      "cell_type": "code",
      "execution_count": 27,
      "metadata": {
        "colab": {
          "base_uri": "https://localhost:8080/"
        },
        "id": "achHfoSbil_A",
        "outputId": "2b91a904-3cbd-499a-9748-5b2cdc2b557f"
      },
      "outputs": [
        {
          "name": "stdout",
          "output_type": "stream",
          "text": [
            "Missing Values After Imputation:\n",
            "Stock levels                      0\n",
            "Manufacturing lead time           0\n",
            "Manufacturing costs               0\n",
            "Stock levels_Zscore               0\n",
            "Manufacturing lead time_Zscore    0\n",
            "                                 ..\n",
            "Costs_990.0784725                 0\n",
            "Costs_995.9294615                 0\n",
            "Costs_996.778315                  0\n",
            "Costs_997.4134501                 0\n",
            "Costs_NAN                         0\n",
            "Length: 1029, dtype: int64\n"
          ]
        }
      ],
      "source": [
        "from sklearn.impute import KNNImputer\n",
        "from sklearn.preprocessing import OneHotEncoder\n",
        "import pandas as pd\n",
        "\n",
        "# Separate numeric and categorical features\n",
        "numeric_features = data.select_dtypes(include=np.number)\n",
        "categorical_features = data.select_dtypes(exclude=np.number)\n",
        "# Apply KNN Imputer to numeric features only\n",
        "data_imputer = KNNImputer(n_neighbors=5)\n",
        "imputed_numeric = data_imputer.fit_transform(numeric_features)\n",
        "imputed_numeric_df = pd.DataFrame(imputed_numeric, columns=numeric_features.columns, index=data.index)\n",
        "\n",
        "# One-hot encode categorical features\n",
        "encoder = OneHotEncoder(sparse_output=False, handle_unknown='ignore') # sparse=False for pandas DataFrame\n",
        "encoded_categorical = encoder.fit_transform(categorical_features)\n",
        "encoded_categorical_df = pd.DataFrame(encoded_categorical, columns=encoder.get_feature_names_out(categorical_features.columns), index=data.index)\n",
        "\n",
        "# Concatenate imputed numeric and encoded categorical features\n",
        "data_cleaned = pd.concat([imputed_numeric_df, encoded_categorical_df], axis=1)\n",
        "\n",
        "# Check for missing values\n",
        "print(\"Missing Values After Imputation:\")\n",
        "print(data_cleaned.isnull().sum())"
      ]
    },
    {
      "cell_type": "code",
      "execution_count": 28,
      "metadata": {
        "colab": {
          "base_uri": "https://localhost:8080/"
        },
        "id": "t2G9Iiq5i8bK",
        "outputId": "fdd3ab48-fbf8-4ebf-a618-ccbc1a1d821d"
      },
      "outputs": [
        {
          "name": "stdout",
          "output_type": "stream",
          "text": [
            "Number of Outliers Removed: 1\n"
          ]
        }
      ],
      "source": [
        "from sklearn.ensemble import IsolationForest\n",
        "# Detecting outliers\n",
        "iso = IsolationForest(contamination=0.01, random_state=42)\n",
        "# Instead of dropping 'target', fit the model on all columns except 'Anomaly' if it exists\n",
        "data_cleaned['Anomaly'] = iso.fit_predict(data_cleaned.drop(columns=['Anomaly'], errors='ignore'))\n",
        "data_cleaned = data_cleaned[data_cleaned['Anomaly'] == 1].drop(columns=['Anomaly'])\n",
        "print(f\"Number of Outliers Removed: {len(data) - len(data_cleaned)}\")"
      ]
    },
    {
      "cell_type": "code",
      "execution_count": 29,
      "metadata": {
        "colab": {
          "base_uri": "https://localhost:8080/"
        },
        "id": "Nv6JL00Sjraa",
        "outputId": "928e5b65-e33f-4499-bec1-189954f2b54e"
      },
      "outputs": [
        {
          "name": "stdout",
          "output_type": "stream",
          "text": [
            "Target column not found in data_cleaned DataFrame. Please check your data processing steps.\n"
          ]
        }
      ],
      "source": [
        "from imblearn.over_sampling import SMOTE\n",
        "\n",
        "# Balancing the data\n",
        "smote = SMOTE(random_state=42, k_neighbors=5, sampling_strategy='minority')\n",
        "\n",
        "# Check if 'target' column exists in data_cleaned\n",
        "if 'target' in data_cleaned.columns:\n",
        "    X_resampled, y_resampled = smote.fit_resample(data_cleaned.drop(columns=['target']), data_cleaned['target'])\n",
        "    print(f\"Class Distribution After SMOTE: {pd.Series(y_resampled).value_counts()}\")\n",
        "else:\n",
        "    print(\"Target column not found in data_cleaned DataFrame. Please check your data processing steps.\")"
      ]
    },
    {
      "cell_type": "code",
      "execution_count": 30,
      "metadata": {
        "colab": {
          "base_uri": "https://localhost:8080/"
        },
        "id": "nUq95LKkSjID",
        "outputId": "0b63bf41-8693-4b74-dc06-39ab5ea27bf3"
      },
      "outputs": [
        {
          "name": "stdout",
          "output_type": "stream",
          "text": [
            "Dummy 'target' column created for demonstration.\n",
            "Class Distribution After SMOTE: target\n",
            "1    54\n",
            "0    54\n",
            "Name: count, dtype: int64\n",
            "Accuracy: 0.50\n"
          ]
        }
      ],
      "source": [
        "from sklearn.model_selection import train_test_split\n",
        "from sklearn.tree import DecisionTreeClassifier\n",
        "from sklearn.metrics import accuracy_score\n",
        "from imblearn.over_sampling import SMOTE\n",
        "\n",
        "# Check if 'target' column exists in data_cleaned, if not, create a dummy target\n",
        "if 'target' not in data_cleaned.columns:\n",
        "    # Define a target column (replace with your desired target)\n",
        "    # For demonstration, we create a random binary target\n",
        "    data_cleaned['target'] = np.random.randint(0, 2, size=len(data_cleaned))\n",
        "    print(\"Dummy 'target' column created for demonstration.\")\n",
        "\n",
        "# Balancing the data using SMOTE\n",
        "smote = SMOTE(random_state=42, k_neighbors=5, sampling_strategy='minority')\n",
        "X_resampled, y_resampled = smote.fit_resample(data_cleaned.drop(columns=['target']), data_cleaned['target'])\n",
        "print(f\"Class Distribution After SMOTE: {pd.Series(y_resampled).value_counts()}\")\n",
        "\n",
        "# Splitting data\n",
        "X_train, X_test, y_train, y_test = train_test_split(X_resampled, y_resampled, test_size=0.4, random_state=54)\n",
        "\n",
        "# Decision Tree Model\n",
        "model = DecisionTreeClassifier(max_depth=3)\n",
        "model.fit(X_train, y_train)\n",
        "\n",
        "# Predictions\n",
        "predictions = model.predict(X_test)\n",
        "print(f\"Accuracy: {accuracy_score(y_test, predictions):.2f}\")"
      ]
    },
    {
      "cell_type": "code",
      "execution_count": 31,
      "metadata": {
        "colab": {
          "base_uri": "https://localhost:8080/"
        },
        "id": "7T7IS1ILoYwD",
        "outputId": "96b09290-5dcd-4ff2-f780-b2d82b44f7e0"
      },
      "outputs": [
        {
          "name": "stdout",
          "output_type": "stream",
          "text": [
            "Dummy 'Inspection results' column created for demonstration.\n",
            "Class Distribution After SMOTE: Inspection results\n",
            "1    51\n",
            "0    51\n",
            "Name: count, dtype: int64\n",
            "Accuracy: 0.52\n"
          ]
        }
      ],
      "source": [
        "from sklearn.model_selection import train_test_split\n",
        "from sklearn.tree import DecisionTreeClassifier\n",
        "from sklearn.metrics import accuracy_score\n",
        "from imblearn.over_sampling import SMOTE\n",
        "\n",
        "# Check if a suitable target column exists, otherwise, create a dummy for demonstration\n",
        "target_column = 'Inspection results'  # Or another relevant categorical column\n",
        "\n",
        "# If the target column is categorical, encode it for SMOTE\n",
        "if target_column in data_cleaned.columns and data_cleaned[target_column].dtype == 'object':\n",
        "    # If the column is of object type, likely categorical, label encode it\n",
        "    from sklearn.preprocessing import LabelEncoder\n",
        "    le = LabelEncoder()\n",
        "    data_cleaned[target_column] = le.fit_transform(data_cleaned[target_column])\n",
        "elif target_column not in data_cleaned.columns:\n",
        "    # You might need to define a logic for creating your target variable\n",
        "    # Here's a placeholder, replace with your specific logic\n",
        "    data_cleaned[target_column] = np.random.randint(0, 2, size=len(data_cleaned))\n",
        "    print(f\"Dummy '{target_column}' column created for demonstration.\")\n",
        "\n",
        "# Balancing the data using SMOTE\n",
        "smote = SMOTE(random_state=42, k_neighbors=5, sampling_strategy='minority')\n",
        "X_resampled, y_resampled = smote.fit_resample(data_cleaned.drop(columns=[target_column]), data_cleaned[target_column])\n",
        "print(f\"Class Distribution After SMOTE: {pd.Series(y_resampled).value_counts()}\")\n",
        "\n",
        "# Splitting data\n",
        "X_train, X_test, y_train, y_test = train_test_split(X_resampled, y_resampled, test_size=0.2, random_state=42)\n",
        "\n",
        "# Decision Tree Model\n",
        "model = DecisionTreeClassifier(max_depth=3)\n",
        "model.fit(X_train, y_train)\n",
        "\n",
        "# Predictions\n",
        "predictions = model.predict(X_test)\n",
        "print(f\"Accuracy: {accuracy_score(y_test, predictions):.2f}\")"
      ]
    },
    {
      "cell_type": "code",
      "execution_count": 32,
      "metadata": {
        "colab": {
          "base_uri": "https://localhost:8080/"
        },
        "id": "Q7zvYk4TpEEi",
        "outputId": "64529cc5-1e4e-4db2-e7b5-a4579d954dbf"
      },
      "outputs": [
        {
          "name": "stdout",
          "output_type": "stream",
          "text": [
            "Mean Squared Error: 1.34\n",
            "R-squared: -0.31\n"
          ]
        }
      ],
      "source": [
        "import pandas as pd\n",
        "import numpy as np\n",
        "from sklearn.model_selection import train_test_split\n",
        "from sklearn.ensemble import RandomForestRegressor  # Using a more powerful model\n",
        "from sklearn.metrics import mean_squared_error, r2_score\n",
        "from sklearn.preprocessing import StandardScaler\n",
        "\n",
        "# Assuming 'data_cleaned' is your preprocessed DataFrame\n",
        "\n",
        "# 1. Feature Engineering:\n",
        "# Consider creating new features or transforming existing ones to improve model accuracy.\n",
        "# Example: If you have 'Raw Material Cost' and 'Labor Cost', you could create a 'Total Cost' feature.\n",
        "\n",
        "# 2. Target Variable:\n",
        "# Ensure 'Manufacturing costs' is your target variable and it's numeric.\n",
        "if 'Manufacturing costs' not in data_cleaned.columns:\n",
        "    # If it's not present, you'll need to create it or select a different target.\n",
        "    print(\"Target column 'Manufacturing costs' not found. Please ensure it's present and numeric.\")\n",
        "else:\n",
        "    # 3. Data Splitting:\n",
        "    X = data_cleaned.drop(columns=['Manufacturing costs'])\n",
        "    y = data_cleaned['Manufacturing costs']\n",
        "    X_train, X_test, y_train, y_test = train_test_split(X, y, test_size=0.2, random_state=42)\n",
        "\n",
        "    # 4. Feature Scaling:\n",
        "    # Scale numerical features to improve model performance.\n",
        "    scaler = StandardScaler()\n",
        "    X_train = scaler.fit_transform(X_train)\n",
        "    X_test = scaler.transform(X_test)\n",
        "\n",
        "    # 5. Model Selection and Training:\n",
        "    # Using RandomForestRegressor, a more robust model for regression tasks.\n",
        "    model = RandomForestRegressor(n_estimators=100, random_state=42)  # Adjust hyperparameters as needed\n",
        "    model.fit(X_train, y_train)\n",
        "\n",
        "    # 6. Predictions and Evaluation:\n",
        "    predictions = model.predict(X_test)\n",
        "    mse = mean_squared_error(y_test, predictions)\n",
        "    r2 = r2_score(y_test, predictions)\n",
        "\n",
        "    print(f\"Mean Squared Error: {mse:.2f}\")\n",
        "    print(f\"R-squared: {r2:.2f}\")"
      ]
    },
    {
      "cell_type": "code",
      "execution_count": 33,
      "metadata": {
        "colab": {
          "base_uri": "https://localhost:8080/"
        },
        "id": "wGgC_M-i4XUL",
        "outputId": "d64efdee-c3ed-43ef-f187-53c0c8b7ccc9"
      },
      "outputs": [
        {
          "name": "stdout",
          "output_type": "stream",
          "text": [
            "Column 'Defect rates' not found in data_cleaned DataFrame. Please check your data processing steps.\n"
          ]
        }
      ],
      "source": [
        "from sklearn.model_selection import train_test_split\n",
        "from sklearn.tree import DecisionTreeClassifier\n",
        "from sklearn.metrics import accuracy_score\n",
        "\n",
        "# Check if 'Defect rates' column exists in data_cleaned\n",
        "if 'Defect rates' in data_cleaned.columns:\n",
        "    # Splitting data\n",
        "    X = data_cleaned.drop(columns=['Defect rates'])  # Assuming 'Defect rates' is the target\n",
        "    y = data_cleaned['Defect rates']\n",
        "    X_train, X_test, y_train, y_test = train_test_split(X, y, test_size=0.2, random_state=42)\n",
        "\n",
        "    # Decision Tree Model\n",
        "    model = DecisionTreeClassifier(max_depth=3)\n",
        "    model.fit(X_train, y_train)\n",
        "\n",
        "    # Predictions\n",
        "    predictions = model.predict(X_test)\n",
        "    print(f\"Decision Tree Accuracy: {accuracy_score(y_test, predictions):.2f}\")\n",
        "else:\n",
        "    print(\"Column 'Defect rates' not found in data_cleaned DataFrame. Please check your data processing steps.\")"
      ]
    },
    {
      "cell_type": "code",
      "execution_count": 34,
      "metadata": {
        "colab": {
          "base_uri": "https://localhost:8080/"
        },
        "id": "_Ra5iAj345ta",
        "outputId": "bd319a6e-a56e-4b60-a0f6-273f9470ca8b"
      },
      "outputs": [
        {
          "name": "stdout",
          "output_type": "stream",
          "text": [
            "Mean Squared Error: 1.43\n",
            "R-squared: -0.39\n"
          ]
        }
      ],
      "source": [
        "from sklearn.model_selection import train_test_split\n",
        "from sklearn.tree import DecisionTreeRegressor  # Import DecisionTreeRegressor\n",
        "from sklearn.metrics import mean_squared_error, r2_score  # Import regression metrics\n",
        "\n",
        "# Splitting data\n",
        "X = data_cleaned.drop(columns=['Manufacturing costs'])  # Assuming 'Defect rates' is the target\n",
        "y = data_cleaned['Manufacturing costs']\n",
        "X_train, X_test, y_train, y_test = train_test_split(X, y, test_size=0.2, random_state=42)\n",
        "\n",
        "# Decision Tree Model - Use Regressor for continuous target\n",
        "model = DecisionTreeRegressor(max_depth=3)  # Changed to DecisionTreeRegressor\n",
        "model.fit(X_train, y_train)\n",
        "\n",
        "# Predictions\n",
        "predictions = model.predict(X_test)\n",
        "\n",
        "# Evaluate using regression metrics\n",
        "mse = mean_squared_error(y_test, predictions)\n",
        "r2 = r2_score(y_test, predictions)\n",
        "print(f\"Mean Squared Error: {mse:.2f}\")\n",
        "print(f\"R-squared: {r2:.2f}\")"
      ]
    },
    {
      "cell_type": "code",
      "execution_count": 35,
      "metadata": {
        "colab": {
          "base_uri": "https://localhost:8080/"
        },
        "id": "8Q4y73a45Vqz",
        "outputId": "e3019bd8-556b-4270-dd91-cf94753fb6fe"
      },
      "outputs": [
        {
          "name": "stdout",
          "output_type": "stream",
          "text": [
            "Mean Squared Error: 1.12\n",
            "R-squared: -0.09\n"
          ]
        }
      ],
      "source": [
        "from sklearn.ensemble import RandomForestRegressor  # Import Regressor\n",
        "from sklearn.metrics import mean_squared_error, r2_score  # Import regression metrics\n",
        "\n",
        "# Random Forest Regressor\n",
        "clf = RandomForestRegressor(\n",
        "    random_state=42,\n",
        "    n_estimators=30,\n",
        "    max_depth=5,\n",
        "    min_samples_split=10,\n",
        "    min_samples_leaf=5,\n",
        "    n_jobs=-1,\n",
        "    max_samples=0.8,\n",
        "    warm_start=True\n",
        ")\n",
        "\n",
        "# Fit the model\n",
        "clf.fit(X_train, y_train)\n",
        "\n",
        "# Predictions\n",
        "y_pred = clf.predict(X_test)\n",
        "\n",
        "# Evaluate using regression metrics\n",
        "mse = mean_squared_error(y_test, y_pred)\n",
        "r2 = r2_score(y_test, y_pred)\n",
        "print(f\"Mean Squared Error: {mse:.2f}\")\n",
        "print(f\"R-squared: {r2:.2f}\")"
      ]
    },
    {
      "cell_type": "code",
      "execution_count": 36,
      "metadata": {
        "colab": {
          "base_uri": "https://localhost:8080/"
        },
        "id": "Yuda-tCq7P3a",
        "outputId": "e303e61d-3178-48cf-fe58-f4aed7291834"
      },
      "outputs": [
        {
          "name": "stdout",
          "output_type": "stream",
          "text": [
            "{'Decision Tree': {'Accuracy': 0.35, 'Precision': 0.346969696969697, 'Recall': 0.35, 'ROC AUC': np.float64(0.5187397787397787)}, 'Random Forest': {'Accuracy': 0.45, 'Precision': 0.65, 'Recall': 0.45, 'ROC AUC': np.float64(0.5868494468494468)}}\n"
          ]
        }
      ],
      "source": [
        "import pandas as pd\n",
        "from sklearn.model_selection import train_test_split\n",
        "from sklearn.tree import DecisionTreeClassifier\n",
        "from sklearn.ensemble import RandomForestClassifier\n",
        "from sklearn.preprocessing import StandardScaler, LabelEncoder\n",
        "from sklearn.impute import KNNImputer\n",
        "from sklearn.metrics import classification_report, roc_auc_score\n",
        "\n",
        "\n",
        "\n",
        "# Handle missing values with KNN Imputer\n",
        "imputer = KNNImputer(n_neighbors=5)\n",
        "data_imputed = pd.DataFrame(imputer.fit_transform(data.select_dtypes(exclude=['object'])),\n",
        "                          columns=data.select_dtypes(exclude=['object']).columns)\n",
        "\n",
        "# Add categorical columns back\n",
        "for col in data.select_dtypes(include=['object']).columns:\n",
        "    data_imputed[col] = data[col]\n",
        "\n",
        "# Standardize numerical data\n",
        "scaler = StandardScaler()\n",
        "num_cols = data_imputed.select_dtypes(exclude=['object']).columns\n",
        "data_imputed[num_cols] = scaler.fit_transform(data_imputed[num_cols])\n",
        "\n",
        "# Encode categorical variables\n",
        "encoder = LabelEncoder()\n",
        "cat_cols = data_imputed.select_dtypes(include=['object']).columns\n",
        "for col in cat_cols:\n",
        "    data_imputed[col] = encoder.fit_transform(data_imputed[col])\n",
        "\n",
        "# Convert \"Defect rates\" to categorical bins\n",
        "data_imputed[\"Defect Category\"] = pd.qcut(data_imputed[\"Defect rates\"], q=3, labels=[\"Low\", \"Medium\", \"High\"])\n",
        "data_imputed[\"Defect Category\"] = encoder.fit_transform(data_imputed[\"Defect Category\"])\n",
        "\n",
        "# Define features and target\n",
        "X = data_imputed.drop(columns=[\"Defect rates\", \"Defect Category\"])\n",
        "y = data_imputed[\"Defect Category\"]\n",
        "\n",
        "# Split data\n",
        "X_train, X_test, y_train, y_test = train_test_split(X, y, test_size=0.2, random_state=42)\n",
        "\n",
        "# Train Decision Tree\n",
        "dt_model = DecisionTreeClassifier(max_depth=3, random_state=42)\n",
        "dt_model.fit(X_train, y_train)\n",
        "dt_predictions = dt_model.predict(X_test)\n",
        "\n",
        "# Train Random Forest\n",
        "rf_model = RandomForestClassifier(n_estimators=50, max_depth=5, random_state=42)\n",
        "rf_model.fit(X_train, y_train)\n",
        "rf_predictions = rf_model.predict(X_test)\n",
        "\n",
        "# Compute metrics\n",
        "dt_report = classification_report(y_test, dt_predictions, output_dict=True)\n",
        "rf_report = classification_report(y_test, rf_predictions, output_dict=True)\n",
        "\n",
        "# Compute ROC AUC Score\n",
        "dt_roc_auc = roc_auc_score(y_test, dt_model.predict_proba(X_test), multi_class=\"ovr\")\n",
        "rf_roc_auc = roc_auc_score(y_test, rf_model.predict_proba(X_test), multi_class=\"ovr\")\n",
        "\n",
        "# Print results\n",
        "metrics = {\n",
        "    \"Decision Tree\": {\n",
        "        \"Accuracy\": dt_report[\"accuracy\"],\n",
        "        \"Precision\": dt_report[\"weighted avg\"][\"precision\"],\n",
        "        \"Recall\": dt_report[\"weighted avg\"][\"recall\"],\n",
        "        \"ROC AUC\": dt_roc_auc\n",
        "    },\n",
        "    \"Random Forest\": {\n",
        "        \"Accuracy\": rf_report[\"accuracy\"],\n",
        "        \"Precision\": rf_report[\"weighted avg\"][\"precision\"],\n",
        "        \"Recall\": rf_report[\"weighted avg\"][\"recall\"],\n",
        "        \"ROC AUC\": rf_roc_auc\n",
        "    }\n",
        "}\n",
        "\n",
        "print(metrics)"
      ]
    },
    {
      "cell_type": "code",
      "execution_count": 37,
      "metadata": {
        "colab": {
          "base_uri": "https://localhost:8080/"
        },
        "id": "cpVal-Te-bL5",
        "outputId": "46246384-3a8f-47bc-b55e-45d114c55930"
      },
      "outputs": [
        {
          "name": "stdout",
          "output_type": "stream",
          "text": [
            "Decision Tree Accuracy: 0.30\n"
          ]
        }
      ],
      "source": [
        "from sklearn.tree import DecisionTreeClassifier\n",
        "from sklearn.metrics import accuracy_score\n",
        "\n",
        "# Train Decision Tree Classifier\n",
        "dt_model = DecisionTreeClassifier(max_depth=16, random_state=56)\n",
        "dt_model.fit(X_train, y_train)\n",
        "\n",
        "# Predictions\n",
        "y_pred_dt = dt_model.predict(X_test)\n",
        "\n",
        "# Evaluate Model\n",
        "dt_accuracy = accuracy_score(y_test, y_pred_dt)\n",
        "print(f\"Decision Tree Accuracy: {dt_accuracy:.2f}\")"
      ]
    },
    {
      "cell_type": "code",
      "execution_count": 38,
      "metadata": {
        "colab": {
          "base_uri": "https://localhost:8080/",
          "height": 729
        },
        "id": "RuN3xTiuI4yY",
        "outputId": "f46bf4b9-6890-49e1-8a6b-94751873d35a"
      },
      "outputs": [
        {
          "name": "stdout",
          "output_type": "stream",
          "text": [
            "Decision Tree Accuracy: 0.57\n",
            "Random Forest Accuracy: 0.33\n",
            "\n",
            "Classification Report:\n",
            "              precision    recall  f1-score   support\n",
            "\n",
            "           0       0.32      0.86      0.46         7\n",
            "           1       0.50      0.07      0.12        14\n",
            "\n",
            "    accuracy                           0.33        21\n",
            "   macro avg       0.41      0.46      0.29        21\n",
            "weighted avg       0.44      0.33      0.24        21\n",
            "\n"
          ]
        },
        {
          "data": {
            "image/png": "[encoded data removed]",
            "text/plain": [
              "<Figure size 640x480 with 2 Axes>"
            ]
          },
          "metadata": {},
          "output_type": "display_data"
        },
        {
          "name": "stdout",
          "output_type": "stream",
          "text": [
            "\n",
            "ROC AUC Score: 0.58\n"
          ]
        }
      ],
      "source": [
        "import pandas as pd\n",
        "import numpy as np\n",
        "import seaborn as sns\n",
        "import matplotlib.pyplot as plt\n",
        "from sklearn.impute import KNNImputer\n",
        "from sklearn.ensemble import IsolationForest, RandomForestClassifier\n",
        "from sklearn.tree import DecisionTreeClassifier\n",
        "from imblearn.over_sampling import SMOTE\n",
        "from sklearn.model_selection import train_test_split\n",
        "from sklearn.preprocessing import LabelEncoder, OneHotEncoder\n",
        "from sklearn.metrics import accuracy_score, classification_report, roc_auc_score, confusion_matrix\n",
        "# Identify categorical and numerical columns\n",
        "categorical_cols = data.select_dtypes(include=['object']).columns\n",
        "numerical_cols = data.select_dtypes(include=['number']).columns\n",
        "# Encode categorical variables (Label Encoding for binary, One-Hot Encoding for others)\n",
        "label_encoders = {}\n",
        "for col in categorical_cols:\n",
        "  if data[col].nunique() == 2:\n",
        "    le = LabelEncoder()\n",
        "    data[col] = le.fit_transform(data[col])\n",
        "    label_encoders[col] = le\n",
        "  else:\n",
        "    data = pd.get_dummies(data, columns=[col], drop_first=True)\n",
        "# Handle Missing Values\n",
        "imputer = KNNImputer(n_neighbors=5)\n",
        "data_imputed = pd.DataFrame(imputer.fit_transform(data), columns=data.columns)\n",
        "# Outlier Detection\n",
        "iso = IsolationForest(contamination=0.01, random_state=42)\n",
        "data_imputed['Anomaly'] = iso.fit_predict(data_imputed.drop(columns=['Manufacturing costs']))\n",
        "data_cleaned = data_imputed[data_imputed['Anomaly'] == 1].drop(columns=['Anomaly'])\n",
        "# Address Class Imbalance\n",
        "\n",
        "# Train-Test Split\n",
        "X_train, X_test, y_train, y_test = train_test_split(X_resampled, y_resampled, test_size=0.2, random_state=42)\n",
        "# Decision Tree Model\n",
        "model_dt = DecisionTreeClassifier(max_depth=3, random_state=42)\n",
        "model_dt.fit(X_train, y_train)\n",
        "predictions_dt = model_dt.predict(X_test)\n",
        "print(f\"Decision Tree Accuracy: {accuracy_score(y_test, predictions_dt):.2f}\")\n",
        "# Random Forest Model\n",
        "model_rf = RandomForestClassifier(n_estimators=30, max_depth=5, random_state=42)\n",
        "model_rf.fit(X_train, y_train)\n",
        "predictions_rf = model_rf.predict(X_test)\n",
        "print(f\"Random Forest Accuracy: {accuracy_score(y_test, predictions_rf):.2f}\")\n",
        "# Model Evaluation\n",
        "print(\"\\nClassification Report:\")\n",
        "print(classification_report(y_test, predictions_rf))\n",
        "# Confusion Matrix\n",
        "conf_matrix = confusion_matrix(y_test, predictions_rf)\n",
        "sns.heatmap(conf_matrix, annot=True, fmt='d', cmap='Reds')\n",
        "plt.title(\"Confusion Matrix\")\n",
        "plt.show()\n",
        "# ROC AUC Score\n",
        "roc_auc = roc_auc_score(y_test, model_rf.predict_proba(X_test)[:, 1])\n",
        "print(f\"\\nROC AUC Score: {roc_auc:.2f}\")"
      ]
    },
    {
      "cell_type": "code",
      "execution_count": 39,
      "metadata": {
        "colab": {
          "base_uri": "https://localhost:8080/",
          "height": 564
        },
        "id": "WQkV2iAbHITK",
        "outputId": "fb1874d9-71a0-4a93-d668-b6743b7d5a47"
      },
      "outputs": [
        {
          "data": {
            "image/png": "[encoded data removed]",
            "text/plain": [
              "<Figure size 800x600 with 1 Axes>"
            ]
          },
          "metadata": {},
          "output_type": "display_data"
        }
      ],
      "source": [
        "# prompt: ROC Curve: Displays the trade-off between true positive and false positive rates\n",
        "# across all models.\n",
        "\n",
        "from sklearn.metrics import roc_curve, auc\n",
        "import matplotlib.pyplot as plt\n",
        "\n",
        "# Assuming y_test and model_rf (RandomForestClassifier) are defined from the previous code\n",
        "\n",
        "# Calculate ROC curve and AUC\n",
        "fpr, tpr, thresholds = roc_curve(y_test, model_rf.predict_proba(X_test)[:, 1])\n",
        "roc_auc = auc(fpr, tpr)\n",
        "\n",
        "# Plot the ROC curve\n",
        "plt.figure(figsize=(8, 6))\n",
        "plt.plot(fpr, tpr, color='darkorange', lw=2, label=f'ROC curve (area = {roc_auc:.2f})')\n",
        "plt.plot([0, 1], [0, 1], color='navy', lw=2, linestyle='--')\n",
        "plt.xlim([0.0, 1.0])\n",
        "plt.ylim([0.0, 1.05])\n",
        "plt.xlabel('False Positive Rate')\n",
        "plt.ylabel('True Positive Rate')\n",
        "plt.title('Receiver Operating Characteristic (ROC) Curve')\n",
        "plt.legend(loc=\"lower right\")\n",
        "plt.show()\n"
      ]
    },
    {
      "cell_type": "code",
      "execution_count": 40,
      "metadata": {
        "colab": {
          "base_uri": "https://localhost:8080/",
          "height": 542
        },
        "id": "7lRvLg51dTWa",
        "outputId": "044bafbd-923f-49bb-96ca-29428992eab5"
      },
      "outputs": [
        {
          "data": {
            "application/vnd.plotly.v1+json": {
              "config": {
                "plotlyServerURL": "https://plot.ly"
              },
              "data": [
                {
                  "domain": {
                    "x": [
                      0,
                      1
                    ],
                    "y": [
                      0,
                      1
                    ]
                  },
                  "hole": 0.5,
                  "hovertemplate": "Transportation modes=%{label}<br>Costs=%{value}<extra></extra>",
                  "labels": [
                    "Road",
                    "Road",
                    "Air",
                    "Rail",
                    "Air",
                    "Road",
                    "Sea",
                    "Road",
                    "Sea",
                    "Rail",
                    "Road",
                    "Air",
                    "Road",
                    "Road",
                    "Air",
                    "Sea",
                    "Air",
                    "Air",
                    "Sea",
                    "Road",
                    "Air",
                    "Air",
                    "Rail",
                    "Rail",
                    "Air",
                    "Road",
                    "Rail",
                    "Sea",
                    "Air",
                    "Road",
                    "Road",
                    "Rail",
                    "Road",
                    "Sea",
                    "Road",
                    "Sea",
                    "Air",
                    "Sea",
                    "Air",
                    "Air",
                    "Road",
                    "Sea",
                    "Road",
                    "Air",
                    "Rail",
                    "Rail",
                    "Road",
                    "Rail",
                    "Rail",
                    "Rail",
                    "Rail",
                    "Road",
                    "Air",
                    "Air",
                    "Road",
                    "Sea",
                    "Air",
                    "Rail",
                    "unknown",
                    "Air",
                    "Rail",
                    "Air",
                    "Sea",
                    "Sea",
                    "Air",
                    "Rail",
                    "Road",
                    "Sea",
                    "Rail",
                    "Air",
                    "Road",
                    "Road",
                    "Rail",
                    "Road",
                    "Rail",
                    "Air",
                    "Rail",
                    "Road",
                    "Sea",
                    "Air",
                    "Sea",
                    "Rail",
                    "Road",
                    "Road",
                    "Air",
                    "Road",
                    "Rail",
                    "Sea",
                    "Sea",
                    "Rail",
                    "Rail",
                    "Rail",
                    "Rail",
                    "Air",
                    "Rail",
                    "Air",
                    "Road",
                    "Road",
                    "Rail",
                    "Rail"
                  ],
                  "legendgroup": "",
                  "name": "",
                  "showlegend": true,
                  "type": "pie",
                  "values": [
                    "187.7520755",
                    "503.0655791",
                    "141.9202818",
                    "254.7761592",
                    "923.4406317",
                    "235.4612367",
                    "134.3690969",
                    "802.0563118",
                    "505.5571342",
                    "995.9294615",
                    "806.1031777",
                    "126.7230334",
                    "402.9687891",
                    "547.2410052",
                    "929.23529",
                    "127.8618",
                    "865.5257798",
                    "670.9343908",
                    "593.4802587",
                    "477.3076311",
                    "493.8712153",
                    "523.3609147",
                    "205.5719958",
                    "196.3294461",
                    "758.7247726",
                    "458.5359457",
                    "617.8669165",
                    "762.4591822",
                    "123.4370275",
                    "764.9353759",
                    "880.0809882",
                    "609.3792066",
                    "761.1739095",
                    "371.2552955",
                    "510.3580004",
                    "553.4204712",
                    "403.8089742",
                    "183.932968",
                    "339.6728699",
                    "653.6729946",
                    "529.808724",
                    "275.5243711",
                    "635.6571205",
                    "716.0441198",
                    "610.4532696",
                    "495.305697",
                    "380.4359371",
                    "581.6023551",
                    "768.651914",
                    "336.8901685",
                    "496.2486503",
                    "694.9823176",
                    "602.8984988",
                    "750.7378407",
                    "814.0699966",
                    "323.012928",
                    "832.2108087",
                    "482.1912386",
                    "110.3643352",
                    "NAN",
                    "430.169097",
                    "164.3665282",
                    "320.8465158",
                    "687.2861779",
                    "771.2250847",
                    "555.8591037",
                    "393.8433486",
                    "169.2718014",
                    "299.7063031",
                    "207.6632062",
                    "183.2728987",
                    "405.1670679",
                    "677.9445698",
                    "866.4728001",
                    "341.5526568",
                    "873.129648",
                    "997.4134501",
                    "852.5680989",
                    "323.5922034",
                    "351.5042193",
                    "787.7798505",
                    "276.7783359",
                    "589.9785556",
                    "682.9710182",
                    "465.457006",
                    "842.68683",
                    "264.2548898",
                    "879.3592177",
                    "103.916248",
                    "517.4999739",
                    "990.0784725",
                    "996.778315",
                    "230.0927825",
                    "823.5238459",
                    "846.665257",
                    "778.8642414",
                    "NAN",
                    "540.1324229",
                    "882.1988635",
                    "210.743009"
                  ]
                }
              ],
              "layout": {
                "legend": {
                  "tracegroupgap": 0
                },
                "piecolorway": [
                  "rgb(102, 197, 204)",
                  "rgb(246, 207, 113)",
                  "rgb(248, 156, 116)",
                  "rgb(220, 176, 242)",
                  "rgb(135, 197, 95)",
                  "rgb(158, 185, 243)",
                  "rgb(254, 136, 177)",
                  "rgb(201, 219, 116)",
                  "rgb(139, 224, 164)",
                  "rgb(180, 151, 231)",
                  "rgb(179, 179, 179)"
                ],
                "template": {
                  "data": {
                    "bar": [
                      {
                        "error_x": {
                          "color": "#2a3f5f"
                        },
                        "error_y": {
                          "color": "#2a3f5f"
                        },
                        "marker": {
                          "line": {
                            "color": "white",
                            "width": 0.5
                          },
                          "pattern": {
                            "fillmode": "overlay",
                            "size": 10,
                            "solidity": 0.2
                          }
                        },
                        "type": "bar"
                      }
                    ],
                    "barpolar": [
                      {
                        "marker": {
                          "line": {
                            "color": "white",
                            "width": 0.5
                          },
                          "pattern": {
                            "fillmode": "overlay",
                            "size": 10,
                            "solidity": 0.2
                          }
                        },
                        "type": "barpolar"
                      }
                    ],
                    "carpet": [
                      {
                        "aaxis": {
                          "endlinecolor": "#2a3f5f",
                          "gridcolor": "#C8D4E3",
                          "linecolor": "#C8D4E3",
                          "minorgridcolor": "#C8D4E3",
                          "startlinecolor": "#2a3f5f"
                        },
                        "baxis": {
                          "endlinecolor": "#2a3f5f",
                          "gridcolor": "#C8D4E3",
                          "linecolor": "#C8D4E3",
                          "minorgridcolor": "#C8D4E3",
                          "startlinecolor": "#2a3f5f"
                        },
                        "type": "carpet"
                      }
                    ],
                    "choropleth": [
                      {
                        "colorbar": {
                          "outlinewidth": 0,
                          "ticks": ""
                        },
                        "type": "choropleth"
                      }
                    ],
                    "contour": [
                      {
                        "colorbar": {
                          "outlinewidth": 0,
                          "ticks": ""
                        },
                        "colorscale": [
                          [
                            0,
                            "#0d0887"
                          ],
                          [
                            0.1111111111111111,
                            "#46039f"
                          ],
                          [
                            0.2222222222222222,
                            "#7201a8"
                          ],
                          [
                            0.3333333333333333,
                            "#9c179e"
                          ],
                          [
                            0.4444444444444444,
                            "#bd3786"
                          ],
                          [
                            0.5555555555555556,
                            "#d8576b"
                          ],
                          [
                            0.6666666666666666,
                            "#ed7953"
                          ],
                          [
                            0.7777777777777778,
                            "#fb9f3a"
                          ],
                          [
                            0.8888888888888888,
                            "#fdca26"
                          ],
                          [
                            1,
                            "#f0f921"
                          ]
                        ],
                        "type": "contour"
                      }
                    ],
                    "contourcarpet": [
                      {
                        "colorbar": {
                          "outlinewidth": 0,
                          "ticks": ""
                        },
                        "type": "contourcarpet"
                      }
                    ],
                    "heatmap": [
                      {
                        "colorbar": {
                          "outlinewidth": 0,
                          "ticks": ""
                        },
                        "colorscale": [
                          [
                            0,
                            "#0d0887"
                          ],
                          [
                            0.1111111111111111,
                            "#46039f"
                          ],
                          [
                            0.2222222222222222,
                            "#7201a8"
                          ],
                          [
                            0.3333333333333333,
                            "#9c179e"
                          ],
                          [
                            0.4444444444444444,
                            "#bd3786"
                          ],
                          [
                            0.5555555555555556,
                            "#d8576b"
                          ],
                          [
                            0.6666666666666666,
                            "#ed7953"
                          ],
                          [
                            0.7777777777777778,
                            "#fb9f3a"
                          ],
                          [
                            0.8888888888888888,
                            "#fdca26"
                          ],
                          [
                            1,
                            "#f0f921"
                          ]
                        ],
                        "type": "heatmap"
                      }
                    ],
                    "histogram": [
                      {
                        "marker": {
                          "pattern": {
                            "fillmode": "overlay",
                            "size": 10,
                            "solidity": 0.2
                          }
                        },
                        "type": "histogram"
                      }
                    ],
                    "histogram2d": [
                      {
                        "colorbar": {
                          "outlinewidth": 0,
                          "ticks": ""
                        },
                        "colorscale": [
                          [
                            0,
                            "#0d0887"
                          ],
                          [
                            0.1111111111111111,
                            "#46039f"
                          ],
                          [
                            0.2222222222222222,
                            "#7201a8"
                          ],
                          [
                            0.3333333333333333,
                            "#9c179e"
                          ],
                          [
                            0.4444444444444444,
                            "#bd3786"
                          ],
                          [
                            0.5555555555555556,
                            "#d8576b"
                          ],
                          [
                            0.6666666666666666,
                            "#ed7953"
                          ],
                          [
                            0.7777777777777778,
                            "#fb9f3a"
                          ],
                          [
                            0.8888888888888888,
                            "#fdca26"
                          ],
                          [
                            1,
                            "#f0f921"
                          ]
                        ],
                        "type": "histogram2d"
                      }
                    ],
                    "histogram2dcontour": [
                      {
                        "colorbar": {
                          "outlinewidth": 0,
                          "ticks": ""
                        },
                        "colorscale": [
                          [
                            0,
                            "#0d0887"
                          ],
                          [
                            0.1111111111111111,
                            "#46039f"
                          ],
                          [
                            0.2222222222222222,
                            "#7201a8"
                          ],
                          [
                            0.3333333333333333,
                            "#9c179e"
                          ],
                          [
                            0.4444444444444444,
                            "#bd3786"
                          ],
                          [
                            0.5555555555555556,
                            "#d8576b"
                          ],
                          [
                            0.6666666666666666,
                            "#ed7953"
                          ],
                          [
                            0.7777777777777778,
                            "#fb9f3a"
                          ],
                          [
                            0.8888888888888888,
                            "#fdca26"
                          ],
                          [
                            1,
                            "#f0f921"
                          ]
                        ],
                        "type": "histogram2dcontour"
                      }
                    ],
                    "mesh3d": [
                      {
                        "colorbar": {
                          "outlinewidth": 0,
                          "ticks": ""
                        },
                        "type": "mesh3d"
                      }
                    ],
                    "parcoords": [
                      {
                        "line": {
                          "colorbar": {
                            "outlinewidth": 0,
                            "ticks": ""
                          }
                        },
                        "type": "parcoords"
                      }
                    ],
                    "pie": [
                      {
                        "automargin": true,
                        "type": "pie"
                      }
                    ],
                    "scatter": [
                      {
                        "fillpattern": {
                          "fillmode": "overlay",
                          "size": 10,
                          "solidity": 0.2
                        },
                        "type": "scatter"
                      }
                    ],
                    "scatter3d": [
                      {
                        "line": {
                          "colorbar": {
                            "outlinewidth": 0,
                            "ticks": ""
                          }
                        },
                        "marker": {
                          "colorbar": {
                            "outlinewidth": 0,
                            "ticks": ""
                          }
                        },
                        "type": "scatter3d"
                      }
                    ],
                    "scattercarpet": [
                      {
                        "marker": {
                          "colorbar": {
                            "outlinewidth": 0,
                            "ticks": ""
                          }
                        },
                        "type": "scattercarpet"
                      }
                    ],
                    "scattergeo": [
                      {
                        "marker": {
                          "colorbar": {
                            "outlinewidth": 0,
                            "ticks": ""
                          }
                        },
                        "type": "scattergeo"
                      }
                    ],
                    "scattergl": [
                      {
                        "marker": {
                          "colorbar": {
                            "outlinewidth": 0,
                            "ticks": ""
                          }
                        },
                        "type": "scattergl"
                      }
                    ],
                    "scattermap": [
                      {
                        "marker": {
                          "colorbar": {
                            "outlinewidth": 0,
                            "ticks": ""
                          }
                        },
                        "type": "scattermap"
                      }
                    ],
                    "scattermapbox": [
                      {
                        "marker": {
                          "colorbar": {
                            "outlinewidth": 0,
                            "ticks": ""
                          }
                        },
                        "type": "scattermapbox"
                      }
                    ],
                    "scatterpolar": [
                      {
                        "marker": {
                          "colorbar": {
                            "outlinewidth": 0,
                            "ticks": ""
                          }
                        },
                        "type": "scatterpolar"
                      }
                    ],
                    "scatterpolargl": [
                      {
                        "marker": {
                          "colorbar": {
                            "outlinewidth": 0,
                            "ticks": ""
                          }
                        },
                        "type": "scatterpolargl"
                      }
                    ],
                    "scatterternary": [
                      {
                        "marker": {
                          "colorbar": {
                            "outlinewidth": 0,
                            "ticks": ""
                          }
                        },
                        "type": "scatterternary"
                      }
                    ],
                    "surface": [
                      {
                        "colorbar": {
                          "outlinewidth": 0,
                          "ticks": ""
                        },
                        "colorscale": [
                          [
                            0,
                            "#0d0887"
                          ],
                          [
                            0.1111111111111111,
                            "#46039f"
                          ],
                          [
                            0.2222222222222222,
                            "#7201a8"
                          ],
                          [
                            0.3333333333333333,
                            "#9c179e"
                          ],
                          [
                            0.4444444444444444,
                            "#bd3786"
                          ],
                          [
                            0.5555555555555556,
                            "#d8576b"
                          ],
                          [
                            0.6666666666666666,
                            "#ed7953"
                          ],
                          [
                            0.7777777777777778,
                            "#fb9f3a"
                          ],
                          [
                            0.8888888888888888,
                            "#fdca26"
                          ],
                          [
                            1,
                            "#f0f921"
                          ]
                        ],
                        "type": "surface"
                      }
                    ],
                    "table": [
                      {
                        "cells": {
                          "fill": {
                            "color": "#EBF0F8"
                          },
                          "line": {
                            "color": "white"
                          }
                        },
                        "header": {
                          "fill": {
                            "color": "#C8D4E3"
                          },
                          "line": {
                            "color": "white"
                          }
                        },
                        "type": "table"
                      }
                    ]
                  },
                  "layout": {
                    "annotationdefaults": {
                      "arrowcolor": "#2a3f5f",
                      "arrowhead": 0,
                      "arrowwidth": 1
                    },
                    "autotypenumbers": "strict",
                    "coloraxis": {
                      "colorbar": {
                        "outlinewidth": 0,
                        "ticks": ""
                      }
                    },
                    "colorscale": {
                      "diverging": [
                        [
                          0,
                          "#8e0152"
                        ],
                        [
                          0.1,
                          "#c51b7d"
                        ],
                        [
                          0.2,
                          "#de77ae"
                        ],
                        [
                          0.3,
                          "#f1b6da"
                        ],
                        [
                          0.4,
                          "#fde0ef"
                        ],
                        [
                          0.5,
                          "#f7f7f7"
                        ],
                        [
                          0.6,
                          "#e6f5d0"
                        ],
                        [
                          0.7,
                          "#b8e186"
                        ],
                        [
                          0.8,
                          "#7fbc41"
                        ],
                        [
                          0.9,
                          "#4d9221"
                        ],
                        [
                          1,
                          "#276419"
                        ]
                      ],
                      "sequential": [
                        [
                          0,
                          "#0d0887"
                        ],
                        [
                          0.1111111111111111,
                          "#46039f"
                        ],
                        [
                          0.2222222222222222,
                          "#7201a8"
                        ],
                        [
                          0.3333333333333333,
                          "#9c179e"
                        ],
                        [
                          0.4444444444444444,
                          "#bd3786"
                        ],
                        [
                          0.5555555555555556,
                          "#d8576b"
                        ],
                        [
                          0.6666666666666666,
                          "#ed7953"
                        ],
                        [
                          0.7777777777777778,
                          "#fb9f3a"
                        ],
                        [
                          0.8888888888888888,
                          "#fdca26"
                        ],
                        [
                          1,
                          "#f0f921"
                        ]
                      ],
                      "sequentialminus": [
                        [
                          0,
                          "#0d0887"
                        ],
                        [
                          0.1111111111111111,
                          "#46039f"
                        ],
                        [
                          0.2222222222222222,
                          "#7201a8"
                        ],
                        [
                          0.3333333333333333,
                          "#9c179e"
                        ],
                        [
                          0.4444444444444444,
                          "#bd3786"
                        ],
                        [
                          0.5555555555555556,
                          "#d8576b"
                        ],
                        [
                          0.6666666666666666,
                          "#ed7953"
                        ],
                        [
                          0.7777777777777778,
                          "#fb9f3a"
                        ],
                        [
                          0.8888888888888888,
                          "#fdca26"
                        ],
                        [
                          1,
                          "#f0f921"
                        ]
                      ]
                    },
                    "colorway": [
                      "#636efa",
                      "#EF553B",
                      "#00cc96",
                      "#ab63fa",
                      "#FFA15A",
                      "#19d3f3",
                      "#FF6692",
                      "#B6E880",
                      "#FF97FF",
                      "#FECB52"
                    ],
                    "font": {
                      "color": "#2a3f5f"
                    },
                    "geo": {
                      "bgcolor": "white",
                      "lakecolor": "white",
                      "landcolor": "white",
                      "showlakes": true,
                      "showland": true,
                      "subunitcolor": "#C8D4E3"
                    },
                    "hoverlabel": {
                      "align": "left"
                    },
                    "hovermode": "closest",
                    "mapbox": {
                      "style": "light"
                    },
                    "paper_bgcolor": "white",
                    "plot_bgcolor": "white",
                    "polar": {
                      "angularaxis": {
                        "gridcolor": "#EBF0F8",
                        "linecolor": "#EBF0F8",
                        "ticks": ""
                      },
                      "bgcolor": "white",
                      "radialaxis": {
                        "gridcolor": "#EBF0F8",
                        "linecolor": "#EBF0F8",
                        "ticks": ""
                      }
                    },
                    "scene": {
                      "xaxis": {
                        "backgroundcolor": "white",
                        "gridcolor": "#DFE8F3",
                        "gridwidth": 2,
                        "linecolor": "#EBF0F8",
                        "showbackground": true,
                        "ticks": "",
                        "zerolinecolor": "#EBF0F8"
                      },
                      "yaxis": {
                        "backgroundcolor": "white",
                        "gridcolor": "#DFE8F3",
                        "gridwidth": 2,
                        "linecolor": "#EBF0F8",
                        "showbackground": true,
                        "ticks": "",
                        "zerolinecolor": "#EBF0F8"
                      },
                      "zaxis": {
                        "backgroundcolor": "white",
                        "gridcolor": "#DFE8F3",
                        "gridwidth": 2,
                        "linecolor": "#EBF0F8",
                        "showbackground": true,
                        "ticks": "",
                        "zerolinecolor": "#EBF0F8"
                      }
                    },
                    "shapedefaults": {
                      "line": {
                        "color": "#2a3f5f"
                      }
                    },
                    "ternary": {
                      "aaxis": {
                        "gridcolor": "#DFE8F3",
                        "linecolor": "#A2B1C6",
                        "ticks": ""
                      },
                      "baxis": {
                        "gridcolor": "#DFE8F3",
                        "linecolor": "#A2B1C6",
                        "ticks": ""
                      },
                      "bgcolor": "white",
                      "caxis": {
                        "gridcolor": "#DFE8F3",
                        "linecolor": "#A2B1C6",
                        "ticks": ""
                      }
                    },
                    "title": {
                      "x": 0.05
                    },
                    "xaxis": {
                      "automargin": true,
                      "gridcolor": "#EBF0F8",
                      "linecolor": "#EBF0F8",
                      "ticks": "",
                      "title": {
                        "standoff": 15
                      },
                      "zerolinecolor": "#EBF0F8",
                      "zerolinewidth": 2
                    },
                    "yaxis": {
                      "automargin": true,
                      "gridcolor": "#EBF0F8",
                      "linecolor": "#EBF0F8",
                      "ticks": "",
                      "title": {
                        "standoff": 15
                      },
                      "zerolinecolor": "#EBF0F8",
                      "zerolinewidth": 2
                    }
                  }
                },
                "title": {
                  "text": "Cost Distribution by Transportation Mode"
                }
              }
            }
          },
          "metadata": {},
          "output_type": "display_data"
        }
      ],
      "source": [
        "import pandas as pd\n",
        "import plotly.express as px\n",
        "import plotly.io as pio\n",
        "import plotly.graph_objects as go\n",
        "pio.templates.default = \"plotly_white\"\n",
        "original_data = pd.read_csv(\"Supply_Chain_Dataset.csv\")\n",
        "\n",
        "# Create the pie chart using the original DataFrame\n",
        "transportation_chart = px.pie(original_data,\n",
        "                              values='Costs',\n",
        "                              names='Transportation modes',\n",
        "                              title='Cost Distribution by Transportation Mode',\n",
        "                              hole=0.5,\n",
        "                              color_discrete_sequence=px.colors.qualitative.Pastel)\n",
        "transportation_chart.show()"
      ]
    },
    {
      "cell_type": "code",
      "execution_count": 41,
      "metadata": {
        "colab": {
          "base_uri": "https://localhost:8080/",
          "height": 564
        },
        "id": "lgkA0BAMw9V1",
        "outputId": "04390a02-6973-4e7a-cd7e-0bfe669ab777"
      },
      "outputs": [
        {
          "data": {
            "image/png": "[encoded data removed]",
            "text/plain": [
              "<Figure size 800x600 with 1 Axes>"
            ]
          },
          "metadata": {},
          "output_type": "display_data"
        }
      ],
      "source": [
        "# Load necessary libraries\n",
        "import pandas as pd\n",
        "import matplotlib.pyplot as plt\n",
        "import seaborn as sns\n",
        "# Example plot generation\n",
        "# Assuming data is available in a dataframe called 'data' (renamed from 'df')\n",
        "data = pd.DataFrame({'product_type': ['cosmetics', 'haircare', 'skincare'], 'revenue': [100, 150, 200]})\n",
        "\n",
        "# Define custom colors for product type\n",
        "my_colors = {\"cosmetics\": \"hotpink\", \"haircare\": \"cyan\", \"skincare\": \"lightsalmon\"}\n",
        "\n",
        "# Create bar plot using matplotlib\n",
        "plt.figure(figsize=(8, 6))  # Adjust figure size as needed\n",
        "plt.bar(data['product_type'], data['revenue'], color=[my_colors[p] for p in data['product_type']])\n",
        "plt.title('Total Revenue by Product Type')\n",
        "plt.xlabel('Product Type')\n",
        "plt.ylabel('Revenue')\n",
        "plt.show()\n"
      ]
    },
    {
      "cell_type": "code",
      "execution_count": 42,
      "metadata": {
        "colab": {
          "base_uri": "https://localhost:8080/",
          "height": 565
        },
        "id": "CTr3SfqUFX_Z",
        "outputId": "0b5c73fe-5b23-4918-f63f-7d836d0c4cd9"
      },
      "outputs": [
        {
          "data": {
            "image/png": "[encoded data removed]",
            "text/plain": [
              "<Figure size 800x600 with 1 Axes>"
            ]
          },
          "metadata": {},
          "output_type": "display_data"
        }
      ],
      "source": [
        "import pandas as pd\n",
        "import matplotlib.pyplot as plt\n",
        "import seaborn as sns\n",
        "\n",
        "# Assuming 'original_data' is your DataFrame\n",
        "# and contains 'Product type' and 'Lead time' columns\n",
        "\n",
        "# Convert 'Lead time' to numeric, handling errors\n",
        "original_data['Lead time'] = pd.to_numeric(original_data['Lead time'], errors='coerce')\n",
        "\n",
        "# Calculate average lead times by product type\n",
        "average_lead_times = original_data.groupby('Product type')['Lead time'].mean().reset_index()\n",
        "\n",
        "# Rename columns to match the R code (optional, for clarity)\n",
        "average_lead_times.columns = ['Product type', 'Average Lead Times']\n",
        "\n",
        "# Define custom colors for product type\n",
        "my_colors = {\"cosmetics\": \"hotpink\", \"haircare\": \"cyan\", \"skincare\": \"lightsalmon\"}\n",
        "\n",
        "# Create scatter plot using seaborn\n",
        "plt.figure(figsize=(8, 6))  # Adjust figure size as needed\n",
        "sns.scatterplot(x='Product type', y='Average Lead Times', data=average_lead_times,\n",
        "                s=150,  # Adjust marker size (equivalent to size = 8 in ggplot)\n",
        "                hue='Product type',  # Color by product type\n",
        "                palette=my_colors)  # Use custom colors\n",
        "\n",
        "plt.title(\"Average Lead Times\\n(Day)\")\n",
        "plt.xlabel(\"\")  # Remove x-axis label\n",
        "plt.ylabel(\"\")  # Remove y-axis label\n",
        "\n",
        "# Set y-axis limits and breaks (similar to scale_y_continuous in ggplot)\n",
        "max_lead_time = average_lead_times['Average Lead Times'].max()\n",
        "plt.ylim(0, max_lead_time * 1.1)  # Set upper limit to 110% of max\n",
        "plt.yticks(range(0, int(max_lead_time * 1.1) + 5, 5))  # Adjust breaks accordingly\n",
        "\n",
        "\n",
        "# Save the plot\n",
        "plt.savefig(\"1-3 Average_Lead_Times_by_Product_Type.png\", dpi=300, bbox_inches='tight')\n",
        "plt.show()"
      ]
    },
    {
      "cell_type": "code",
      "execution_count": 43,
      "metadata": {
        "colab": {
          "base_uri": "https://localhost:8080/",
          "height": 542
        },
        "id": "bGO6mxAaTGUj",
        "outputId": "56d0c40e-4ad6-4e33-e983-5939ae58adc8"
      },
      "outputs": [
        {
          "data": {
            "application/vnd.plotly.v1+json": {
              "config": {
                "plotlyServerURL": "https://plot.ly"
              },
              "data": [
                {
                  "domain": {
                    "x": [
                      0,
                      1
                    ],
                    "y": [
                      0,
                      1
                    ]
                  },
                  "hole": 0.5,
                  "hovertemplate": "Transportation modes=%{label}<br>Defect rates=%{value}<extra></extra>",
                  "labels": [
                    "Air",
                    "Rail",
                    "Road",
                    "Sea",
                    "unknown"
                  ],
                  "legendgroup": "",
                  "name": "",
                  "showlegend": true,
                  "textinfo": "label+percent",
                  "textposition": "inside",
                  "type": "pie",
                  "values": {
                    "bdata": "9nGydMou/T+r46UUXqYCQNAJdgPSOAVA2xnwMrKFAkA+mgNnna/7Pw==",
                    "dtype": "f8"
                  }
                }
              ],
              "layout": {
                "legend": {
                  "tracegroupgap": 0
                },
                "piecolorway": [
                  "rgb(102, 197, 204)",
                  "rgb(246, 207, 113)",
                  "rgb(248, 156, 116)",
                  "rgb(220, 176, 242)",
                  "rgb(135, 197, 95)",
                  "rgb(158, 185, 243)",
                  "rgb(254, 136, 177)",
                  "rgb(201, 219, 116)",
                  "rgb(139, 224, 164)",
                  "rgb(180, 151, 231)",
                  "rgb(179, 179, 179)"
                ],
                "template": {
                  "data": {
                    "bar": [
                      {
                        "error_x": {
                          "color": "#2a3f5f"
                        },
                        "error_y": {
                          "color": "#2a3f5f"
                        },
                        "marker": {
                          "line": {
                            "color": "white",
                            "width": 0.5
                          },
                          "pattern": {
                            "fillmode": "overlay",
                            "size": 10,
                            "solidity": 0.2
                          }
                        },
                        "type": "bar"
                      }
                    ],
                    "barpolar": [
                      {
                        "marker": {
                          "line": {
                            "color": "white",
                            "width": 0.5
                          },
                          "pattern": {
                            "fillmode": "overlay",
                            "size": 10,
                            "solidity": 0.2
                          }
                        },
                        "type": "barpolar"
                      }
                    ],
                    "carpet": [
                      {
                        "aaxis": {
                          "endlinecolor": "#2a3f5f",
                          "gridcolor": "#C8D4E3",
                          "linecolor": "#C8D4E3",
                          "minorgridcolor": "#C8D4E3",
                          "startlinecolor": "#2a3f5f"
                        },
                        "baxis": {
                          "endlinecolor": "#2a3f5f",
                          "gridcolor": "#C8D4E3",
                          "linecolor": "#C8D4E3",
                          "minorgridcolor": "#C8D4E3",
                          "startlinecolor": "#2a3f5f"
                        },
                        "type": "carpet"
                      }
                    ],
                    "choropleth": [
                      {
                        "colorbar": {
                          "outlinewidth": 0,
                          "ticks": ""
                        },
                        "type": "choropleth"
                      }
                    ],
                    "contour": [
                      {
                        "colorbar": {
                          "outlinewidth": 0,
                          "ticks": ""
                        },
                        "colorscale": [
                          [
                            0,
                            "#0d0887"
                          ],
                          [
                            0.1111111111111111,
                            "#46039f"
                          ],
                          [
                            0.2222222222222222,
                            "#7201a8"
                          ],
                          [
                            0.3333333333333333,
                            "#9c179e"
                          ],
                          [
                            0.4444444444444444,
                            "#bd3786"
                          ],
                          [
                            0.5555555555555556,
                            "#d8576b"
                          ],
                          [
                            0.6666666666666666,
                            "#ed7953"
                          ],
                          [
                            0.7777777777777778,
                            "#fb9f3a"
                          ],
                          [
                            0.8888888888888888,
                            "#fdca26"
                          ],
                          [
                            1,
                            "#f0f921"
                          ]
                        ],
                        "type": "contour"
                      }
                    ],
                    "contourcarpet": [
                      {
                        "colorbar": {
                          "outlinewidth": 0,
                          "ticks": ""
                        },
                        "type": "contourcarpet"
                      }
                    ],
                    "heatmap": [
                      {
                        "colorbar": {
                          "outlinewidth": 0,
                          "ticks": ""
                        },
                        "colorscale": [
                          [
                            0,
                            "#0d0887"
                          ],
                          [
                            0.1111111111111111,
                            "#46039f"
                          ],
                          [
                            0.2222222222222222,
                            "#7201a8"
                          ],
                          [
                            0.3333333333333333,
                            "#9c179e"
                          ],
                          [
                            0.4444444444444444,
                            "#bd3786"
                          ],
                          [
                            0.5555555555555556,
                            "#d8576b"
                          ],
                          [
                            0.6666666666666666,
                            "#ed7953"
                          ],
                          [
                            0.7777777777777778,
                            "#fb9f3a"
                          ],
                          [
                            0.8888888888888888,
                            "#fdca26"
                          ],
                          [
                            1,
                            "#f0f921"
                          ]
                        ],
                        "type": "heatmap"
                      }
                    ],
                    "histogram": [
                      {
                        "marker": {
                          "pattern": {
                            "fillmode": "overlay",
                            "size": 10,
                            "solidity": 0.2
                          }
                        },
                        "type": "histogram"
                      }
                    ],
                    "histogram2d": [
                      {
                        "colorbar": {
                          "outlinewidth": 0,
                          "ticks": ""
                        },
                        "colorscale": [
                          [
                            0,
                            "#0d0887"
                          ],
                          [
                            0.1111111111111111,
                            "#46039f"
                          ],
                          [
                            0.2222222222222222,
                            "#7201a8"
                          ],
                          [
                            0.3333333333333333,
                            "#9c179e"
                          ],
                          [
                            0.4444444444444444,
                            "#bd3786"
                          ],
                          [
                            0.5555555555555556,
                            "#d8576b"
                          ],
                          [
                            0.6666666666666666,
                            "#ed7953"
                          ],
                          [
                            0.7777777777777778,
                            "#fb9f3a"
                          ],
                          [
                            0.8888888888888888,
                            "#fdca26"
                          ],
                          [
                            1,
                            "#f0f921"
                          ]
                        ],
                        "type": "histogram2d"
                      }
                    ],
                    "histogram2dcontour": [
                      {
                        "colorbar": {
                          "outlinewidth": 0,
                          "ticks": ""
                        },
                        "colorscale": [
                          [
                            0,
                            "#0d0887"
                          ],
                          [
                            0.1111111111111111,
                            "#46039f"
                          ],
                          [
                            0.2222222222222222,
                            "#7201a8"
                          ],
                          [
                            0.3333333333333333,
                            "#9c179e"
                          ],
                          [
                            0.4444444444444444,
                            "#bd3786"
                          ],
                          [
                            0.5555555555555556,
                            "#d8576b"
                          ],
                          [
                            0.6666666666666666,
                            "#ed7953"
                          ],
                          [
                            0.7777777777777778,
                            "#fb9f3a"
                          ],
                          [
                            0.8888888888888888,
                            "#fdca26"
                          ],
                          [
                            1,
                            "#f0f921"
                          ]
                        ],
                        "type": "histogram2dcontour"
                      }
                    ],
                    "mesh3d": [
                      {
                        "colorbar": {
                          "outlinewidth": 0,
                          "ticks": ""
                        },
                        "type": "mesh3d"
                      }
                    ],
                    "parcoords": [
                      {
                        "line": {
                          "colorbar": {
                            "outlinewidth": 0,
                            "ticks": ""
                          }
                        },
                        "type": "parcoords"
                      }
                    ],
                    "pie": [
                      {
                        "automargin": true,
                        "type": "pie"
                      }
                    ],
                    "scatter": [
                      {
                        "fillpattern": {
                          "fillmode": "overlay",
                          "size": 10,
                          "solidity": 0.2
                        },
                        "type": "scatter"
                      }
                    ],
                    "scatter3d": [
                      {
                        "line": {
                          "colorbar": {
                            "outlinewidth": 0,
                            "ticks": ""
                          }
                        },
                        "marker": {
                          "colorbar": {
                            "outlinewidth": 0,
                            "ticks": ""
                          }
                        },
                        "type": "scatter3d"
                      }
                    ],
                    "scattercarpet": [
                      {
                        "marker": {
                          "colorbar": {
                            "outlinewidth": 0,
                            "ticks": ""
                          }
                        },
                        "type": "scattercarpet"
                      }
                    ],
                    "scattergeo": [
                      {
                        "marker": {
                          "colorbar": {
                            "outlinewidth": 0,
                            "ticks": ""
                          }
                        },
                        "type": "scattergeo"
                      }
                    ],
                    "scattergl": [
                      {
                        "marker": {
                          "colorbar": {
                            "outlinewidth": 0,
                            "ticks": ""
                          }
                        },
                        "type": "scattergl"
                      }
                    ],
                    "scattermap": [
                      {
                        "marker": {
                          "colorbar": {
                            "outlinewidth": 0,
                            "ticks": ""
                          }
                        },
                        "type": "scattermap"
                      }
                    ],
                    "scattermapbox": [
                      {
                        "marker": {
                          "colorbar": {
                            "outlinewidth": 0,
                            "ticks": ""
                          }
                        },
                        "type": "scattermapbox"
                      }
                    ],
                    "scatterpolar": [
                      {
                        "marker": {
                          "colorbar": {
                            "outlinewidth": 0,
                            "ticks": ""
                          }
                        },
                        "type": "scatterpolar"
                      }
                    ],
                    "scatterpolargl": [
                      {
                        "marker": {
                          "colorbar": {
                            "outlinewidth": 0,
                            "ticks": ""
                          }
                        },
                        "type": "scatterpolargl"
                      }
                    ],
                    "scatterternary": [
                      {
                        "marker": {
                          "colorbar": {
                            "outlinewidth": 0,
                            "ticks": ""
                          }
                        },
                        "type": "scatterternary"
                      }
                    ],
                    "surface": [
                      {
                        "colorbar": {
                          "outlinewidth": 0,
                          "ticks": ""
                        },
                        "colorscale": [
                          [
                            0,
                            "#0d0887"
                          ],
                          [
                            0.1111111111111111,
                            "#46039f"
                          ],
                          [
                            0.2222222222222222,
                            "#7201a8"
                          ],
                          [
                            0.3333333333333333,
                            "#9c179e"
                          ],
                          [
                            0.4444444444444444,
                            "#bd3786"
                          ],
                          [
                            0.5555555555555556,
                            "#d8576b"
                          ],
                          [
                            0.6666666666666666,
                            "#ed7953"
                          ],
                          [
                            0.7777777777777778,
                            "#fb9f3a"
                          ],
                          [
                            0.8888888888888888,
                            "#fdca26"
                          ],
                          [
                            1,
                            "#f0f921"
                          ]
                        ],
                        "type": "surface"
                      }
                    ],
                    "table": [
                      {
                        "cells": {
                          "fill": {
                            "color": "#EBF0F8"
                          },
                          "line": {
                            "color": "white"
                          }
                        },
                        "header": {
                          "fill": {
                            "color": "#C8D4E3"
                          },
                          "line": {
                            "color": "white"
                          }
                        },
                        "type": "table"
                      }
                    ]
                  },
                  "layout": {
                    "annotationdefaults": {
                      "arrowcolor": "#2a3f5f",
                      "arrowhead": 0,
                      "arrowwidth": 1
                    },
                    "autotypenumbers": "strict",
                    "coloraxis": {
                      "colorbar": {
                        "outlinewidth": 0,
                        "ticks": ""
                      }
                    },
                    "colorscale": {
                      "diverging": [
                        [
                          0,
                          "#8e0152"
                        ],
                        [
                          0.1,
                          "#c51b7d"
                        ],
                        [
                          0.2,
                          "#de77ae"
                        ],
                        [
                          0.3,
                          "#f1b6da"
                        ],
                        [
                          0.4,
                          "#fde0ef"
                        ],
                        [
                          0.5,
                          "#f7f7f7"
                        ],
                        [
                          0.6,
                          "#e6f5d0"
                        ],
                        [
                          0.7,
                          "#b8e186"
                        ],
                        [
                          0.8,
                          "#7fbc41"
                        ],
                        [
                          0.9,
                          "#4d9221"
                        ],
                        [
                          1,
                          "#276419"
                        ]
                      ],
                      "sequential": [
                        [
                          0,
                          "#0d0887"
                        ],
                        [
                          0.1111111111111111,
                          "#46039f"
                        ],
                        [
                          0.2222222222222222,
                          "#7201a8"
                        ],
                        [
                          0.3333333333333333,
                          "#9c179e"
                        ],
                        [
                          0.4444444444444444,
                          "#bd3786"
                        ],
                        [
                          0.5555555555555556,
                          "#d8576b"
                        ],
                        [
                          0.6666666666666666,
                          "#ed7953"
                        ],
                        [
                          0.7777777777777778,
                          "#fb9f3a"
                        ],
                        [
                          0.8888888888888888,
                          "#fdca26"
                        ],
                        [
                          1,
                          "#f0f921"
                        ]
                      ],
                      "sequentialminus": [
                        [
                          0,
                          "#0d0887"
                        ],
                        [
                          0.1111111111111111,
                          "#46039f"
                        ],
                        [
                          0.2222222222222222,
                          "#7201a8"
                        ],
                        [
                          0.3333333333333333,
                          "#9c179e"
                        ],
                        [
                          0.4444444444444444,
                          "#bd3786"
                        ],
                        [
                          0.5555555555555556,
                          "#d8576b"
                        ],
                        [
                          0.6666666666666666,
                          "#ed7953"
                        ],
                        [
                          0.7777777777777778,
                          "#fb9f3a"
                        ],
                        [
                          0.8888888888888888,
                          "#fdca26"
                        ],
                        [
                          1,
                          "#f0f921"
                        ]
                      ]
                    },
                    "colorway": [
                      "#636efa",
                      "#EF553B",
                      "#00cc96",
                      "#ab63fa",
                      "#FFA15A",
                      "#19d3f3",
                      "#FF6692",
                      "#B6E880",
                      "#FF97FF",
                      "#FECB52"
                    ],
                    "font": {
                      "color": "#2a3f5f"
                    },
                    "geo": {
                      "bgcolor": "white",
                      "lakecolor": "white",
                      "landcolor": "white",
                      "showlakes": true,
                      "showland": true,
                      "subunitcolor": "#C8D4E3"
                    },
                    "hoverlabel": {
                      "align": "left"
                    },
                    "hovermode": "closest",
                    "mapbox": {
                      "style": "light"
                    },
                    "paper_bgcolor": "white",
                    "plot_bgcolor": "white",
                    "polar": {
                      "angularaxis": {
                        "gridcolor": "#EBF0F8",
                        "linecolor": "#EBF0F8",
                        "ticks": ""
                      },
                      "bgcolor": "white",
                      "radialaxis": {
                        "gridcolor": "#EBF0F8",
                        "linecolor": "#EBF0F8",
                        "ticks": ""
                      }
                    },
                    "scene": {
                      "xaxis": {
                        "backgroundcolor": "white",
                        "gridcolor": "#DFE8F3",
                        "gridwidth": 2,
                        "linecolor": "#EBF0F8",
                        "showbackground": true,
                        "ticks": "",
                        "zerolinecolor": "#EBF0F8"
                      },
                      "yaxis": {
                        "backgroundcolor": "white",
                        "gridcolor": "#DFE8F3",
                        "gridwidth": 2,
                        "linecolor": "#EBF0F8",
                        "showbackground": true,
                        "ticks": "",
                        "zerolinecolor": "#EBF0F8"
                      },
                      "zaxis": {
                        "backgroundcolor": "white",
                        "gridcolor": "#DFE8F3",
                        "gridwidth": 2,
                        "linecolor": "#EBF0F8",
                        "showbackground": true,
                        "ticks": "",
                        "zerolinecolor": "#EBF0F8"
                      }
                    },
                    "shapedefaults": {
                      "line": {
                        "color": "#2a3f5f"
                      }
                    },
                    "ternary": {
                      "aaxis": {
                        "gridcolor": "#DFE8F3",
                        "linecolor": "#A2B1C6",
                        "ticks": ""
                      },
                      "baxis": {
                        "gridcolor": "#DFE8F3",
                        "linecolor": "#A2B1C6",
                        "ticks": ""
                      },
                      "bgcolor": "white",
                      "caxis": {
                        "gridcolor": "#DFE8F3",
                        "linecolor": "#A2B1C6",
                        "ticks": ""
                      }
                    },
                    "title": {
                      "x": 0.05
                    },
                    "xaxis": {
                      "automargin": true,
                      "gridcolor": "#EBF0F8",
                      "linecolor": "#EBF0F8",
                      "ticks": "",
                      "title": {
                        "standoff": 15
                      },
                      "zerolinecolor": "#EBF0F8",
                      "zerolinewidth": 2
                    },
                    "yaxis": {
                      "automargin": true,
                      "gridcolor": "#EBF0F8",
                      "linecolor": "#EBF0F8",
                      "ticks": "",
                      "title": {
                        "standoff": 15
                      },
                      "zerolinecolor": "#EBF0F8",
                      "zerolinewidth": 2
                    }
                  }
                },
                "title": {
                  "text": "Defect Rates by Transportation Mode"
                }
              }
            }
          },
          "metadata": {},
          "output_type": "display_data"
        }
      ],
      "source": [
        "# Load your original DataFrame (if necessary)\n",
        "original_data = pd.read_csv(\"Supply_Chain_Dataset.csv\")  # Replace \"Supply_Chain_Dataset.csv\" with your actual file name\n",
        "\n",
        "# If you've processed 'original_data', copy it to 'data' for consistency\n",
        "data = original_data.copy()\n",
        "\n",
        "# Convert 'Defect rates' to numeric, handling errors\n",
        "data['Defect rates'] = pd.to_numeric(data['Defect rates'], errors='coerce')\n",
        "\n",
        "# Then, proceed with your groupby and mean calculation\n",
        "trans = data.groupby('Transportation modes')['Defect rates'].mean().reset_index()\n",
        "trans_chart = px.pie(trans, values='Defect rates',\n",
        "                    names='Transportation modes',\n",
        "                    title='Defect Rates by Transportation Mode',\n",
        "                    hole=0.5,\n",
        "                    color_discrete_sequence=px.colors.qualitative.Pastel)\n",
        "trans_chart.update_traces(textposition='inside', textinfo='label+percent')\n",
        "trans_chart.show()"
      ]
    },
    {
      "cell_type": "code",
      "execution_count": 44,
      "metadata": {
        "colab": {
          "base_uri": "https://localhost:8080/",
          "height": 701
        },
        "id": "YgHkubBKNxJC",
        "outputId": "435f2821-54a0-4d17-dd2c-261c98636707"
      },
      "outputs": [
        {
          "name": "stderr",
          "output_type": "stream",
          "text": [
            "\n",
            "[notice] A new release of pip is available: 24.2 -> 25.0.1\n",
            "[notice] To update, run: python.exe -m pip install --upgrade pip\n"
          ]
        },
        {
          "name": "stdout",
          "output_type": "stream",
          "text": [
            "Requirement already satisfied: dash in c:\\users\\dell\\appdata\\local\\programs\\python\\python312\\lib\\site-packages (2.18.2)\n",
            "Requirement already satisfied: Flask<3.1,>=1.0.4 in c:\\users\\dell\\appdata\\local\\programs\\python\\python312\\lib\\site-packages (from dash) (3.0.3)\n",
            "Requirement already satisfied: Werkzeug<3.1 in c:\\users\\dell\\appdata\\local\\programs\\python\\python312\\lib\\site-packages (from dash) (3.0.6)\n",
            "Requirement already satisfied: plotly>=5.0.0 in c:\\users\\dell\\appdata\\local\\programs\\python\\python312\\lib\\site-packages (from dash) (6.0.0)\n",
            "Requirement already satisfied: dash-html-components==2.0.0 in c:\\users\\dell\\appdata\\local\\programs\\python\\python312\\lib\\site-packages (from dash) (2.0.0)\n",
            "Requirement already satisfied: dash-core-components==2.0.0 in c:\\users\\dell\\appdata\\local\\programs\\python\\python312\\lib\\site-packages (from dash) (2.0.0)\n",
            "Requirement already satisfied: dash-table==5.0.0 in c:\\users\\dell\\appdata\\local\\programs\\python\\python312\\lib\\site-packages (from dash) (5.0.0)\n",
            "Requirement already satisfied: importlib-metadata in c:\\users\\dell\\appdata\\local\\programs\\python\\python312\\lib\\site-packages (from dash) (8.6.1)\n",
            "Requirement already satisfied: typing-extensions>=4.1.1 in c:\\users\\dell\\appdata\\local\\programs\\python\\python312\\lib\\site-packages (from dash) (4.12.2)\n",
            "Requirement already satisfied: requests in c:\\users\\dell\\appdata\\local\\programs\\python\\python312\\lib\\site-packages (from dash) (2.32.3)\n",
            "Requirement already satisfied: retrying in c:\\users\\dell\\appdata\\local\\programs\\python\\python312\\lib\\site-packages (from dash) (1.3.4)\n",
            "Requirement already satisfied: nest-asyncio in c:\\users\\dell\\appdata\\local\\programs\\python\\python312\\lib\\site-packages (from dash) (1.6.0)\n",
            "Requirement already satisfied: setuptools in c:\\users\\dell\\appdata\\local\\programs\\python\\python312\\lib\\site-packages (from dash) (70.2.0)\n",
            "Requirement already satisfied: Jinja2>=3.1.2 in c:\\users\\dell\\appdata\\local\\programs\\python\\python312\\lib\\site-packages (from Flask<3.1,>=1.0.4->dash) (3.1.4)\n",
            "Requirement already satisfied: itsdangerous>=2.1.2 in c:\\users\\dell\\appdata\\local\\programs\\python\\python312\\lib\\site-packages (from Flask<3.1,>=1.0.4->dash) (2.2.0)\n",
            "Requirement already satisfied: click>=8.1.3 in c:\\users\\dell\\appdata\\local\\programs\\python\\python312\\lib\\site-packages (from Flask<3.1,>=1.0.4->dash) (8.1.8)\n",
            "Requirement already satisfied: blinker>=1.6.2 in c:\\users\\dell\\appdata\\local\\programs\\python\\python312\\lib\\site-packages (from Flask<3.1,>=1.0.4->dash) (1.9.0)\n",
            "Requirement already satisfied: narwhals>=1.15.1 in c:\\users\\dell\\appdata\\local\\programs\\python\\python312\\lib\\site-packages (from plotly>=5.0.0->dash) (1.27.1)\n",
            "Requirement already satisfied: packaging in c:\\users\\dell\\appdata\\local\\programs\\python\\python312\\lib\\site-packages (from plotly>=5.0.0->dash) (24.1)\n",
            "Requirement already satisfied: MarkupSafe>=2.1.1 in c:\\users\\dell\\appdata\\local\\programs\\python\\python312\\lib\\site-packages (from Werkzeug<3.1->dash) (2.1.5)\n",
            "Requirement already satisfied: zipp>=3.20 in c:\\users\\dell\\appdata\\local\\programs\\python\\python312\\lib\\site-packages (from importlib-metadata->dash) (3.21.0)\n",
            "Requirement already satisfied: charset-normalizer<4,>=2 in c:\\users\\dell\\appdata\\local\\programs\\python\\python312\\lib\\site-packages (from requests->dash) (3.3.2)\n",
            "Requirement already satisfied: idna<4,>=2.5 in c:\\users\\dell\\appdata\\local\\programs\\python\\python312\\lib\\site-packages (from requests->dash) (3.7)\n",
            "Requirement already satisfied: urllib3<3,>=1.21.1 in c:\\users\\dell\\appdata\\local\\programs\\python\\python312\\lib\\site-packages (from requests->dash) (2.2.2)\n",
            "Requirement already satisfied: certifi>=2017.4.17 in c:\\users\\dell\\appdata\\local\\programs\\python\\python312\\lib\\site-packages (from requests->dash) (2024.7.4)\n",
            "Requirement already satisfied: six>=1.7.0 in c:\\users\\dell\\appdata\\local\\programs\\python\\python312\\lib\\site-packages (from retrying->dash) (1.16.0)\n",
            "Requirement already satisfied: colorama in c:\\users\\dell\\appdata\\local\\programs\\python\\python312\\lib\\site-packages (from click>=8.1.3->Flask<3.1,>=1.0.4->dash) (0.4.6)\n"
          ]
        },
        {
          "ename": "NameError",
          "evalue": "name '_name_' is not defined",
          "output_type": "error",
          "traceback": [
            "\u001b[1;31m---------------------------------------------------------------------------\u001b[0m",
            "\u001b[1;31mNameError\u001b[0m                                 Traceback (most recent call last)",
            "Cell \u001b[1;32mIn[44], line 16\u001b[0m\n\u001b[0;32m     13\u001b[0m data\u001b[38;5;241m.\u001b[39mcolumns \u001b[38;5;241m=\u001b[39m data\u001b[38;5;241m.\u001b[39mcolumns\u001b[38;5;241m.\u001b[39mstr\u001b[38;5;241m.\u001b[39mlower()\u001b[38;5;241m.\u001b[39mstr\u001b[38;5;241m.\u001b[39mreplace(\u001b[38;5;124m\"\u001b[39m\u001b[38;5;124m \u001b[39m\u001b[38;5;124m\"\u001b[39m, \u001b[38;5;124m\"\u001b[39m\u001b[38;5;124m_\u001b[39m\u001b[38;5;124m\"\u001b[39m)\n\u001b[0;32m     15\u001b[0m \u001b[38;5;66;03m# Create Dash app\u001b[39;00m\n\u001b[1;32m---> 16\u001b[0m app \u001b[38;5;241m=\u001b[39m dash\u001b[38;5;241m.\u001b[39mDash(\u001b[43m_name_\u001b[49m)\n\u001b[0;32m     18\u001b[0m app\u001b[38;5;241m.\u001b[39mlayout \u001b[38;5;241m=\u001b[39m html\u001b[38;5;241m.\u001b[39mDiv([\n\u001b[0;32m     19\u001b[0m     html\u001b[38;5;241m.\u001b[39mH1(\u001b[38;5;124m\"\u001b[39m\u001b[38;5;124mAI-Powered Data Validation & Standardization\u001b[39m\u001b[38;5;124m\"\u001b[39m),\n\u001b[0;32m     20\u001b[0m \n\u001b[1;32m   (...)\u001b[0m\n\u001b[0;32m     52\u001b[0m     dcc\u001b[38;5;241m.\u001b[39mGraph(\u001b[38;5;28mid\u001b[39m\u001b[38;5;241m=\u001b[39m\u001b[38;5;124m\"\u001b[39m\u001b[38;5;124mboxplot\u001b[39m\u001b[38;5;124m\"\u001b[39m)\n\u001b[0;32m     53\u001b[0m ])\n\u001b[0;32m     55\u001b[0m \u001b[38;5;129m@app\u001b[39m\u001b[38;5;241m.\u001b[39mcallback(\n\u001b[0;32m     56\u001b[0m     Output(\u001b[38;5;124m\"\u001b[39m\u001b[38;5;124mboxplot\u001b[39m\u001b[38;5;124m\"\u001b[39m, \u001b[38;5;124m\"\u001b[39m\u001b[38;5;124mfigure\u001b[39m\u001b[38;5;124m\"\u001b[39m),\n\u001b[0;32m     57\u001b[0m     Input(\u001b[38;5;124m\"\u001b[39m\u001b[38;5;124mnum_column\u001b[39m\u001b[38;5;124m\"\u001b[39m, \u001b[38;5;124m\"\u001b[39m\u001b[38;5;124mvalue\u001b[39m\u001b[38;5;124m\"\u001b[39m)\n\u001b[0;32m     58\u001b[0m )\n\u001b[0;32m     59\u001b[0m \u001b[38;5;28;01mdef\u001b[39;00m \u001b[38;5;21mupdate_graph\u001b[39m(selected_col):\n",
            "\u001b[1;31mNameError\u001b[0m: name '_name_' is not defined"
          ]
        }
      ],
      "source": [
        "!pip install dash\n",
        "import pandas as pd\n",
        "import dash\n",
        "from dash import dcc, html, dash_table\n",
        "from dash.dependencies import Input, Output\n",
        "import plotly.express as px\n",
        "\n",
        "# Perform basic validation\n",
        "data['Missing Values'] = data.isnull().sum(axis=1)\n",
        "data['Duplicates'] = data.duplicated()\n",
        "\n",
        "# Standardization (Example: Converting column names to lowercase)\n",
        "data.columns = data.columns.str.lower().str.replace(\" \", \"_\")\n",
        "\n",
        "# Create Dash app\n",
        "app = dash.Dash(_name_)\n",
        "\n",
        "app.layout = html.Div([\n",
        "    html.H1(\"AI-Powered Data Validation & Standardization\"),\n",
        "\n",
        "    # Table to show raw data\n",
        "    html.H3(\"Raw Data\"),\n",
        "    dash_table.DataTable(\n",
        "        data=data.head(10).to_dict('records'),\n",
        "        columns=[{\"name\": i, \"id\": i} for i in data.columns],\n",
        "        page_size=10\n",
        "    ),\n",
        "\n",
        "    # Data Validation Summary\n",
        "    html.H3(\"Validation Summary\"),\n",
        "    dash_table.DataTable(\n",
        "        data=pd.DataFrame({\n",
        "            \"Missing Values\": [data.isnull().sum().sum()],\n",
        "            \"Duplicate Rows\": [data.duplicated().sum()]\n",
        "        }).to_dict('records'),\n",
        "        columns=[{\"name\": i, \"id\": i} for i in [\"Missing Values\", \"Duplicate Rows\"]]\n",
        "    ),\n",
        "\n",
        "    # Standardization: Before and After (Example)\n",
        "    html.H3(\"Standardization Example\"),\n",
        "    html.P(\"Column Names Standardized (Lowercase, Underscores)\"),\n",
        "    html.Pre(str(data.columns.tolist())),\n",
        "\n",
        "    # Anomaly Detection (Example: Outlier in a Numerical Column)\n",
        "    html.H3(\"Anomaly Detection\"),\n",
        "    dcc.Dropdown(\n",
        "        id=\"num_column\",\n",
        "        options=[{\"label\": col, \"value\": col} for col in data.select_dtypes(include=['number']).columns],\n",
        "        value=data.select_dtypes(include=['number']).columns[0] if not data.select_dtypes(include=['number']).empty else None,\n",
        "        placeholder=\"Select a numerical column\"\n",
        "    ),\n",
        "    dcc.Graph(id=\"boxplot\")\n",
        "])\n",
        "\n",
        "@app.callback(\n",
        "    Output(\"boxplot\", \"figure\"),\n",
        "    Input(\"num_column\", \"value\")\n",
        ")\n",
        "def update_graph(selected_col):\n",
        "    if selected_col:\n",
        "        fig = px.box(data, y=selected_col, title=f\"Outlier Detection in {selected_col}\")\n",
        "        return fig\n",
        "    return {}\n",
        "\n",
        "# Run the app\n",
        "if _name_ == '_main_':\n",
        "    app.run_server(debug=True)"
      ]
    },
    {
      "cell_type": "code",
      "execution_count": null,
      "metadata": {
        "colab": {
          "base_uri": "https://localhost:8080/",
          "height": 1000
        },
        "collapsed": true,
        "id": "hcAh7r81PVkY",
        "outputId": "9ab2c1ed-0cdf-4aa3-b95d-9b122f2093b6"
      },
      "outputs": [
        {
          "name": "stdout",
          "output_type": "stream",
          "text": [
            "Requirement already satisfied: dash in c:\\users\\dell\\appdata\\local\\programs\\python\\python312\\lib\\site-packages (2.18.2)\n",
            "Requirement already satisfied: Flask<3.1,>=1.0.4 in c:\\users\\dell\\appdata\\local\\programs\\python\\python312\\lib\\site-packages (from dash) (3.0.3)\n",
            "Requirement already satisfied: Werkzeug<3.1 in c:\\users\\dell\\appdata\\local\\programs\\python\\python312\\lib\\site-packages (from dash) (3.0.6)\n",
            "Requirement already satisfied: plotly>=5.0.0 in c:\\users\\dell\\appdata\\local\\programs\\python\\python312\\lib\\site-packages (from dash) (6.0.0)\n",
            "Requirement already satisfied: dash-html-components==2.0.0 in c:\\users\\dell\\appdata\\local\\programs\\python\\python312\\lib\\site-packages (from dash) (2.0.0)\n",
            "Requirement already satisfied: dash-core-components==2.0.0 in c:\\users\\dell\\appdata\\local\\programs\\python\\python312\\lib\\site-packages (from dash) (2.0.0)\n",
            "Requirement already satisfied: dash-table==5.0.0 in c:\\users\\dell\\appdata\\local\\programs\\python\\python312\\lib\\site-packages (from dash) (5.0.0)\n",
            "Requirement already satisfied: importlib-metadata in c:\\users\\dell\\appdata\\local\\programs\\python\\python312\\lib\\site-packages (from dash) (8.6.1)\n",
            "Requirement already satisfied: typing-extensions>=4.1.1 in c:\\users\\dell\\appdata\\local\\programs\\python\\python312\\lib\\site-packages (from dash) (4.12.2)\n",
            "Requirement already satisfied: requests in c:\\users\\dell\\appdata\\local\\programs\\python\\python312\\lib\\site-packages (from dash) (2.32.3)\n",
            "Requirement already satisfied: retrying in c:\\users\\dell\\appdata\\local\\programs\\python\\python312\\lib\\site-packages (from dash) (1.3.4)\n",
            "Requirement already satisfied: nest-asyncio in c:\\users\\dell\\appdata\\local\\programs\\python\\python312\\lib\\site-packages (from dash) (1.6.0)\n",
            "Requirement already satisfied: setuptools in c:\\users\\dell\\appdata\\local\\programs\\python\\python312\\lib\\site-packages (from dash) (70.2.0)\n",
            "Requirement already satisfied: Jinja2>=3.1.2 in c:\\users\\dell\\appdata\\local\\programs\\python\\python312\\lib\\site-packages (from Flask<3.1,>=1.0.4->dash) (3.1.4)\n",
            "Requirement already satisfied: itsdangerous>=2.1.2 in c:\\users\\dell\\appdata\\local\\programs\\python\\python312\\lib\\site-packages (from Flask<3.1,>=1.0.4->dash) (2.2.0)\n",
            "Requirement already satisfied: click>=8.1.3 in c:\\users\\dell\\appdata\\local\\programs\\python\\python312\\lib\\site-packages (from Flask<3.1,>=1.0.4->dash) (8.1.8)\n",
            "Requirement already satisfied: blinker>=1.6.2 in c:\\users\\dell\\appdata\\local\\programs\\python\\python312\\lib\\site-packages (from Flask<3.1,>=1.0.4->dash) (1.9.0)\n",
            "Requirement already satisfied: narwhals>=1.15.1 in c:\\users\\dell\\appdata\\local\\programs\\python\\python312\\lib\\site-packages (from plotly>=5.0.0->dash) (1.27.1)\n",
            "Requirement already satisfied: packaging in c:\\users\\dell\\appdata\\local\\programs\\python\\python312\\lib\\site-packages (from plotly>=5.0.0->dash) (24.1)\n",
            "Requirement already satisfied: MarkupSafe>=2.1.1 in c:\\users\\dell\\appdata\\local\\programs\\python\\python312\\lib\\site-packages (from Werkzeug<3.1->dash) (2.1.5)\n",
            "Requirement already satisfied: zipp>=3.20 in c:\\users\\dell\\appdata\\local\\programs\\python\\python312\\lib\\site-packages (from importlib-metadata->dash) (3.21.0)\n",
            "Requirement already satisfied: charset-normalizer<4,>=2 in c:\\users\\dell\\appdata\\local\\programs\\python\\python312\\lib\\site-packages (from requests->dash) (3.3.2)\n",
            "Requirement already satisfied: idna<4,>=2.5 in c:\\users\\dell\\appdata\\local\\programs\\python\\python312\\lib\\site-packages (from requests->dash) (3.7)\n",
            "Requirement already satisfied: urllib3<3,>=1.21.1 in c:\\users\\dell\\appdata\\local\\programs\\python\\python312\\lib\\site-packages (from requests->dash) (2.2.2)\n",
            "Requirement already satisfied: certifi>=2017.4.17 in c:\\users\\dell\\appdata\\local\\programs\\python\\python312\\lib\\site-packages (from requests->dash) (2024.7.4)\n",
            "Requirement already satisfied: six>=1.7.0 in c:\\users\\dell\\appdata\\local\\programs\\python\\python312\\lib\\site-packages (from retrying->dash) (1.16.0)\n",
            "Requirement already satisfied: colorama in c:\\users\\dell\\appdata\\local\\programs\\python\\python312\\lib\\site-packages (from click>=8.1.3->Flask<3.1,>=1.0.4->dash) (0.4.6)\n"
          ]
        },
        {
          "name": "stderr",
          "output_type": "stream",
          "text": [
            "\n",
            "[notice] A new release of pip is available: 24.2 -> 25.0.1\n",
            "[notice] To update, run: python.exe -m pip install --upgrade pip\n",
            "C:\\Users\\DELL\\AppData\\Local\\Temp\\ipykernel_15120\\1934532975.py:25: UserWarning:\n",
            "\n",
            "DataFrame columns are not unique, some columns will be omitted.\n",
            "\n"
          ]
        },
        {
          "data": {
            "text/html": [
              "\n",
              "        <iframe\n",
              "            width=\"100%\"\n",
              "            height=\"650\"\n",
              "            src=\"http://127.0.0.1:8050/\"\n",
              "            frameborder=\"0\"\n",
              "            allowfullscreen\n",
              "            \n",
              "        ></iframe>\n",
              "        "
            ],
            "text/plain": [
              "<IPython.lib.display.IFrame at 0x279220faba0>"
            ]
          },
          "metadata": {},
          "output_type": "display_data"
        },
        {
          "name": "stdout",
          "output_type": "stream",
          "text": [
            "---------------------------------------------------------------------------\n",
            "DuplicateError                            Traceback (most recent call last)\n",
            "Cell In[60], line 62, in update_graph(selected_col='stock_levels')\n",
            "     56 @app.callback(\n",
            "     57     Output(\"boxplot\", \"figure\"),\n",
            "     58     Input(\"num_column\", \"value\")\n",
            "     59 )\n",
            "     60 def update_graph(selected_col):\n",
            "     61     if selected_col:\n",
            "---> 62         fig = px.box(data, y=selected_col, title=f\"Outlier Detection in {selected_col}\")\n",
            "        selected_col = 'stock_levels'\n",
            "        fig = Figure({\n",
            "    'data': [{'customdata': array([['802'],\n",
            "                                   ['NAN'],\n",
            "                                   ['147'],\n",
            "                                   ['336'],\n",
            "                                   ['620'],\n",
            "                                   ['884'],\n",
            "                                   ['209'],\n",
            "                                   ['142'],\n",
            "                                   ['353'],\n",
            "                                   ['327'],\n",
            "                                   ['598'],\n",
            "                                   ['24'],\n",
            "                                   ['859'],\n",
            "                                   ['29'],\n",
            "                                   ['154'],\n",
            "                                   ['622'],\n",
            "                                   ['701'],\n",
            "                                   ['227'],\n",
            "                                   ['117'],\n",
            "                                   ['163'],\n",
            "                                   ['NAN'],\n",
            "                                   ['904'],\n",
            "                                   ['241'],\n",
            "                                   ['359'],\n",
            "                                   ['946'],\n",
            "                                   ['198'],\n",
            "                                   ['774'],\n",
            "                                   ['663'],\n",
            "                                   ['618'],\n",
            "                                   ['79'],\n",
            "                                   ['114'],\n",
            "                                   ['672'],\n",
            "                                   ['62'],\n",
            "                                   ['627']], dtype=object),\n",
            "              'hovertemplate': ('Product type=haircare<br>Price' ... '{customdata[0]}<extra></extra>'),\n",
            "              'legendgroup': 'haircare',\n",
            "              'marker': {'color': '#636efa', 'symbol': 'circle'},\n",
            "              'mode': 'markers',\n",
            "              'name': 'haircare',\n",
            "              'orientation': 'v',\n",
            "              'showlegend': True,\n",
            "              'type': 'scatter',\n",
            "              'x': array(['69.80800554', '11.31968329', '1.699976014', '71.21338908',\n",
            "                          '36.44362777', '27.67978089', '4.156308359', '39.62934399',\n",
            "                          '97.44694662', '8.022859211', '11.74327178', '33.78413803',\n",
            "                          '27.0822072', '76.03554443', '26.70076097', '31.14624316',\n",
            "                          '79.85505834', '49.26320535', '52.0287499', '37.93181238',\n",
            "                          '47.91454182', '3.170011414', '69.10879955', '57.44974296',\n",
            "                          '6.306883176', '57.05703122', '72.81920693', '68.91124621',\n",
            "                          '89.10436729', '80.41403665', '69.290831', '77.90392722', '3.526111259',\n",
            "                          '68.5178327'], dtype=object),\n",
            "              'xaxis': 'x',\n",
            "              'y': array(['8661.996792', '9577.749626', '2828.348746', '2873.741446',\n",
            "                          '9364.673505', '2390.807867', '9049.077861', '2174.777054',\n",
            "                          '3716.493326', '2766.342367', '5737.425599', '5267.956808',\n",
            "                          '2556.767361', '7397.071005', '9866.465458', '6088.02148', '2925.67517',\n",
            "                          '1605.8669', '6885.589351', '3550.218433', '7014.887987', '5709.945296',\n",
            "                          '5328.375984', '2483.760178', '1292.458418', '7888.723268', '4384.4134',\n",
            "                          '2411.754632', '2048.2901', '5133.846701', '4531.402134', '7386.363944',\n",
            "                          '4370.91658', '9185.185829'], dtype=object),\n",
            "              'yaxis': 'y'},\n",
            "             {'customdata': array([['736'],\n",
            "                                   ['Unknown'],\n",
            "                                   ['871'],\n",
            "                                   ['65'],\n",
            "                                   ['980'],\n",
            "                                   ['996'],\n",
            "                                   ['960'],\n",
            "                                   ['249'],\n",
            "                                   ['562'],\n",
            "                                   ['469'],\n",
            "                                   ['280'],\n",
            "                                   ['187'],\n",
            "                                   ['320'],\n",
            "                                   ['168'],\n",
            "                                   ['781'],\n",
            "                                   ['602'],\n",
            "                                   ['963'],\n",
            "                                   ['963'],\n",
            "                                   ['176'],\n",
            "                                   ['933'],\n",
            "                                   ['556'],\n",
            "                                   ['155'],\n",
            "                                   ['910'],\n",
            "                                   ['820'],\n",
            "                                   ['242'],\n",
            "                                   ['93'],\n",
            "                                   ['896'],\n",
            "                                   ['380'],\n",
            "                                   ['246'],\n",
            "                                   ['134'],\n",
            "                                   ['457'],\n",
            "                                   ['704'],\n",
            "                                   ['513'],\n",
            "                                   ['511'],\n",
            "                                   ['106'],\n",
            "                                   ['872'],\n",
            "                                   ['336'],\n",
            "                                   ['223'],\n",
            "                                   ['320'],\n",
            "                                   ['913']], dtype=object),\n",
            "              'hovertemplate': ('Product type=skincare<br>Price' ... '{customdata[0]}<extra></extra>'),\n",
            "              'legendgroup': 'skincare',\n",
            "              'marker': {'color': '#EF553B', 'symbol': 'circle'},\n",
            "              'mode': 'markers',\n",
            "              'name': 'skincare',\n",
            "              'orientation': 'v',\n",
            "              'showlegend': True,\n",
            "              'type': 'scatter',\n",
            "              'x': array(['14.84352328', '61.16334302', '4.805496036', '4.078332863',\n",
            "                          '64.01573294', '15.70779568', '90.63545998', '16.16039332',\n",
            "                          '99.17132864', '36.98924493', '7.54717211', '51.12387009',\n",
            "                          '96.34107244', '50.84739305', '79.20993602', '37.46759233',\n",
            "                          '9.813002579', '23.39984475', '19.12747727', '80.54142417',\n",
            "                          '99.11329162', '46.52916761', '95.71213588', '98.03182966',\n",
            "                          '30.34147071', '20.98638604', '59.84156138', '17.02802792',\n",
            "                          '13.01737679', '89.63409561', '33.69771721', '26.03486977',\n",
            "                          '87.75543235', '54.86552852', '92.99688423', 'NAN', '17.03493074',\n",
            "                          '19.99817694', '13.8819135', '19.75460487'], dtype=object),\n",
            "              'xaxis': 'x',\n",
            "              'y': array(['7460.900065', 'NAN', '2686.505152', '7823.47656', '4971.145988',\n",
            "                          '2330.965802', '6099.944116', '4052.738416', '8653.570926',\n",
            "                          '5442.086785', '6453.797968', '2553.495585', '8128.027697',\n",
            "                          '9655.135103', '9571.550487', '9061.710896', '7573.402458',\n",
            "                          '2438.33993', '1912.465663', '5724.95935', '5521.205259', '1839.609426',\n",
            "                          '7089.47425', '9435.762609', '8232.334829', '4767.020484', '2021.14981',\n",
            "                          '8864.08435', '4256.949141', '8458.730878', '8354.579686',\n",
            "                          '8367.721618', '9473.798033', '1752.381087', '1889.07359',\n",
            "                          '8651.672683', '2943.381868', '1229.591029', '9592.63357', '8525.95256'],\n",
            "                         dtype=object),\n",
            "              'yaxis': 'y'},\n",
            "             {'customdata': array([['426'],\n",
            "                                   ['150'],\n",
            "                                   ['126'],\n",
            "                                   ['601'],\n",
            "                                   ['391'],\n",
            "                                   ['352'],\n",
            "                                   ['394'],\n",
            "                                   ['253'],\n",
            "                                   ['616'],\n",
            "                                   ['NAN'],\n",
            "                                   ['705'],\n",
            "                                   ['919'],\n",
            "                                   ['99'],\n",
            "                                   ['633'],\n",
            "                                   ['484'],\n",
            "                                   ['270'],\n",
            "                                   ['637'],\n",
            "                                   ['478'],\n",
            "                                   ['375'],\n",
            "                                   ['25'],\n",
            "                                   ['737'],\n",
            "                                   ['134'],\n",
            "                                   ['916'],\n",
            "                                   ['276'],\n",
            "                                   ['987'],\n",
            "                                   ['324']], dtype=object),\n",
            "              'hovertemplate': ('Product type=cosmetics<br>Pric' ... '{customdata[0]}<extra></extra>'),\n",
            "              'legendgroup': 'cosmetics',\n",
            "              'marker': {'color': '#00cc96', 'symbol': 'circle'},\n",
            "              'mode': 'markers',\n",
            "              'name': 'cosmetics',\n",
            "              'orientation': 'v',\n",
            "              'showlegend': True,\n",
            "              'type': 'scatter',\n",
            "              'x': array(['42.95838438', '68.71759675', '81.46253437', '84.89386898',\n",
            "                          '4.324341186', '92.55736081', '2.397274706', '63.44755919', '64.795435',\n",
            "                          '84.95778682', '52.07593068', '51.35579091', '78.89791321',\n",
            "                          '14.20348426', '63.82839835', '72.79635396', '6.381533163',\n",
            "                          '90.20442752', '83.85101768', '76.96299442', '75.27040698',\n",
            "                          '97.76008558', '62.11196546', '47.71423308', '3.037688725',\n",
            "                          '24.42313142'], dtype=object),\n",
            "              'xaxis': 'x',\n",
            "              'y': array(['8496.103813', '7517.363211', '2629.396435', '7087.052696',\n",
            "                          '8858.367571', '2686.457224', '6117.324615', '8318.903195',\n",
            "                          '5149.99835', '6541.329345', '9692.31804', '7152.286049', '8001.613207',\n",
            "                          '5910.88539', '1061.618523', '3899.746834', '8180.337085',\n",
            "                          '2633.121981', '7910.886916', '8684.613059', '9444.742033',\n",
            "                          '5924.682567', '1935.206794', '2100.129755', '7888.356547',\n",
            "                          '7698.424766'], dtype=object),\n",
            "              'yaxis': 'y'}],\n",
            "    'layout': {'legend': {'title': {'text': 'Product type'}, 'tracegroupgap': 0},\n",
            "               'template': '...',\n",
            "               'title': {'text': 'Revenue generated by product type'},\n",
            "               'xaxis': {'anchor': 'y', 'domain': [0.0, 1.0], 'title': {'text': 'Price'}},\n",
            "               'yaxis': {'anchor': 'x', 'domain': [0.0, 1.0], 'title': {'text': 'Revenue generated'}}}\n",
            "})\n",
            "        data =    product_type    sku        price availability number_of_products_sold  \\\n",
            "0      haircare   SKU0  69.80800554           55                     802   \n",
            "1      skincare   SKU1  14.84352328           95                     736   \n",
            "2      haircare   SKU2  11.31968329           34                     NAN   \n",
            "3      skincare   SKU3  61.16334302           68                     NaN   \n",
            "4      skincare   SKU4  4.805496036           26                     871   \n",
            "..          ...    ...          ...          ...                     ...   \n",
            "95     haircare  SKU95  77.90392722           65                     672   \n",
            "96    cosmetics  SKU96  24.42313142           29                     324   \n",
            "97     haircare  SKU97  3.526111259           56                      62   \n",
            "98     skincare  SKU98  19.75460487           43                     913   \n",
            "99     haircare  SKU99   68.5178327           17                     627   \n",
            "\n",
            "   revenue_generated customer_demographics  stock_levels lead_times  \\\n",
            "0        8661.996792            Non-binary            58          7   \n",
            "1        7460.900065                Female            53         30   \n",
            "2        9577.749626               Unknown             1         10   \n",
            "3                NAN            Non-binary            23         13   \n",
            "4        2686.505152            Non-binary             5          3   \n",
            "..               ...                   ...           ...        ...   \n",
            "95       7386.363944               Unknown            15         14   \n",
            "96       7698.424766            Non-binary            67          2   \n",
            "97        4370.91658                  Male            46         19   \n",
            "98        8525.95256                Female            53          1   \n",
            "99       9185.185829               Unknown            55          8   \n",
            "\n",
            "   order_quantities  ... defect_rates transportation_modes   routes  \\\n",
            "0                96  ...     0.226410                 Road  Route B   \n",
            "1                37  ...     4.854068                 Road  Route B   \n",
            "2                88  ...     4.580593                  Air  Route C   \n",
            "3                59  ...     4.746649                 Rail  Route A   \n",
            "4                56  ...     3.145580                  Air  Route A   \n",
            "..              ...  ...          ...                  ...      ...   \n",
            "95               26  ...     1.210882                  Air  Route A   \n",
            "96               32  ...     3.872048                 Road  Route A   \n",
            "97                4  ...     3.376238                 Road  Route A   \n",
            "98               27  ...     2.908122                 Rail  Route A   \n",
            "99               59  ...     0.346027                 Rail  Route B   \n",
            "\n",
            "          costs  missing_values duplicates  missing_values duplicates  \\\n",
            "0   187.7520755               0      False               0      False   \n",
            "1   503.0655791               0      False               0      False   \n",
            "2   141.9202818               0      False               0      False   \n",
            "3   254.7761592               1      False               1      False   \n",
            "4   923.4406317               0      False               0      False   \n",
            "..          ...             ...        ...             ...        ...   \n",
            "95  778.8642414               0      False               0      False   \n",
            "96          NAN               0      False               0      False   \n",
            "97  540.1324229               0      False               0      False   \n",
            "98  882.1988635               0      False               0      False   \n",
            "99   210.743009               0      False               0      False   \n",
            "\n",
            "    missing_values duplicates  \n",
            "0                0      False  \n",
            "1                0      False  \n",
            "2                0      False  \n",
            "3                1      False  \n",
            "4                0      False  \n",
            "..             ...        ...  \n",
            "95               0      False  \n",
            "96               0      False  \n",
            "97               0      False  \n",
            "98               0      False  \n",
            "99               0      False  \n",
            "\n",
            "[100 rows x 30 columns]\n",
            "        px = <module 'plotly.express' from 'c:\\\\Users\\\\DELL\\\\AppData\\\\Local\\\\Programs\\\\Python\\\\Python312\\\\Lib\\\\site-packages\\\\plotly\\\\express\\\\__init__.py'>\n",
            "     63         return fig\n",
            "     64     return {}\n",
            "\n",
            "File c:\\Users\\DELL\\AppData\\Local\\Programs\\Python\\Python312\\Lib\\site-packages\\plotly\\express\\_chart_types.py:679, in box(\n",
            "    data_frame=   product_type    sku        price availability...          0      False  \n",
            "\n",
            "[100 rows x 30 columns],\n",
            "    x=None,\n",
            "    y='stock_levels',\n",
            "    color=None,\n",
            "    facet_row=None,\n",
            "    facet_col=None,\n",
            "    facet_col_wrap=0,\n",
            "    facet_row_spacing=None,\n",
            "    facet_col_spacing=None,\n",
            "    hover_name=None,\n",
            "    hover_data=None,\n",
            "    custom_data=None,\n",
            "    animation_frame=None,\n",
            "    animation_group=None,\n",
            "    category_orders=None,\n",
            "    labels=None,\n",
            "    color_discrete_sequence=None,\n",
            "    color_discrete_map=None,\n",
            "    orientation=None,\n",
            "    boxmode=None,\n",
            "    log_x=False,\n",
            "    log_y=False,\n",
            "    range_x=None,\n",
            "    range_y=None,\n",
            "    points=None,\n",
            "    notched=False,\n",
            "    title='Outlier Detection in stock_levels',\n",
            "    subtitle=None,\n",
            "    template=None,\n",
            "    width=None,\n",
            "    height=None\n",
            ")\n",
            "    637 def box(\n",
            "    638     data_frame=None,\n",
            "    639     x=None,\n",
            "   (...)\n",
            "    668     height=None,\n",
            "    669 ) -> go.Figure:\n",
            "    670     \"\"\"\n",
            "    671     In a box plot, rows of `data_frame` are grouped together into a\n",
            "    672     box-and-whisker mark to visualize their distribution.\n",
            "   (...)\n",
            "    677     range (IQR: Q3-Q1), see \"points\" for other options.\n",
            "    678     \"\"\"\n",
            "--> 679     return make_figure(\n",
            "        go = <module 'plotly.graph_objs' from 'c:\\\\Users\\\\DELL\\\\AppData\\\\Local\\\\Programs\\\\Python\\\\Python312\\\\Lib\\\\site-packages\\\\plotly\\\\graph_objs\\\\__init__.py'>\n",
            "        points = None\n",
            "        notched = False\n",
            "        boxmode = None\n",
            "    680         args=locals(),\n",
            "    681         constructor=go.Box,\n",
            "    682         trace_patch=dict(boxpoints=points, notched=notched, x0=\" \", y0=\" \"),\n",
            "    683         layout_patch=dict(boxmode=boxmode),\n",
            "    684     )\n",
            "\n",
            "File c:\\Users\\DELL\\AppData\\Local\\Programs\\Python\\Python312\\Lib\\site-packages\\plotly\\express\\_core.py:2477, in make_figure(\n",
            "    args={'animation_frame': None, 'animation_group': None, 'boxmode': None, 'category_orders': None, 'color': None, 'color_discrete_map': None, 'color_discrete_sequence': None, 'custom_data': None, 'data_frame':    product_type    sku        price availability...          0      False  \n",
            "\n",
            "[100 rows x 30 columns], 'facet_col': None, ...},\n",
            "    constructor=<class 'plotly.graph_objs._box.Box'>,\n",
            "    trace_patch={'boxpoints': None, 'notched': False, 'x0': ' ', 'y0': ' '},\n",
            "    layout_patch={'boxmode': None}\n",
            ")\n",
            "   2474 layout_patch = layout_patch or {}\n",
            "   2475 apply_default_cascade(args)\n",
            "-> 2477 args = build_dataframe(args, constructor)\n",
            "        args = {'data_frame':    product_type    sku        price availability number_of_products_sold  \\\n",
            "0      haircare   SKU0  69.80800554           55                     802   \n",
            "1      skincare   SKU1  14.84352328           95                     736   \n",
            "2      haircare   SKU2  11.31968329           34                     NAN   \n",
            "3      skincare   SKU3  61.16334302           68                     NaN   \n",
            "4      skincare   SKU4  4.805496036           26                     871   \n",
            "..          ...    ...          ...          ...                     ...   \n",
            "95     haircare  SKU95  77.90392722           65                     672   \n",
            "96    cosmetics  SKU96  24.42313142           29                     324   \n",
            "97     haircare  SKU97  3.526111259           56                      62   \n",
            "98     skincare  SKU98  19.75460487           43                     913   \n",
            "99     haircare  SKU99   68.5178327           17                     627   \n",
            "\n",
            "   revenue_generated customer_demographics  stock_levels lead_times  \\\n",
            "0        8661.996792            Non-binary            58          7   \n",
            "1        7460.900065                Female            53         30   \n",
            "2        9577.749626               Unknown             1         10   \n",
            "3                NAN            Non-binary            23         13   \n",
            "4        2686.505152            Non-binary             5          3   \n",
            "..               ...                   ...           ...        ...   \n",
            "95       7386.363944               Unknown            15         14   \n",
            "96       7698.424766            Non-binary            67          2   \n",
            "97        4370.91658                  Male            46         19   \n",
            "98        8525.95256                Female            53          1   \n",
            "99       9185.185829               Unknown            55          8   \n",
            "\n",
            "   order_quantities  ... defect_rates transportation_modes   routes  \\\n",
            "0                96  ...     0.226410                 Road  Route B   \n",
            "1                37  ...     4.854068                 Road  Route B   \n",
            "2                88  ...     4.580593                  Air  Route C   \n",
            "3                59  ...     4.746649                 Rail  Route A   \n",
            "4                56  ...     3.145580                  Air  Route A   \n",
            "..              ...  ...          ...                  ...      ...   \n",
            "95               26  ...     1.210882                  Air  Route A   \n",
            "96               32  ...     3.872048                 Road  Route A   \n",
            "97                4  ...     3.376238                 Road  Route A   \n",
            "98               27  ...     2.908122                 Rail  Route A   \n",
            "99               59  ...     0.346027                 Rail  Route B   \n",
            "\n",
            "          costs  missing_values duplicates  missing_values duplicates  \\\n",
            "0   187.7520755               0      False               0      False   \n",
            "1   503.0655791               0      False               0      False   \n",
            "2   141.9202818               0      False               0      False   \n",
            "3   254.7761592               1      False               1      False   \n",
            "4   923.4406317               0      False               0      False   \n",
            "..          ...             ...        ...             ...        ...   \n",
            "95  778.8642414               0      False               0      False   \n",
            "96          NAN               0      False               0      False   \n",
            "97  540.1324229               0      False               0      False   \n",
            "98  882.1988635               0      False               0      False   \n",
            "99   210.743009               0      False               0      False   \n",
            "\n",
            "    missing_values duplicates  \n",
            "0                0      False  \n",
            "1                0      False  \n",
            "2                0      False  \n",
            "3                1      False  \n",
            "4                0      False  \n",
            "..             ...        ...  \n",
            "95               0      False  \n",
            "96               0      False  \n",
            "97               0      False  \n",
            "98               0      False  \n",
            "99               0      False  \n",
            "\n",
            "[100 rows x 30 columns], 'x': None, 'y': 'stock_levels', 'color': None, 'facet_row': None, 'facet_col': None, 'facet_col_wrap': 0, 'facet_row_spacing': None, 'facet_col_spacing': None, 'hover_name': None, 'hover_data': None, 'custom_data': None, 'animation_frame': None, 'animation_group': None, 'category_orders': None, 'labels': None, 'color_discrete_sequence': None, 'color_discrete_map': None, 'orientation': None, 'boxmode': None, 'log_x': False, 'log_y': False, 'range_x': None, 'range_y': None, 'points': None, 'notched': False, 'title': 'Outlier Detection in stock_levels', 'subtitle': None, 'template': None, 'width': None, 'height': None}\n",
            "        constructor = <class 'plotly.graph_objs._box.Box'>\n",
            "   2478 if constructor in [go.Treemap, go.Sunburst, go.Icicle] and args[\"path\"] is not None:\n",
            "   2479     args = process_dataframe_hierarchy(args)\n",
            "\n",
            "File c:\\Users\\DELL\\AppData\\Local\\Programs\\Python\\Python312\\Lib\\site-packages\\plotly\\express\\_core.py:1496, in build_dataframe(\n",
            "    args={'animation_frame': None, 'animation_group': None, 'boxmode': None, 'category_orders': None, 'color': None, 'color_discrete_map': None, 'color_discrete_sequence': None, 'custom_data': None, 'data_frame':    product_type    sku        price availability...          0      False  \n",
            "\n",
            "[100 rows x 30 columns], 'facet_col': None, ...},\n",
            "    constructor=<class 'plotly.graph_objs._box.Box'>\n",
            ")\n",
            "   1494 if nw.dependencies.is_pandas_like_dataframe(args[\"data_frame\"]):\n",
            "   1495     columns = args[\"data_frame\"].columns  # This can be multi index\n",
            "-> 1496     args[\"data_frame\"] = nw.from_native(args[\"data_frame\"], eager_only=True)\n",
            "        args = {'data_frame':    product_type    sku        price availability number_of_products_sold  \\\n",
            "0      haircare   SKU0  69.80800554           55                     802   \n",
            "1      skincare   SKU1  14.84352328           95                     736   \n",
            "2      haircare   SKU2  11.31968329           34                     NAN   \n",
            "3      skincare   SKU3  61.16334302           68                     NaN   \n",
            "4      skincare   SKU4  4.805496036           26                     871   \n",
            "..          ...    ...          ...          ...                     ...   \n",
            "95     haircare  SKU95  77.90392722           65                     672   \n",
            "96    cosmetics  SKU96  24.42313142           29                     324   \n",
            "97     haircare  SKU97  3.526111259           56                      62   \n",
            "98     skincare  SKU98  19.75460487           43                     913   \n",
            "99     haircare  SKU99   68.5178327           17                     627   \n",
            "\n",
            "   revenue_generated customer_demographics  stock_levels lead_times  \\\n",
            "0        8661.996792            Non-binary            58          7   \n",
            "1        7460.900065                Female            53         30   \n",
            "2        9577.749626               Unknown             1         10   \n",
            "3                NAN            Non-binary            23         13   \n",
            "4        2686.505152            Non-binary             5          3   \n",
            "..               ...                   ...           ...        ...   \n",
            "95       7386.363944               Unknown            15         14   \n",
            "96       7698.424766            Non-binary            67          2   \n",
            "97        4370.91658                  Male            46         19   \n",
            "98        8525.95256                Female            53          1   \n",
            "99       9185.185829               Unknown            55          8   \n",
            "\n",
            "   order_quantities  ... defect_rates transportation_modes   routes  \\\n",
            "0                96  ...     0.226410                 Road  Route B   \n",
            "1                37  ...     4.854068                 Road  Route B   \n",
            "2                88  ...     4.580593                  Air  Route C   \n",
            "3                59  ...     4.746649                 Rail  Route A   \n",
            "4                56  ...     3.145580                  Air  Route A   \n",
            "..              ...  ...          ...                  ...      ...   \n",
            "95               26  ...     1.210882                  Air  Route A   \n",
            "96               32  ...     3.872048                 Road  Route A   \n",
            "97                4  ...     3.376238                 Road  Route A   \n",
            "98               27  ...     2.908122                 Rail  Route A   \n",
            "99               59  ...     0.346027                 Rail  Route B   \n",
            "\n",
            "          costs  missing_values duplicates  missing_values duplicates  \\\n",
            "0   187.7520755               0      False               0      False   \n",
            "1   503.0655791               0      False               0      False   \n",
            "2   141.9202818               0      False               0      False   \n",
            "3   254.7761592               1      False               1      False   \n",
            "4   923.4406317               0      False               0      False   \n",
            "..          ...             ...        ...             ...        ...   \n",
            "95  778.8642414               0      False               0      False   \n",
            "96          NAN               0      False               0      False   \n",
            "97  540.1324229               0      False               0      False   \n",
            "98  882.1988635               0      False               0      False   \n",
            "99   210.743009               0      False               0      False   \n",
            "\n",
            "    missing_values duplicates  \n",
            "0                0      False  \n",
            "1                0      False  \n",
            "2                0      False  \n",
            "3                1      False  \n",
            "4                0      False  \n",
            "..             ...        ...  \n",
            "95               0      False  \n",
            "96               0      False  \n",
            "97               0      False  \n",
            "98               0      False  \n",
            "99               0      False  \n",
            "\n",
            "[100 rows x 30 columns], 'x': None, 'y': 'stock_levels', 'color': None, 'facet_row': None, 'facet_col': None, 'facet_col_wrap': 0, 'facet_row_spacing': None, 'facet_col_spacing': None, 'hover_name': None, 'hover_data': None, 'custom_data': None, 'animation_frame': None, 'animation_group': None, 'category_orders': None, 'labels': None, 'color_discrete_sequence': None, 'color_discrete_map': None, 'orientation': None, 'boxmode': None, 'log_x': False, 'log_y': False, 'range_x': None, 'range_y': None, 'points': None, 'notched': False, 'title': 'Outlier Detection in stock_levels', 'subtitle': None, 'template': None, 'width': None, 'height': None}\n",
            "        args[\"data_frame\"] =    product_type    sku        price availability number_of_products_sold  \\\n",
            "0      haircare   SKU0  69.80800554           55                     802   \n",
            "1      skincare   SKU1  14.84352328           95                     736   \n",
            "2      haircare   SKU2  11.31968329           34                     NAN   \n",
            "3      skincare   SKU3  61.16334302           68                     NaN   \n",
            "4      skincare   SKU4  4.805496036           26                     871   \n",
            "..          ...    ...          ...          ...                     ...   \n",
            "95     haircare  SKU95  77.90392722           65                     672   \n",
            "96    cosmetics  SKU96  24.42313142           29                     324   \n",
            "97     haircare  SKU97  3.526111259           56                      62   \n",
            "98     skincare  SKU98  19.75460487           43                     913   \n",
            "99     haircare  SKU99   68.5178327           17                     627   \n",
            "\n",
            "   revenue_generated customer_demographics  stock_levels lead_times  \\\n",
            "0        8661.996792            Non-binary            58          7   \n",
            "1        7460.900065                Female            53         30   \n",
            "2        9577.749626               Unknown             1         10   \n",
            "3                NAN            Non-binary            23         13   \n",
            "4        2686.505152            Non-binary             5          3   \n",
            "..               ...                   ...           ...        ...   \n",
            "95       7386.363944               Unknown            15         14   \n",
            "96       7698.424766            Non-binary            67          2   \n",
            "97        4370.91658                  Male            46         19   \n",
            "98        8525.95256                Female            53          1   \n",
            "99       9185.185829               Unknown            55          8   \n",
            "\n",
            "   order_quantities  ... defect_rates transportation_modes   routes  \\\n",
            "0                96  ...     0.226410                 Road  Route B   \n",
            "1                37  ...     4.854068                 Road  Route B   \n",
            "2                88  ...     4.580593                  Air  Route C   \n",
            "3                59  ...     4.746649                 Rail  Route A   \n",
            "4                56  ...     3.145580                  Air  Route A   \n",
            "..              ...  ...          ...                  ...      ...   \n",
            "95               26  ...     1.210882                  Air  Route A   \n",
            "96               32  ...     3.872048                 Road  Route A   \n",
            "97                4  ...     3.376238                 Road  Route A   \n",
            "98               27  ...     2.908122                 Rail  Route A   \n",
            "99               59  ...     0.346027                 Rail  Route B   \n",
            "\n",
            "          costs  missing_values duplicates  missing_values duplicates  \\\n",
            "0   187.7520755               0      False               0      False   \n",
            "1   503.0655791               0      False               0      False   \n",
            "2   141.9202818               0      False               0      False   \n",
            "3   254.7761592               1      False               1      False   \n",
            "4   923.4406317               0      False               0      False   \n",
            "..          ...             ...        ...             ...        ...   \n",
            "95  778.8642414               0      False               0      False   \n",
            "96          NAN               0      False               0      False   \n",
            "97  540.1324229               0      False               0      False   \n",
            "98  882.1988635               0      False               0      False   \n",
            "99   210.743009               0      False               0      False   \n",
            "\n",
            "    missing_values duplicates  \n",
            "0                0      False  \n",
            "1                0      False  \n",
            "2                0      False  \n",
            "3                1      False  \n",
            "4                0      False  \n",
            "..             ...        ...  \n",
            "95               0      False  \n",
            "96               0      False  \n",
            "97               0      False  \n",
            "98               0      False  \n",
            "99               0      False  \n",
            "\n",
            "[100 rows x 30 columns]\n",
            "        nw = <module 'narwhals.stable.v1' from 'c:\\\\Users\\\\DELL\\\\AppData\\\\Local\\\\Programs\\\\Python\\\\Python312\\\\Lib\\\\site-packages\\\\narwhals\\\\stable\\\\v1\\\\__init__.py'>\n",
            "   1497     is_pd_like = True\n",
            "   1499 # data_frame is pandas-like Series (pandas, modin.pandas, cudf)\n",
            "\n",
            "File c:\\Users\\DELL\\AppData\\Local\\Programs\\Python\\Python312\\Lib\\site-packages\\narwhals\\stable\\v1\\__init__.py:1581, in from_native(\n",
            "    native_object=   product_type    sku        price availability...          0      False  \n",
            "\n",
            "[100 rows x 30 columns],\n",
            "    strict=None,\n",
            "    pass_through=False,\n",
            "    eager_only=True,\n",
            "    eager_or_interchange_only=False,\n",
            "    series_only=False,\n",
            "    allow_series=None\n",
            ")\n",
            "   1575     return native_object\n",
            "   1577 pass_through = validate_strict_and_pass_though(\n",
            "   1578     strict, pass_through, pass_through_default=False, emit_deprecation_warning=False\n",
            "   1579 )\n",
            "-> 1581 result = _from_native_impl(\n",
            "        native_object =    product_type    sku        price availability number_of_products_sold  \\\n",
            "0      haircare   SKU0  69.80800554           55                     802   \n",
            "1      skincare   SKU1  14.84352328           95                     736   \n",
            "2      haircare   SKU2  11.31968329           34                     NAN   \n",
            "3      skincare   SKU3  61.16334302           68                     NaN   \n",
            "4      skincare   SKU4  4.805496036           26                     871   \n",
            "..          ...    ...          ...          ...                     ...   \n",
            "95     haircare  SKU95  77.90392722           65                     672   \n",
            "96    cosmetics  SKU96  24.42313142           29                     324   \n",
            "97     haircare  SKU97  3.526111259           56                      62   \n",
            "98     skincare  SKU98  19.75460487           43                     913   \n",
            "99     haircare  SKU99   68.5178327           17                     627   \n",
            "\n",
            "   revenue_generated customer_demographics  stock_levels lead_times  \\\n",
            "0        8661.996792            Non-binary            58          7   \n",
            "1        7460.900065                Female            53         30   \n",
            "2        9577.749626               Unknown             1         10   \n",
            "3                NAN            Non-binary            23         13   \n",
            "4        2686.505152            Non-binary             5          3   \n",
            "..               ...                   ...           ...        ...   \n",
            "95       7386.363944               Unknown            15         14   \n",
            "96       7698.424766            Non-binary            67          2   \n",
            "97        4370.91658                  Male            46         19   \n",
            "98        8525.95256                Female            53          1   \n",
            "99       9185.185829               Unknown            55          8   \n",
            "\n",
            "   order_quantities  ... defect_rates transportation_modes   routes  \\\n",
            "0                96  ...     0.226410                 Road  Route B   \n",
            "1                37  ...     4.854068                 Road  Route B   \n",
            "2                88  ...     4.580593                  Air  Route C   \n",
            "3                59  ...     4.746649                 Rail  Route A   \n",
            "4                56  ...     3.145580                  Air  Route A   \n",
            "..              ...  ...          ...                  ...      ...   \n",
            "95               26  ...     1.210882                  Air  Route A   \n",
            "96               32  ...     3.872048                 Road  Route A   \n",
            "97                4  ...     3.376238                 Road  Route A   \n",
            "98               27  ...     2.908122                 Rail  Route A   \n",
            "99               59  ...     0.346027                 Rail  Route B   \n",
            "\n",
            "          costs  missing_values duplicates  missing_values duplicates  \\\n",
            "0   187.7520755               0      False               0      False   \n",
            "1   503.0655791               0      False               0      False   \n",
            "2   141.9202818               0      False               0      False   \n",
            "3   254.7761592               1      False               1      False   \n",
            "4   923.4406317               0      False               0      False   \n",
            "..          ...             ...        ...             ...        ...   \n",
            "95  778.8642414               0      False               0      False   \n",
            "96          NAN               0      False               0      False   \n",
            "97  540.1324229               0      False               0      False   \n",
            "98  882.1988635               0      False               0      False   \n",
            "99   210.743009               0      False               0      False   \n",
            "\n",
            "    missing_values duplicates  \n",
            "0                0      False  \n",
            "1                0      False  \n",
            "2                0      False  \n",
            "3                1      False  \n",
            "4                0      False  \n",
            "..             ...        ...  \n",
            "95               0      False  \n",
            "96               0      False  \n",
            "97               0      False  \n",
            "98               0      False  \n",
            "99               0      False  \n",
            "\n",
            "[100 rows x 30 columns]\n",
            "        pass_through = False\n",
            "        eager_only = True\n",
            "        eager_or_interchange_only = False\n",
            "        series_only = False\n",
            "        allow_series = None\n",
            "        Version.V1 = <Version.V1: 1>\n",
            "   1582     native_object,\n",
            "   1583     pass_through=pass_through,\n",
            "   1584     eager_only=eager_only,\n",
            "   1585     eager_or_interchange_only=eager_or_interchange_only,\n",
            "   1586     series_only=series_only,\n",
            "   1587     allow_series=allow_series,\n",
            "   1588     version=Version.V1,\n",
            "   1589 )\n",
            "   1590 return _stableify(result)  # type: ignore[no-any-return]\n",
            "\n",
            "File c:\\Users\\DELL\\AppData\\Local\\Programs\\Python\\Python312\\Lib\\site-packages\\narwhals\\translate.py:490, in _from_native_impl(\n",
            "    native_object=   product_type    sku        price availability...          0      False  \n",
            "\n",
            "[100 rows x 30 columns],\n",
            "    pass_through=False,\n",
            "    eager_only=True,\n",
            "    eager_or_interchange_only=False,\n",
            "    series_only=False,\n",
            "    allow_series=None,\n",
            "    version=<Version.V1: 1>\n",
            ")\n",
            "    487         return native_object\n",
            "    488     pd = get_pandas()\n",
            "    489     return DataFrame(\n",
            "--> 490         PandasLikeDataFrame(\n",
            "        PandasLikeDataFrame = <class 'narwhals._pandas_like.dataframe.PandasLikeDataFrame'>\n",
            "        native_object =    product_type    sku        price availability number_of_products_sold  \\\n",
            "0      haircare   SKU0  69.80800554           55                     802   \n",
            "1      skincare   SKU1  14.84352328           95                     736   \n",
            "2      haircare   SKU2  11.31968329           34                     NAN   \n",
            "3      skincare   SKU3  61.16334302           68                     NaN   \n",
            "4      skincare   SKU4  4.805496036           26                     871   \n",
            "..          ...    ...          ...          ...                     ...   \n",
            "95     haircare  SKU95  77.90392722           65                     672   \n",
            "96    cosmetics  SKU96  24.42313142           29                     324   \n",
            "97     haircare  SKU97  3.526111259           56                      62   \n",
            "98     skincare  SKU98  19.75460487           43                     913   \n",
            "99     haircare  SKU99   68.5178327           17                     627   \n",
            "\n",
            "   revenue_generated customer_demographics  stock_levels lead_times  \\\n",
            "0        8661.996792            Non-binary            58          7   \n",
            "1        7460.900065                Female            53         30   \n",
            "2        9577.749626               Unknown             1         10   \n",
            "3                NAN            Non-binary            23         13   \n",
            "4        2686.505152            Non-binary             5          3   \n",
            "..               ...                   ...           ...        ...   \n",
            "95       7386.363944               Unknown            15         14   \n",
            "96       7698.424766            Non-binary            67          2   \n",
            "97        4370.91658                  Male            46         19   \n",
            "98        8525.95256                Female            53          1   \n",
            "99       9185.185829               Unknown            55          8   \n",
            "\n",
            "   order_quantities  ... defect_rates transportation_modes   routes  \\\n",
            "0                96  ...     0.226410                 Road  Route B   \n",
            "1                37  ...     4.854068                 Road  Route B   \n",
            "2                88  ...     4.580593                  Air  Route C   \n",
            "3                59  ...     4.746649                 Rail  Route A   \n",
            "4                56  ...     3.145580                  Air  Route A   \n",
            "..              ...  ...          ...                  ...      ...   \n",
            "95               26  ...     1.210882                  Air  Route A   \n",
            "96               32  ...     3.872048                 Road  Route A   \n",
            "97                4  ...     3.376238                 Road  Route A   \n",
            "98               27  ...     2.908122                 Rail  Route A   \n",
            "99               59  ...     0.346027                 Rail  Route B   \n",
            "\n",
            "          costs  missing_values duplicates  missing_values duplicates  \\\n",
            "0   187.7520755               0      False               0      False   \n",
            "1   503.0655791               0      False               0      False   \n",
            "2   141.9202818               0      False               0      False   \n",
            "3   254.7761592               1      False               1      False   \n",
            "4   923.4406317               0      False               0      False   \n",
            "..          ...             ...        ...             ...        ...   \n",
            "95  778.8642414               0      False               0      False   \n",
            "96          NAN               0      False               0      False   \n",
            "97  540.1324229               0      False               0      False   \n",
            "98  882.1988635               0      False               0      False   \n",
            "99   210.743009               0      False               0      False   \n",
            "\n",
            "    missing_values duplicates  \n",
            "0                0      False  \n",
            "1                0      False  \n",
            "2                0      False  \n",
            "3                1      False  \n",
            "4                0      False  \n",
            "..             ...        ...  \n",
            "95               0      False  \n",
            "96               0      False  \n",
            "97               0      False  \n",
            "98               0      False  \n",
            "99               0      False  \n",
            "\n",
            "[100 rows x 30 columns]\n",
            "        pd = <module 'pandas' from 'c:\\\\Users\\\\DELL\\\\AppData\\\\Local\\\\Programs\\\\Python\\\\Python312\\\\Lib\\\\site-packages\\\\pandas\\\\__init__.py'>\n",
            "        Implementation.PANDAS = <Implementation.PANDAS: 1>\n",
            "        version = <Version.V1: 1>\n",
            "    491             native_object,\n",
            "    492             backend_version=parse_version(pd),\n",
            "    493             implementation=Implementation.PANDAS,\n",
            "    494             version=version,\n",
            "    495             validate_column_names=True,\n",
            "    496         ),\n",
            "    497         level=\"full\",\n",
            "    498     )\n",
            "    499 elif is_pandas_series(native_object):\n",
            "    500     from narwhals._pandas_like.series import PandasLikeSeries\n",
            "\n",
            "File c:\\Users\\DELL\\AppData\\Local\\Programs\\Python\\Python312\\Lib\\site-packages\\narwhals\\_pandas_like\\dataframe.py:103, in PandasLikeDataFrame.__init__(\n",
            "    self=<narwhals._pandas_like.dataframe.PandasLikeDataFrame object>,\n",
            "    native_dataframe=   product_type    sku        price availability...          0      False  \n",
            "\n",
            "[100 rows x 30 columns],\n",
            "    implementation=<Implementation.PANDAS: 1>,\n",
            "    backend_version=(2, 2, 3),\n",
            "    version=<Version.V1: 1>,\n",
            "    validate_column_names=True\n",
            ")\n",
            "    101 validate_backend_version(self._implementation, self._backend_version)\n",
            "    102 if validate_column_names:\n",
            "--> 103     check_column_names_are_unique(native_dataframe.columns)\n",
            "        native_dataframe =    product_type    sku        price availability number_of_products_sold  \\\n",
            "0      haircare   SKU0  69.80800554           55                     802   \n",
            "1      skincare   SKU1  14.84352328           95                     736   \n",
            "2      haircare   SKU2  11.31968329           34                     NAN   \n",
            "3      skincare   SKU3  61.16334302           68                     NaN   \n",
            "4      skincare   SKU4  4.805496036           26                     871   \n",
            "..          ...    ...          ...          ...                     ...   \n",
            "95     haircare  SKU95  77.90392722           65                     672   \n",
            "96    cosmetics  SKU96  24.42313142           29                     324   \n",
            "97     haircare  SKU97  3.526111259           56                      62   \n",
            "98     skincare  SKU98  19.75460487           43                     913   \n",
            "99     haircare  SKU99   68.5178327           17                     627   \n",
            "\n",
            "   revenue_generated customer_demographics  stock_levels lead_times  \\\n",
            "0        8661.996792            Non-binary            58          7   \n",
            "1        7460.900065                Female            53         30   \n",
            "2        9577.749626               Unknown             1         10   \n",
            "3                NAN            Non-binary            23         13   \n",
            "4        2686.505152            Non-binary             5          3   \n",
            "..               ...                   ...           ...        ...   \n",
            "95       7386.363944               Unknown            15         14   \n",
            "96       7698.424766            Non-binary            67          2   \n",
            "97        4370.91658                  Male            46         19   \n",
            "98        8525.95256                Female            53          1   \n",
            "99       9185.185829               Unknown            55          8   \n",
            "\n",
            "   order_quantities  ... defect_rates transportation_modes   routes  \\\n",
            "0                96  ...     0.226410                 Road  Route B   \n",
            "1                37  ...     4.854068                 Road  Route B   \n",
            "2                88  ...     4.580593                  Air  Route C   \n",
            "3                59  ...     4.746649                 Rail  Route A   \n",
            "4                56  ...     3.145580                  Air  Route A   \n",
            "..              ...  ...          ...                  ...      ...   \n",
            "95               26  ...     1.210882                  Air  Route A   \n",
            "96               32  ...     3.872048                 Road  Route A   \n",
            "97                4  ...     3.376238                 Road  Route A   \n",
            "98               27  ...     2.908122                 Rail  Route A   \n",
            "99               59  ...     0.346027                 Rail  Route B   \n",
            "\n",
            "          costs  missing_values duplicates  missing_values duplicates  \\\n",
            "0   187.7520755               0      False               0      False   \n",
            "1   503.0655791               0      False               0      False   \n",
            "2   141.9202818               0      False               0      False   \n",
            "3   254.7761592               1      False               1      False   \n",
            "4   923.4406317               0      False               0      False   \n",
            "..          ...             ...        ...             ...        ...   \n",
            "95  778.8642414               0      False               0      False   \n",
            "96          NAN               0      False               0      False   \n",
            "97  540.1324229               0      False               0      False   \n",
            "98  882.1988635               0      False               0      False   \n",
            "99   210.743009               0      False               0      False   \n",
            "\n",
            "    missing_values duplicates  \n",
            "0                0      False  \n",
            "1                0      False  \n",
            "2                0      False  \n",
            "3                1      False  \n",
            "4                0      False  \n",
            "..             ...        ...  \n",
            "95               0      False  \n",
            "96               0      False  \n",
            "97               0      False  \n",
            "98               0      False  \n",
            "99               0      False  \n",
            "\n",
            "[100 rows x 30 columns]\n",
            "\n",
            "File c:\\Users\\DELL\\AppData\\Local\\Programs\\Python\\Python312\\Lib\\site-packages\\narwhals\\_pandas_like\\utils.py:879, in check_column_names_are_unique(\n",
            "    columns=Index(['product_type', 'sku', 'price', 'availabi...ues',\n",
            "       'duplicates'],\n",
            "      dtype='object')\n",
            ")\n",
            "    877         msg += f\"\\n- '{key}' {value} times\"\n",
            "    878 msg = f\"Expected unique column names, got:{msg}\"\n",
            "--> 879 raise DuplicateError(msg)\n",
            "        msg = \"Expected unique column names, got:\\n- 'missing_values' 3 times\\n- 'duplicates' 3 times\"\n",
            "\n",
            "DuplicateError: Expected unique column names, got:\n",
            "- 'missing_values' 3 times\n",
            "- 'duplicates' 3 times\n",
            "\n",
            "---------------------------------------------------------------------------\n",
            "DuplicateError                            Traceback (most recent call last)\n",
            "Cell In[60], line 62, in update_graph(selected_col='stock_levels')\n",
            "     56 @app.callback(\n",
            "     57     Output(\"boxplot\", \"figure\"),\n",
            "     58     Input(\"num_column\", \"value\")\n",
            "     59 )\n",
            "     60 def update_graph(selected_col):\n",
            "     61     if selected_col:\n",
            "---> 62         fig = px.box(data, y=selected_col, title=f\"Outlier Detection in {selected_col}\")\n",
            "        selected_col = 'stock_levels'\n",
            "        fig = Figure({\n",
            "    'data': [{'customdata': array([['802'],\n",
            "                                   ['NAN'],\n",
            "                                   ['147'],\n",
            "                                   ['336'],\n",
            "                                   ['620'],\n",
            "                                   ['884'],\n",
            "                                   ['209'],\n",
            "                                   ['142'],\n",
            "                                   ['353'],\n",
            "                                   ['327'],\n",
            "                                   ['598'],\n",
            "                                   ['24'],\n",
            "                                   ['859'],\n",
            "                                   ['29'],\n",
            "                                   ['154'],\n",
            "                                   ['622'],\n",
            "                                   ['701'],\n",
            "                                   ['227'],\n",
            "                                   ['117'],\n",
            "                                   ['163'],\n",
            "                                   ['NAN'],\n",
            "                                   ['904'],\n",
            "                                   ['241'],\n",
            "                                   ['359'],\n",
            "                                   ['946'],\n",
            "                                   ['198'],\n",
            "                                   ['774'],\n",
            "                                   ['663'],\n",
            "                                   ['618'],\n",
            "                                   ['79'],\n",
            "                                   ['114'],\n",
            "                                   ['672'],\n",
            "                                   ['62'],\n",
            "                                   ['627']], dtype=object),\n",
            "              'hovertemplate': ('Product type=haircare<br>Price' ... '{customdata[0]}<extra></extra>'),\n",
            "              'legendgroup': 'haircare',\n",
            "              'marker': {'color': '#636efa', 'symbol': 'circle'},\n",
            "              'mode': 'markers',\n",
            "              'name': 'haircare',\n",
            "              'orientation': 'v',\n",
            "              'showlegend': True,\n",
            "              'type': 'scatter',\n",
            "              'x': array(['69.80800554', '11.31968329', '1.699976014', '71.21338908',\n",
            "                          '36.44362777', '27.67978089', '4.156308359', '39.62934399',\n",
            "                          '97.44694662', '8.022859211', '11.74327178', '33.78413803',\n",
            "                          '27.0822072', '76.03554443', '26.70076097', '31.14624316',\n",
            "                          '79.85505834', '49.26320535', '52.0287499', '37.93181238',\n",
            "                          '47.91454182', '3.170011414', '69.10879955', '57.44974296',\n",
            "                          '6.306883176', '57.05703122', '72.81920693', '68.91124621',\n",
            "                          '89.10436729', '80.41403665', '69.290831', '77.90392722', '3.526111259',\n",
            "                          '68.5178327'], dtype=object),\n",
            "              'xaxis': 'x',\n",
            "              'y': array(['8661.996792', '9577.749626', '2828.348746', '2873.741446',\n",
            "                          '9364.673505', '2390.807867', '9049.077861', '2174.777054',\n",
            "                          '3716.493326', '2766.342367', '5737.425599', '5267.956808',\n",
            "                          '2556.767361', '7397.071005', '9866.465458', '6088.02148', '2925.67517',\n",
            "                          '1605.8669', '6885.589351', '3550.218433', '7014.887987', '5709.945296',\n",
            "                          '5328.375984', '2483.760178', '1292.458418', '7888.723268', '4384.4134',\n",
            "                          '2411.754632', '2048.2901', '5133.846701', '4531.402134', '7386.363944',\n",
            "                          '4370.91658', '9185.185829'], dtype=object),\n",
            "              'yaxis': 'y'},\n",
            "             {'customdata': array([['736'],\n",
            "                                   ['Unknown'],\n",
            "                                   ['871'],\n",
            "                                   ['65'],\n",
            "                                   ['980'],\n",
            "                                   ['996'],\n",
            "                                   ['960'],\n",
            "                                   ['249'],\n",
            "                                   ['562'],\n",
            "                                   ['469'],\n",
            "                                   ['280'],\n",
            "                                   ['187'],\n",
            "                                   ['320'],\n",
            "                                   ['168'],\n",
            "                                   ['781'],\n",
            "                                   ['602'],\n",
            "                                   ['963'],\n",
            "                                   ['963'],\n",
            "                                   ['176'],\n",
            "                                   ['933'],\n",
            "                                   ['556'],\n",
            "                                   ['155'],\n",
            "                                   ['910'],\n",
            "                                   ['820'],\n",
            "                                   ['242'],\n",
            "                                   ['93'],\n",
            "                                   ['896'],\n",
            "                                   ['380'],\n",
            "                                   ['246'],\n",
            "                                   ['134'],\n",
            "                                   ['457'],\n",
            "                                   ['704'],\n",
            "                                   ['513'],\n",
            "                                   ['511'],\n",
            "                                   ['106'],\n",
            "                                   ['872'],\n",
            "                                   ['336'],\n",
            "                                   ['223'],\n",
            "                                   ['320'],\n",
            "                                   ['913']], dtype=object),\n",
            "              'hovertemplate': ('Product type=skincare<br>Price' ... '{customdata[0]}<extra></extra>'),\n",
            "              'legendgroup': 'skincare',\n",
            "              'marker': {'color': '#EF553B', 'symbol': 'circle'},\n",
            "              'mode': 'markers',\n",
            "              'name': 'skincare',\n",
            "              'orientation': 'v',\n",
            "              'showlegend': True,\n",
            "              'type': 'scatter',\n",
            "              'x': array(['14.84352328', '61.16334302', '4.805496036', '4.078332863',\n",
            "                          '64.01573294', '15.70779568', '90.63545998', '16.16039332',\n",
            "                          '99.17132864', '36.98924493', '7.54717211', '51.12387009',\n",
            "                          '96.34107244', '50.84739305', '79.20993602', '37.46759233',\n",
            "                          '9.813002579', '23.39984475', '19.12747727', '80.54142417',\n",
            "                          '99.11329162', '46.52916761', '95.71213588', '98.03182966',\n",
            "                          '30.34147071', '20.98638604', '59.84156138', '17.02802792',\n",
            "                          '13.01737679', '89.63409561', '33.69771721', '26.03486977',\n",
            "                          '87.75543235', '54.86552852', '92.99688423', 'NAN', '17.03493074',\n",
            "                          '19.99817694', '13.8819135', '19.75460487'], dtype=object),\n",
            "              'xaxis': 'x',\n",
            "              'y': array(['7460.900065', 'NAN', '2686.505152', '7823.47656', '4971.145988',\n",
            "                          '2330.965802', '6099.944116', '4052.738416', '8653.570926',\n",
            "                          '5442.086785', '6453.797968', '2553.495585', '8128.027697',\n",
            "                          '9655.135103', '9571.550487', '9061.710896', '7573.402458',\n",
            "                          '2438.33993', '1912.465663', '5724.95935', '5521.205259', '1839.609426',\n",
            "                          '7089.47425', '9435.762609', '8232.334829', '4767.020484', '2021.14981',\n",
            "                          '8864.08435', '4256.949141', '8458.730878', '8354.579686',\n",
            "                          '8367.721618', '9473.798033', '1752.381087', '1889.07359',\n",
            "                          '8651.672683', '2943.381868', '1229.591029', '9592.63357', '8525.95256'],\n",
            "                         dtype=object),\n",
            "              'yaxis': 'y'},\n",
            "             {'customdata': array([['426'],\n",
            "                                   ['150'],\n",
            "                                   ['126'],\n",
            "                                   ['601'],\n",
            "                                   ['391'],\n",
            "                                   ['352'],\n",
            "                                   ['394'],\n",
            "                                   ['253'],\n",
            "                                   ['616'],\n",
            "                                   ['NAN'],\n",
            "                                   ['705'],\n",
            "                                   ['919'],\n",
            "                                   ['99'],\n",
            "                                   ['633'],\n",
            "                                   ['484'],\n",
            "                                   ['270'],\n",
            "                                   ['637'],\n",
            "                                   ['478'],\n",
            "                                   ['375'],\n",
            "                                   ['25'],\n",
            "                                   ['737'],\n",
            "                                   ['134'],\n",
            "                                   ['916'],\n",
            "                                   ['276'],\n",
            "                                   ['987'],\n",
            "                                   ['324']], dtype=object),\n",
            "              'hovertemplate': ('Product type=cosmetics<br>Pric' ... '{customdata[0]}<extra></extra>'),\n",
            "              'legendgroup': 'cosmetics',\n",
            "              'marker': {'color': '#00cc96', 'symbol': 'circle'},\n",
            "              'mode': 'markers',\n",
            "              'name': 'cosmetics',\n",
            "              'orientation': 'v',\n",
            "              'showlegend': True,\n",
            "              'type': 'scatter',\n",
            "              'x': array(['42.95838438', '68.71759675', '81.46253437', '84.89386898',\n",
            "                          '4.324341186', '92.55736081', '2.397274706', '63.44755919', '64.795435',\n",
            "                          '84.95778682', '52.07593068', '51.35579091', '78.89791321',\n",
            "                          '14.20348426', '63.82839835', '72.79635396', '6.381533163',\n",
            "                          '90.20442752', '83.85101768', '76.96299442', '75.27040698',\n",
            "                          '97.76008558', '62.11196546', '47.71423308', '3.037688725',\n",
            "                          '24.42313142'], dtype=object),\n",
            "              'xaxis': 'x',\n",
            "              'y': array(['8496.103813', '7517.363211', '2629.396435', '7087.052696',\n",
            "                          '8858.367571', '2686.457224', '6117.324615', '8318.903195',\n",
            "                          '5149.99835', '6541.329345', '9692.31804', '7152.286049', '8001.613207',\n",
            "                          '5910.88539', '1061.618523', '3899.746834', '8180.337085',\n",
            "                          '2633.121981', '7910.886916', '8684.613059', '9444.742033',\n",
            "                          '5924.682567', '1935.206794', '2100.129755', '7888.356547',\n",
            "                          '7698.424766'], dtype=object),\n",
            "              'yaxis': 'y'}],\n",
            "    'layout': {'legend': {'title': {'text': 'Product type'}, 'tracegroupgap': 0},\n",
            "               'template': '...',\n",
            "               'title': {'text': 'Revenue generated by product type'},\n",
            "               'xaxis': {'anchor': 'y', 'domain': [0.0, 1.0], 'title': {'text': 'Price'}},\n",
            "               'yaxis': {'anchor': 'x', 'domain': [0.0, 1.0], 'title': {'text': 'Revenue generated'}}}\n",
            "})\n",
            "        data =    product_type    sku        price availability number_of_products_sold  \\\n",
            "0      haircare   SKU0  69.80800554           55                     802   \n",
            "1      skincare   SKU1  14.84352328           95                     736   \n",
            "2      haircare   SKU2  11.31968329           34                     NAN   \n",
            "3      skincare   SKU3  61.16334302           68                     NaN   \n",
            "4      skincare   SKU4  4.805496036           26                     871   \n",
            "..          ...    ...          ...          ...                     ...   \n",
            "95     haircare  SKU95  77.90392722           65                     672   \n",
            "96    cosmetics  SKU96  24.42313142           29                     324   \n",
            "97     haircare  SKU97  3.526111259           56                      62   \n",
            "98     skincare  SKU98  19.75460487           43                     913   \n",
            "99     haircare  SKU99   68.5178327           17                     627   \n",
            "\n",
            "   revenue_generated customer_demographics  stock_levels lead_times  \\\n",
            "0        8661.996792            Non-binary            58          7   \n",
            "1        7460.900065                Female            53         30   \n",
            "2        9577.749626               Unknown             1         10   \n",
            "3                NAN            Non-binary            23         13   \n",
            "4        2686.505152            Non-binary             5          3   \n",
            "..               ...                   ...           ...        ...   \n",
            "95       7386.363944               Unknown            15         14   \n",
            "96       7698.424766            Non-binary            67          2   \n",
            "97        4370.91658                  Male            46         19   \n",
            "98        8525.95256                Female            53          1   \n",
            "99       9185.185829               Unknown            55          8   \n",
            "\n",
            "   order_quantities  ... defect_rates transportation_modes   routes  \\\n",
            "0                96  ...     0.226410                 Road  Route B   \n",
            "1                37  ...     4.854068                 Road  Route B   \n",
            "2                88  ...     4.580593                  Air  Route C   \n",
            "3                59  ...     4.746649                 Rail  Route A   \n",
            "4                56  ...     3.145580                  Air  Route A   \n",
            "..              ...  ...          ...                  ...      ...   \n",
            "95               26  ...     1.210882                  Air  Route A   \n",
            "96               32  ...     3.872048                 Road  Route A   \n",
            "97                4  ...     3.376238                 Road  Route A   \n",
            "98               27  ...     2.908122                 Rail  Route A   \n",
            "99               59  ...     0.346027                 Rail  Route B   \n",
            "\n",
            "          costs  missing_values duplicates  missing_values duplicates  \\\n",
            "0   187.7520755               0      False               0      False   \n",
            "1   503.0655791               0      False               0      False   \n",
            "2   141.9202818               0      False               0      False   \n",
            "3   254.7761592               1      False               1      False   \n",
            "4   923.4406317               0      False               0      False   \n",
            "..          ...             ...        ...             ...        ...   \n",
            "95  778.8642414               0      False               0      False   \n",
            "96          NAN               0      False               0      False   \n",
            "97  540.1324229               0      False               0      False   \n",
            "98  882.1988635               0      False               0      False   \n",
            "99   210.743009               0      False               0      False   \n",
            "\n",
            "    missing_values duplicates  \n",
            "0                0      False  \n",
            "1                0      False  \n",
            "2                0      False  \n",
            "3                1      False  \n",
            "4                0      False  \n",
            "..             ...        ...  \n",
            "95               0      False  \n",
            "96               0      False  \n",
            "97               0      False  \n",
            "98               0      False  \n",
            "99               0      False  \n",
            "\n",
            "[100 rows x 30 columns]\n",
            "        px = <module 'plotly.express' from 'c:\\\\Users\\\\DELL\\\\AppData\\\\Local\\\\Programs\\\\Python\\\\Python312\\\\Lib\\\\site-packages\\\\plotly\\\\express\\\\__init__.py'>\n",
            "     63         return fig\n",
            "     64     return {}\n",
            "\n",
            "File c:\\Users\\DELL\\AppData\\Local\\Programs\\Python\\Python312\\Lib\\site-packages\\plotly\\express\\_chart_types.py:679, in box(\n",
            "    data_frame=   product_type    sku        price availability...          0      False  \n",
            "\n",
            "[100 rows x 30 columns],\n",
            "    x=None,\n",
            "    y='stock_levels',\n",
            "    color=None,\n",
            "    facet_row=None,\n",
            "    facet_col=None,\n",
            "    facet_col_wrap=0,\n",
            "    facet_row_spacing=None,\n",
            "    facet_col_spacing=None,\n",
            "    hover_name=None,\n",
            "    hover_data=None,\n",
            "    custom_data=None,\n",
            "    animation_frame=None,\n",
            "    animation_group=None,\n",
            "    category_orders=None,\n",
            "    labels=None,\n",
            "    color_discrete_sequence=None,\n",
            "    color_discrete_map=None,\n",
            "    orientation=None,\n",
            "    boxmode=None,\n",
            "    log_x=False,\n",
            "    log_y=False,\n",
            "    range_x=None,\n",
            "    range_y=None,\n",
            "    points=None,\n",
            "    notched=False,\n",
            "    title='Outlier Detection in stock_levels',\n",
            "    subtitle=None,\n",
            "    template=None,\n",
            "    width=None,\n",
            "    height=None\n",
            ")\n",
            "    637 def box(\n",
            "    638     data_frame=None,\n",
            "    639     x=None,\n",
            "   (...)\n",
            "    668     height=None,\n",
            "    669 ) -> go.Figure:\n",
            "    670     \"\"\"\n",
            "    671     In a box plot, rows of `data_frame` are grouped together into a\n",
            "    672     box-and-whisker mark to visualize their distribution.\n",
            "   (...)\n",
            "    677     range (IQR: Q3-Q1), see \"points\" for other options.\n",
            "    678     \"\"\"\n",
            "--> 679     return make_figure(\n",
            "        go = <module 'plotly.graph_objs' from 'c:\\\\Users\\\\DELL\\\\AppData\\\\Local\\\\Programs\\\\Python\\\\Python312\\\\Lib\\\\site-packages\\\\plotly\\\\graph_objs\\\\__init__.py'>\n",
            "        points = None\n",
            "        notched = False\n",
            "        boxmode = None\n",
            "    680         args=locals(),\n",
            "    681         constructor=go.Box,\n",
            "    682         trace_patch=dict(boxpoints=points, notched=notched, x0=\" \", y0=\" \"),\n",
            "    683         layout_patch=dict(boxmode=boxmode),\n",
            "    684     )\n",
            "\n",
            "File c:\\Users\\DELL\\AppData\\Local\\Programs\\Python\\Python312\\Lib\\site-packages\\plotly\\express\\_core.py:2477, in make_figure(\n",
            "    args={'animation_frame': None, 'animation_group': None, 'boxmode': None, 'category_orders': None, 'color': None, 'color_discrete_map': None, 'color_discrete_sequence': None, 'custom_data': None, 'data_frame':    product_type    sku        price availability...          0      False  \n",
            "\n",
            "[100 rows x 30 columns], 'facet_col': None, ...},\n",
            "    constructor=<class 'plotly.graph_objs._box.Box'>,\n",
            "    trace_patch={'boxpoints': None, 'notched': False, 'x0': ' ', 'y0': ' '},\n",
            "    layout_patch={'boxmode': None}\n",
            ")\n",
            "   2474 layout_patch = layout_patch or {}\n",
            "   2475 apply_default_cascade(args)\n",
            "-> 2477 args = build_dataframe(args, constructor)\n",
            "        args = {'data_frame':    product_type    sku        price availability number_of_products_sold  \\\n",
            "0      haircare   SKU0  69.80800554           55                     802   \n",
            "1      skincare   SKU1  14.84352328           95                     736   \n",
            "2      haircare   SKU2  11.31968329           34                     NAN   \n",
            "3      skincare   SKU3  61.16334302           68                     NaN   \n",
            "4      skincare   SKU4  4.805496036           26                     871   \n",
            "..          ...    ...          ...          ...                     ...   \n",
            "95     haircare  SKU95  77.90392722           65                     672   \n",
            "96    cosmetics  SKU96  24.42313142           29                     324   \n",
            "97     haircare  SKU97  3.526111259           56                      62   \n",
            "98     skincare  SKU98  19.75460487           43                     913   \n",
            "99     haircare  SKU99   68.5178327           17                     627   \n",
            "\n",
            "   revenue_generated customer_demographics  stock_levels lead_times  \\\n",
            "0        8661.996792            Non-binary            58          7   \n",
            "1        7460.900065                Female            53         30   \n",
            "2        9577.749626               Unknown             1         10   \n",
            "3                NAN            Non-binary            23         13   \n",
            "4        2686.505152            Non-binary             5          3   \n",
            "..               ...                   ...           ...        ...   \n",
            "95       7386.363944               Unknown            15         14   \n",
            "96       7698.424766            Non-binary            67          2   \n",
            "97        4370.91658                  Male            46         19   \n",
            "98        8525.95256                Female            53          1   \n",
            "99       9185.185829               Unknown            55          8   \n",
            "\n",
            "   order_quantities  ... defect_rates transportation_modes   routes  \\\n",
            "0                96  ...     0.226410                 Road  Route B   \n",
            "1                37  ...     4.854068                 Road  Route B   \n",
            "2                88  ...     4.580593                  Air  Route C   \n",
            "3                59  ...     4.746649                 Rail  Route A   \n",
            "4                56  ...     3.145580                  Air  Route A   \n",
            "..              ...  ...          ...                  ...      ...   \n",
            "95               26  ...     1.210882                  Air  Route A   \n",
            "96               32  ...     3.872048                 Road  Route A   \n",
            "97                4  ...     3.376238                 Road  Route A   \n",
            "98               27  ...     2.908122                 Rail  Route A   \n",
            "99               59  ...     0.346027                 Rail  Route B   \n",
            "\n",
            "          costs  missing_values duplicates  missing_values duplicates  \\\n",
            "0   187.7520755               0      False               0      False   \n",
            "1   503.0655791               0      False               0      False   \n",
            "2   141.9202818               0      False               0      False   \n",
            "3   254.7761592               1      False               1      False   \n",
            "4   923.4406317               0      False               0      False   \n",
            "..          ...             ...        ...             ...        ...   \n",
            "95  778.8642414               0      False               0      False   \n",
            "96          NAN               0      False               0      False   \n",
            "97  540.1324229               0      False               0      False   \n",
            "98  882.1988635               0      False               0      False   \n",
            "99   210.743009               0      False               0      False   \n",
            "\n",
            "    missing_values duplicates  \n",
            "0                0      False  \n",
            "1                0      False  \n",
            "2                0      False  \n",
            "3                1      False  \n",
            "4                0      False  \n",
            "..             ...        ...  \n",
            "95               0      False  \n",
            "96               0      False  \n",
            "97               0      False  \n",
            "98               0      False  \n",
            "99               0      False  \n",
            "\n",
            "[100 rows x 30 columns], 'x': None, 'y': 'stock_levels', 'color': None, 'facet_row': None, 'facet_col': None, 'facet_col_wrap': 0, 'facet_row_spacing': None, 'facet_col_spacing': None, 'hover_name': None, 'hover_data': None, 'custom_data': None, 'animation_frame': None, 'animation_group': None, 'category_orders': None, 'labels': None, 'color_discrete_sequence': None, 'color_discrete_map': None, 'orientation': None, 'boxmode': None, 'log_x': False, 'log_y': False, 'range_x': None, 'range_y': None, 'points': None, 'notched': False, 'title': 'Outlier Detection in stock_levels', 'subtitle': None, 'template': None, 'width': None, 'height': None}\n",
            "        constructor = <class 'plotly.graph_objs._box.Box'>\n",
            "   2478 if constructor in [go.Treemap, go.Sunburst, go.Icicle] and args[\"path\"] is not None:\n",
            "   2479     args = process_dataframe_hierarchy(args)\n",
            "\n",
            "File c:\\Users\\DELL\\AppData\\Local\\Programs\\Python\\Python312\\Lib\\site-packages\\plotly\\express\\_core.py:1496, in build_dataframe(\n",
            "    args={'animation_frame': None, 'animation_group': None, 'boxmode': None, 'category_orders': None, 'color': None, 'color_discrete_map': None, 'color_discrete_sequence': None, 'custom_data': None, 'data_frame':    product_type    sku        price availability...          0      False  \n",
            "\n",
            "[100 rows x 30 columns], 'facet_col': None, ...},\n",
            "    constructor=<class 'plotly.graph_objs._box.Box'>\n",
            ")\n",
            "   1494 if nw.dependencies.is_pandas_like_dataframe(args[\"data_frame\"]):\n",
            "   1495     columns = args[\"data_frame\"].columns  # This can be multi index\n",
            "-> 1496     args[\"data_frame\"] = nw.from_native(args[\"data_frame\"], eager_only=True)\n",
            "        args = {'data_frame':    product_type    sku        price availability number_of_products_sold  \\\n",
            "0      haircare   SKU0  69.80800554           55                     802   \n",
            "1      skincare   SKU1  14.84352328           95                     736   \n",
            "2      haircare   SKU2  11.31968329           34                     NAN   \n",
            "3      skincare   SKU3  61.16334302           68                     NaN   \n",
            "4      skincare   SKU4  4.805496036           26                     871   \n",
            "..          ...    ...          ...          ...                     ...   \n",
            "95     haircare  SKU95  77.90392722           65                     672   \n",
            "96    cosmetics  SKU96  24.42313142           29                     324   \n",
            "97     haircare  SKU97  3.526111259           56                      62   \n",
            "98     skincare  SKU98  19.75460487           43                     913   \n",
            "99     haircare  SKU99   68.5178327           17                     627   \n",
            "\n",
            "   revenue_generated customer_demographics  stock_levels lead_times  \\\n",
            "0        8661.996792            Non-binary            58          7   \n",
            "1        7460.900065                Female            53         30   \n",
            "2        9577.749626               Unknown             1         10   \n",
            "3                NAN            Non-binary            23         13   \n",
            "4        2686.505152            Non-binary             5          3   \n",
            "..               ...                   ...           ...        ...   \n",
            "95       7386.363944               Unknown            15         14   \n",
            "96       7698.424766            Non-binary            67          2   \n",
            "97        4370.91658                  Male            46         19   \n",
            "98        8525.95256                Female            53          1   \n",
            "99       9185.185829               Unknown            55          8   \n",
            "\n",
            "   order_quantities  ... defect_rates transportation_modes   routes  \\\n",
            "0                96  ...     0.226410                 Road  Route B   \n",
            "1                37  ...     4.854068                 Road  Route B   \n",
            "2                88  ...     4.580593                  Air  Route C   \n",
            "3                59  ...     4.746649                 Rail  Route A   \n",
            "4                56  ...     3.145580                  Air  Route A   \n",
            "..              ...  ...          ...                  ...      ...   \n",
            "95               26  ...     1.210882                  Air  Route A   \n",
            "96               32  ...     3.872048                 Road  Route A   \n",
            "97                4  ...     3.376238                 Road  Route A   \n",
            "98               27  ...     2.908122                 Rail  Route A   \n",
            "99               59  ...     0.346027                 Rail  Route B   \n",
            "\n",
            "          costs  missing_values duplicates  missing_values duplicates  \\\n",
            "0   187.7520755               0      False               0      False   \n",
            "1   503.0655791               0      False               0      False   \n",
            "2   141.9202818               0      False               0      False   \n",
            "3   254.7761592               1      False               1      False   \n",
            "4   923.4406317               0      False               0      False   \n",
            "..          ...             ...        ...             ...        ...   \n",
            "95  778.8642414               0      False               0      False   \n",
            "96          NAN               0      False               0      False   \n",
            "97  540.1324229               0      False               0      False   \n",
            "98  882.1988635               0      False               0      False   \n",
            "99   210.743009               0      False               0      False   \n",
            "\n",
            "    missing_values duplicates  \n",
            "0                0      False  \n",
            "1                0      False  \n",
            "2                0      False  \n",
            "3                1      False  \n",
            "4                0      False  \n",
            "..             ...        ...  \n",
            "95               0      False  \n",
            "96               0      False  \n",
            "97               0      False  \n",
            "98               0      False  \n",
            "99               0      False  \n",
            "\n",
            "[100 rows x 30 columns], 'x': None, 'y': 'stock_levels', 'color': None, 'facet_row': None, 'facet_col': None, 'facet_col_wrap': 0, 'facet_row_spacing': None, 'facet_col_spacing': None, 'hover_name': None, 'hover_data': None, 'custom_data': None, 'animation_frame': None, 'animation_group': None, 'category_orders': None, 'labels': None, 'color_discrete_sequence': None, 'color_discrete_map': None, 'orientation': None, 'boxmode': None, 'log_x': False, 'log_y': False, 'range_x': None, 'range_y': None, 'points': None, 'notched': False, 'title': 'Outlier Detection in stock_levels', 'subtitle': None, 'template': None, 'width': None, 'height': None}\n",
            "        args[\"data_frame\"] =    product_type    sku        price availability number_of_products_sold  \\\n",
            "0      haircare   SKU0  69.80800554           55                     802   \n",
            "1      skincare   SKU1  14.84352328           95                     736   \n",
            "2      haircare   SKU2  11.31968329           34                     NAN   \n",
            "3      skincare   SKU3  61.16334302           68                     NaN   \n",
            "4      skincare   SKU4  4.805496036           26                     871   \n",
            "..          ...    ...          ...          ...                     ...   \n",
            "95     haircare  SKU95  77.90392722           65                     672   \n",
            "96    cosmetics  SKU96  24.42313142           29                     324   \n",
            "97     haircare  SKU97  3.526111259           56                      62   \n",
            "98     skincare  SKU98  19.75460487           43                     913   \n",
            "99     haircare  SKU99   68.5178327           17                     627   \n",
            "\n",
            "   revenue_generated customer_demographics  stock_levels lead_times  \\\n",
            "0        8661.996792            Non-binary            58          7   \n",
            "1        7460.900065                Female            53         30   \n",
            "2        9577.749626               Unknown             1         10   \n",
            "3                NAN            Non-binary            23         13   \n",
            "4        2686.505152            Non-binary             5          3   \n",
            "..               ...                   ...           ...        ...   \n",
            "95       7386.363944               Unknown            15         14   \n",
            "96       7698.424766            Non-binary            67          2   \n",
            "97        4370.91658                  Male            46         19   \n",
            "98        8525.95256                Female            53          1   \n",
            "99       9185.185829               Unknown            55          8   \n",
            "\n",
            "   order_quantities  ... defect_rates transportation_modes   routes  \\\n",
            "0                96  ...     0.226410                 Road  Route B   \n",
            "1                37  ...     4.854068                 Road  Route B   \n",
            "2                88  ...     4.580593                  Air  Route C   \n",
            "3                59  ...     4.746649                 Rail  Route A   \n",
            "4                56  ...     3.145580                  Air  Route A   \n",
            "..              ...  ...          ...                  ...      ...   \n",
            "95               26  ...     1.210882                  Air  Route A   \n",
            "96               32  ...     3.872048                 Road  Route A   \n",
            "97                4  ...     3.376238                 Road  Route A   \n",
            "98               27  ...     2.908122                 Rail  Route A   \n",
            "99               59  ...     0.346027                 Rail  Route B   \n",
            "\n",
            "          costs  missing_values duplicates  missing_values duplicates  \\\n",
            "0   187.7520755               0      False               0      False   \n",
            "1   503.0655791               0      False               0      False   \n",
            "2   141.9202818               0      False               0      False   \n",
            "3   254.7761592               1      False               1      False   \n",
            "4   923.4406317               0      False               0      False   \n",
            "..          ...             ...        ...             ...        ...   \n",
            "95  778.8642414               0      False               0      False   \n",
            "96          NAN               0      False               0      False   \n",
            "97  540.1324229               0      False               0      False   \n",
            "98  882.1988635               0      False               0      False   \n",
            "99   210.743009               0      False               0      False   \n",
            "\n",
            "    missing_values duplicates  \n",
            "0                0      False  \n",
            "1                0      False  \n",
            "2                0      False  \n",
            "3                1      False  \n",
            "4                0      False  \n",
            "..             ...        ...  \n",
            "95               0      False  \n",
            "96               0      False  \n",
            "97               0      False  \n",
            "98               0      False  \n",
            "99               0      False  \n",
            "\n",
            "[100 rows x 30 columns]\n",
            "        nw = <module 'narwhals.stable.v1' from 'c:\\\\Users\\\\DELL\\\\AppData\\\\Local\\\\Programs\\\\Python\\\\Python312\\\\Lib\\\\site-packages\\\\narwhals\\\\stable\\\\v1\\\\__init__.py'>\n",
            "   1497     is_pd_like = True\n",
            "   1499 # data_frame is pandas-like Series (pandas, modin.pandas, cudf)\n",
            "\n",
            "File c:\\Users\\DELL\\AppData\\Local\\Programs\\Python\\Python312\\Lib\\site-packages\\narwhals\\stable\\v1\\__init__.py:1581, in from_native(\n",
            "    native_object=   product_type    sku        price availability...          0      False  \n",
            "\n",
            "[100 rows x 30 columns],\n",
            "    strict=None,\n",
            "    pass_through=False,\n",
            "    eager_only=True,\n",
            "    eager_or_interchange_only=False,\n",
            "    series_only=False,\n",
            "    allow_series=None\n",
            ")\n",
            "   1575     return native_object\n",
            "   1577 pass_through = validate_strict_and_pass_though(\n",
            "   1578     strict, pass_through, pass_through_default=False, emit_deprecation_warning=False\n",
            "   1579 )\n",
            "-> 1581 result = _from_native_impl(\n",
            "        native_object =    product_type    sku        price availability number_of_products_sold  \\\n",
            "0      haircare   SKU0  69.80800554           55                     802   \n",
            "1      skincare   SKU1  14.84352328           95                     736   \n",
            "2      haircare   SKU2  11.31968329           34                     NAN   \n",
            "3      skincare   SKU3  61.16334302           68                     NaN   \n",
            "4      skincare   SKU4  4.805496036           26                     871   \n",
            "..          ...    ...          ...          ...                     ...   \n",
            "95     haircare  SKU95  77.90392722           65                     672   \n",
            "96    cosmetics  SKU96  24.42313142           29                     324   \n",
            "97     haircare  SKU97  3.526111259           56                      62   \n",
            "98     skincare  SKU98  19.75460487           43                     913   \n",
            "99     haircare  SKU99   68.5178327           17                     627   \n",
            "\n",
            "   revenue_generated customer_demographics  stock_levels lead_times  \\\n",
            "0        8661.996792            Non-binary            58          7   \n",
            "1        7460.900065                Female            53         30   \n",
            "2        9577.749626               Unknown             1         10   \n",
            "3                NAN            Non-binary            23         13   \n",
            "4        2686.505152            Non-binary             5          3   \n",
            "..               ...                   ...           ...        ...   \n",
            "95       7386.363944               Unknown            15         14   \n",
            "96       7698.424766            Non-binary            67          2   \n",
            "97        4370.91658                  Male            46         19   \n",
            "98        8525.95256                Female            53          1   \n",
            "99       9185.185829               Unknown            55          8   \n",
            "\n",
            "   order_quantities  ... defect_rates transportation_modes   routes  \\\n",
            "0                96  ...     0.226410                 Road  Route B   \n",
            "1                37  ...     4.854068                 Road  Route B   \n",
            "2                88  ...     4.580593                  Air  Route C   \n",
            "3                59  ...     4.746649                 Rail  Route A   \n",
            "4                56  ...     3.145580                  Air  Route A   \n",
            "..              ...  ...          ...                  ...      ...   \n",
            "95               26  ...     1.210882                  Air  Route A   \n",
            "96               32  ...     3.872048                 Road  Route A   \n",
            "97                4  ...     3.376238                 Road  Route A   \n",
            "98               27  ...     2.908122                 Rail  Route A   \n",
            "99               59  ...     0.346027                 Rail  Route B   \n",
            "\n",
            "          costs  missing_values duplicates  missing_values duplicates  \\\n",
            "0   187.7520755               0      False               0      False   \n",
            "1   503.0655791               0      False               0      False   \n",
            "2   141.9202818               0      False               0      False   \n",
            "3   254.7761592               1      False               1      False   \n",
            "4   923.4406317               0      False               0      False   \n",
            "..          ...             ...        ...             ...        ...   \n",
            "95  778.8642414               0      False               0      False   \n",
            "96          NAN               0      False               0      False   \n",
            "97  540.1324229               0      False               0      False   \n",
            "98  882.1988635               0      False               0      False   \n",
            "99   210.743009               0      False               0      False   \n",
            "\n",
            "    missing_values duplicates  \n",
            "0                0      False  \n",
            "1                0      False  \n",
            "2                0      False  \n",
            "3                1      False  \n",
            "4                0      False  \n",
            "..             ...        ...  \n",
            "95               0      False  \n",
            "96               0      False  \n",
            "97               0      False  \n",
            "98               0      False  \n",
            "99               0      False  \n",
            "\n",
            "[100 rows x 30 columns]\n",
            "        pass_through = False\n",
            "        eager_only = True\n",
            "        eager_or_interchange_only = False\n",
            "        series_only = False\n",
            "        allow_series = None\n",
            "        Version.V1 = <Version.V1: 1>\n",
            "   1582     native_object,\n",
            "   1583     pass_through=pass_through,\n",
            "   1584     eager_only=eager_only,\n",
            "   1585     eager_or_interchange_only=eager_or_interchange_only,\n",
            "   1586     series_only=series_only,\n",
            "   1587     allow_series=allow_series,\n",
            "   1588     version=Version.V1,\n",
            "   1589 )\n",
            "   1590 return _stableify(result)  # type: ignore[no-any-return]\n",
            "\n",
            "File c:\\Users\\DELL\\AppData\\Local\\Programs\\Python\\Python312\\Lib\\site-packages\\narwhals\\translate.py:490, in _from_native_impl(\n",
            "    native_object=   product_type    sku        price availability...          0      False  \n",
            "\n",
            "[100 rows x 30 columns],\n",
            "    pass_through=False,\n",
            "    eager_only=True,\n",
            "    eager_or_interchange_only=False,\n",
            "    series_only=False,\n",
            "    allow_series=None,\n",
            "    version=<Version.V1: 1>\n",
            ")\n",
            "    487         return native_object\n",
            "    488     pd = get_pandas()\n",
            "    489     return DataFrame(\n",
            "--> 490         PandasLikeDataFrame(\n",
            "        PandasLikeDataFrame = <class 'narwhals._pandas_like.dataframe.PandasLikeDataFrame'>\n",
            "        native_object =    product_type    sku        price availability number_of_products_sold  \\\n",
            "0      haircare   SKU0  69.80800554           55                     802   \n",
            "1      skincare   SKU1  14.84352328           95                     736   \n",
            "2      haircare   SKU2  11.31968329           34                     NAN   \n",
            "3      skincare   SKU3  61.16334302           68                     NaN   \n",
            "4      skincare   SKU4  4.805496036           26                     871   \n",
            "..          ...    ...          ...          ...                     ...   \n",
            "95     haircare  SKU95  77.90392722           65                     672   \n",
            "96    cosmetics  SKU96  24.42313142           29                     324   \n",
            "97     haircare  SKU97  3.526111259           56                      62   \n",
            "98     skincare  SKU98  19.75460487           43                     913   \n",
            "99     haircare  SKU99   68.5178327           17                     627   \n",
            "\n",
            "   revenue_generated customer_demographics  stock_levels lead_times  \\\n",
            "0        8661.996792            Non-binary            58          7   \n",
            "1        7460.900065                Female            53         30   \n",
            "2        9577.749626               Unknown             1         10   \n",
            "3                NAN            Non-binary            23         13   \n",
            "4        2686.505152            Non-binary             5          3   \n",
            "..               ...                   ...           ...        ...   \n",
            "95       7386.363944               Unknown            15         14   \n",
            "96       7698.424766            Non-binary            67          2   \n",
            "97        4370.91658                  Male            46         19   \n",
            "98        8525.95256                Female            53          1   \n",
            "99       9185.185829               Unknown            55          8   \n",
            "\n",
            "   order_quantities  ... defect_rates transportation_modes   routes  \\\n",
            "0                96  ...     0.226410                 Road  Route B   \n",
            "1                37  ...     4.854068                 Road  Route B   \n",
            "2                88  ...     4.580593                  Air  Route C   \n",
            "3                59  ...     4.746649                 Rail  Route A   \n",
            "4                56  ...     3.145580                  Air  Route A   \n",
            "..              ...  ...          ...                  ...      ...   \n",
            "95               26  ...     1.210882                  Air  Route A   \n",
            "96               32  ...     3.872048                 Road  Route A   \n",
            "97                4  ...     3.376238                 Road  Route A   \n",
            "98               27  ...     2.908122                 Rail  Route A   \n",
            "99               59  ...     0.346027                 Rail  Route B   \n",
            "\n",
            "          costs  missing_values duplicates  missing_values duplicates  \\\n",
            "0   187.7520755               0      False               0      False   \n",
            "1   503.0655791               0      False               0      False   \n",
            "2   141.9202818               0      False               0      False   \n",
            "3   254.7761592               1      False               1      False   \n",
            "4   923.4406317               0      False               0      False   \n",
            "..          ...             ...        ...             ...        ...   \n",
            "95  778.8642414               0      False               0      False   \n",
            "96          NAN               0      False               0      False   \n",
            "97  540.1324229               0      False               0      False   \n",
            "98  882.1988635               0      False               0      False   \n",
            "99   210.743009               0      False               0      False   \n",
            "\n",
            "    missing_values duplicates  \n",
            "0                0      False  \n",
            "1                0      False  \n",
            "2                0      False  \n",
            "3                1      False  \n",
            "4                0      False  \n",
            "..             ...        ...  \n",
            "95               0      False  \n",
            "96               0      False  \n",
            "97               0      False  \n",
            "98               0      False  \n",
            "99               0      False  \n",
            "\n",
            "[100 rows x 30 columns]\n",
            "        pd = <module 'pandas' from 'c:\\\\Users\\\\DELL\\\\AppData\\\\Local\\\\Programs\\\\Python\\\\Python312\\\\Lib\\\\site-packages\\\\pandas\\\\__init__.py'>\n",
            "        Implementation.PANDAS = <Implementation.PANDAS: 1>\n",
            "        version = <Version.V1: 1>\n",
            "    491             native_object,\n",
            "    492             backend_version=parse_version(pd),\n",
            "    493             implementation=Implementation.PANDAS,\n",
            "    494             version=version,\n",
            "    495             validate_column_names=True,\n",
            "    496         ),\n",
            "    497         level=\"full\",\n",
            "    498     )\n",
            "    499 elif is_pandas_series(native_object):\n",
            "    500     from narwhals._pandas_like.series import PandasLikeSeries\n",
            "\n",
            "File c:\\Users\\DELL\\AppData\\Local\\Programs\\Python\\Python312\\Lib\\site-packages\\narwhals\\_pandas_like\\dataframe.py:103, in PandasLikeDataFrame.__init__(\n",
            "    self=<narwhals._pandas_like.dataframe.PandasLikeDataFrame object>,\n",
            "    native_dataframe=   product_type    sku        price availability...          0      False  \n",
            "\n",
            "[100 rows x 30 columns],\n",
            "    implementation=<Implementation.PANDAS: 1>,\n",
            "    backend_version=(2, 2, 3),\n",
            "    version=<Version.V1: 1>,\n",
            "    validate_column_names=True\n",
            ")\n",
            "    101 validate_backend_version(self._implementation, self._backend_version)\n",
            "    102 if validate_column_names:\n",
            "--> 103     check_column_names_are_unique(native_dataframe.columns)\n",
            "        native_dataframe =    product_type    sku        price availability number_of_products_sold  \\\n",
            "0      haircare   SKU0  69.80800554           55                     802   \n",
            "1      skincare   SKU1  14.84352328           95                     736   \n",
            "2      haircare   SKU2  11.31968329           34                     NAN   \n",
            "3      skincare   SKU3  61.16334302           68                     NaN   \n",
            "4      skincare   SKU4  4.805496036           26                     871   \n",
            "..          ...    ...          ...          ...                     ...   \n",
            "95     haircare  SKU95  77.90392722           65                     672   \n",
            "96    cosmetics  SKU96  24.42313142           29                     324   \n",
            "97     haircare  SKU97  3.526111259           56                      62   \n",
            "98     skincare  SKU98  19.75460487           43                     913   \n",
            "99     haircare  SKU99   68.5178327           17                     627   \n",
            "\n",
            "   revenue_generated customer_demographics  stock_levels lead_times  \\\n",
            "0        8661.996792            Non-binary            58          7   \n",
            "1        7460.900065                Female            53         30   \n",
            "2        9577.749626               Unknown             1         10   \n",
            "3                NAN            Non-binary            23         13   \n",
            "4        2686.505152            Non-binary             5          3   \n",
            "..               ...                   ...           ...        ...   \n",
            "95       7386.363944               Unknown            15         14   \n",
            "96       7698.424766            Non-binary            67          2   \n",
            "97        4370.91658                  Male            46         19   \n",
            "98        8525.95256                Female            53          1   \n",
            "99       9185.185829               Unknown            55          8   \n",
            "\n",
            "   order_quantities  ... defect_rates transportation_modes   routes  \\\n",
            "0                96  ...     0.226410                 Road  Route B   \n",
            "1                37  ...     4.854068                 Road  Route B   \n",
            "2                88  ...     4.580593                  Air  Route C   \n",
            "3                59  ...     4.746649                 Rail  Route A   \n",
            "4                56  ...     3.145580                  Air  Route A   \n",
            "..              ...  ...          ...                  ...      ...   \n",
            "95               26  ...     1.210882                  Air  Route A   \n",
            "96               32  ...     3.872048                 Road  Route A   \n",
            "97                4  ...     3.376238                 Road  Route A   \n",
            "98               27  ...     2.908122                 Rail  Route A   \n",
            "99               59  ...     0.346027                 Rail  Route B   \n",
            "\n",
            "          costs  missing_values duplicates  missing_values duplicates  \\\n",
            "0   187.7520755               0      False               0      False   \n",
            "1   503.0655791               0      False               0      False   \n",
            "2   141.9202818               0      False               0      False   \n",
            "3   254.7761592               1      False               1      False   \n",
            "4   923.4406317               0      False               0      False   \n",
            "..          ...             ...        ...             ...        ...   \n",
            "95  778.8642414               0      False               0      False   \n",
            "96          NAN               0      False               0      False   \n",
            "97  540.1324229               0      False               0      False   \n",
            "98  882.1988635               0      False               0      False   \n",
            "99   210.743009               0      False               0      False   \n",
            "\n",
            "    missing_values duplicates  \n",
            "0                0      False  \n",
            "1                0      False  \n",
            "2                0      False  \n",
            "3                1      False  \n",
            "4                0      False  \n",
            "..             ...        ...  \n",
            "95               0      False  \n",
            "96               0      False  \n",
            "97               0      False  \n",
            "98               0      False  \n",
            "99               0      False  \n",
            "\n",
            "[100 rows x 30 columns]\n",
            "\n",
            "File c:\\Users\\DELL\\AppData\\Local\\Programs\\Python\\Python312\\Lib\\site-packages\\narwhals\\_pandas_like\\utils.py:879, in check_column_names_are_unique(\n",
            "    columns=Index(['product_type', 'sku', 'price', 'availabi...ues',\n",
            "       'duplicates'],\n",
            "      dtype='object')\n",
            ")\n",
            "    877         msg += f\"\\n- '{key}' {value} times\"\n",
            "    878 msg = f\"Expected unique column names, got:{msg}\"\n",
            "--> 879 raise DuplicateError(msg)\n",
            "        msg = \"Expected unique column names, got:\\n- 'missing_values' 3 times\\n- 'duplicates' 3 times\"\n",
            "\n",
            "DuplicateError: Expected unique column names, got:\n",
            "- 'missing_values' 3 times\n",
            "- 'duplicates' 3 times\n",
            "\n"
          ]
        }
      ],
      "source": [
        "!pip install dash\n",
        "import pandas as pd\n",
        "import dash\n",
        "from dash import dcc, html, dash_table\n",
        "from dash.dependencies import Input, Output\n",
        "import plotly.express as px\n",
        "\n",
        "# Perform basic validation\n",
        "data['Missing Values'] = data.isnull().sum(axis=1)\n",
        "data['Duplicates'] = data.duplicated()\n",
        "\n",
        "# Standardization (Example: Converting column names to lowercase)\n",
        "data.columns = data.columns.str.lower().str.replace(\" \", \"_\")\n",
        "\n",
        "# Create Dash app\n",
        "# Changed _name_ to '__main__'\n",
        "app = dash.Dash(__name__)\n",
        "\n",
        "app.layout = html.Div([\n",
        "    html.H1(\"AI-Powered Data Validation & Standardization\"),\n",
        "\n",
        "    # Table to show raw data\n",
        "    html.H3(\"Raw Data\"),\n",
        "    dash_table.DataTable(\n",
        "        data=data.head(10).to_dict('records'),\n",
        "        columns=[{\"name\": i, \"id\": i} for i in data.columns],\n",
        "        page_size=10\n",
        "    ),\n",
        "\n",
        "    # Data Validation Summary\n",
        "    html.H3(\"Validation Summary\"),\n",
        "    dash_table.DataTable(\n",
        "        data=pd.DataFrame({\n",
        "            \"Missing Values\": [data.isnull().sum().sum()],\n",
        "            \"Duplicate Rows\": [data.duplicated().sum()]\n",
        "        }).to_dict('records'),\n",
        "        columns=[{\"name\": i, \"id\": i} for i in [\"Missing Values\", \"Duplicate Rows\"]]\n",
        "    ),\n",
        "\n",
        "    # Standardization: Before and After (Example)\n",
        "    html.H3(\"Standardization Example\"),\n",
        "    html.P(\"Column Names Standardized (Lowercase, Underscores)\"),\n",
        "    html.Pre(str(data.columns.tolist())),\n",
        "\n",
        "    # Anomaly Detection (Example: Outlier in a Numerical Column)\n",
        "    html.H3(\"Anomaly Detection\"),\n",
        "    dcc.Dropdown(\n",
        "        id=\"num_column\",\n",
        "        options=[{\"label\": col, \"value\": col} for col in data.select_dtypes(include=['number']).columns],\n",
        "        value=data.select_dtypes(include=['number']).columns[0] if not data.select_dtypes(include=['number']).empty else None,\n",
        "        placeholder=\"Select a numerical column\"\n",
        "    ),\n",
        "    dcc.Graph(id=\"boxplot\")\n",
        "])\n",
        "\n",
        "@app.callback(\n",
        "    Output(\"boxplot\", \"figure\"),\n",
        "    Input(\"num_column\", \"value\")\n",
        ")\n",
        "def update_graph(selected_col):\n",
        "    if selected_col:\n",
        "        fig = px.box(data, y=selected_col, title=f\"Outlier Detection in {selected_col}\")\n",
        "        return fig\n",
        "    return {}\n",
        "\n",
        "# Run the app\n",
        "if __name__ == '__main__':\n",
        "    app.run_server(debug=True)"
      ]
    }
  ],
  "metadata": {
    "colab": {
      "provenance": []
    },
    "kernelspec": {
      "display_name": "Python 3",
      "name": "python3"
    },
    "language_info": {
      "codemirror_mode": {
        "name": "ipython",
        "version": 3
      },
      "file_extension": ".py",
      "mimetype": "text/x-python",
      "name": "python",
      "nbconvert_exporter": "python",
      "pygments_lexer": "ipython3",
      "version": "3.12.4"
    }
  },
  "nbformat": 4,
  "nbformat_minor": 0
}
